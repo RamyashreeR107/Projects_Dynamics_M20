{
 "cells": [
  {
   "cell_type": "markdown",
   "metadata": {},
   "source": [
    "<h1>Project 5</h1>"
   ]
  },
  {
   "cell_type": "markdown",
   "metadata": {},
   "source": [
    "<h2>Heart Disease</h2>"
   ]
  },
  {
   "cell_type": "markdown",
   "metadata": {},
   "source": [
    "<img src=\"https://cdn.pixabay.com/photo/2016/03/29/08/48/project-1287781_1280.jpg\">"
   ]
  },
  {
   "cell_type": "markdown",
   "metadata": {},
   "source": [
    "***First importing necessary packages***"
   ]
  },
  {
   "cell_type": "code",
   "execution_count": 1,
   "metadata": {},
   "outputs": [],
   "source": [
    "import pandas as pd\n",
    "import numpy as np\n",
    "import seaborn as sns\n",
    "import matplotlib.pyplot as plt\n",
    "%matplotlib inline\n",
    "sns.set()\n",
    "import warnings\n",
    "warnings.filterwarnings(\"ignore\")"
   ]
  },
  {
   "cell_type": "markdown",
   "metadata": {},
   "source": [
    "***Importing data which is in csv format***"
   ]
  },
  {
   "cell_type": "code",
   "execution_count": 2,
   "metadata": {},
   "outputs": [
    {
     "data": {
      "text/html": [
       "<div>\n",
       "<style scoped>\n",
       "    .dataframe tbody tr th:only-of-type {\n",
       "        vertical-align: middle;\n",
       "    }\n",
       "\n",
       "    .dataframe tbody tr th {\n",
       "        vertical-align: top;\n",
       "    }\n",
       "\n",
       "    .dataframe thead th {\n",
       "        text-align: right;\n",
       "    }\n",
       "</style>\n",
       "<table border=\"1\" class=\"dataframe\">\n",
       "  <thead>\n",
       "    <tr style=\"text-align: right;\">\n",
       "      <th></th>\n",
       "      <th>0</th>\n",
       "      <th>1</th>\n",
       "      <th>2</th>\n",
       "      <th>3</th>\n",
       "      <th>4</th>\n",
       "      <th>5</th>\n",
       "      <th>6</th>\n",
       "      <th>7</th>\n",
       "      <th>8</th>\n",
       "      <th>9</th>\n",
       "      <th>10</th>\n",
       "      <th>11</th>\n",
       "      <th>12</th>\n",
       "      <th>13</th>\n",
       "    </tr>\n",
       "  </thead>\n",
       "  <tbody>\n",
       "    <tr>\n",
       "      <th>0</th>\n",
       "      <td>63</td>\n",
       "      <td>1</td>\n",
       "      <td>4</td>\n",
       "      <td>140</td>\n",
       "      <td>260</td>\n",
       "      <td>0</td>\n",
       "      <td>1</td>\n",
       "      <td>112</td>\n",
       "      <td>1</td>\n",
       "      <td>3</td>\n",
       "      <td>2</td>\n",
       "      <td>?</td>\n",
       "      <td>?</td>\n",
       "      <td>2</td>\n",
       "    </tr>\n",
       "    <tr>\n",
       "      <th>1</th>\n",
       "      <td>44</td>\n",
       "      <td>1</td>\n",
       "      <td>4</td>\n",
       "      <td>130</td>\n",
       "      <td>209</td>\n",
       "      <td>0</td>\n",
       "      <td>1</td>\n",
       "      <td>127</td>\n",
       "      <td>0</td>\n",
       "      <td>0</td>\n",
       "      <td>?</td>\n",
       "      <td>?</td>\n",
       "      <td>?</td>\n",
       "      <td>0</td>\n",
       "    </tr>\n",
       "    <tr>\n",
       "      <th>2</th>\n",
       "      <td>60</td>\n",
       "      <td>1</td>\n",
       "      <td>4</td>\n",
       "      <td>132</td>\n",
       "      <td>218</td>\n",
       "      <td>0</td>\n",
       "      <td>1</td>\n",
       "      <td>140</td>\n",
       "      <td>1</td>\n",
       "      <td>1.5</td>\n",
       "      <td>3</td>\n",
       "      <td>?</td>\n",
       "      <td>?</td>\n",
       "      <td>2</td>\n",
       "    </tr>\n",
       "    <tr>\n",
       "      <th>3</th>\n",
       "      <td>55</td>\n",
       "      <td>1</td>\n",
       "      <td>4</td>\n",
       "      <td>142</td>\n",
       "      <td>228</td>\n",
       "      <td>0</td>\n",
       "      <td>1</td>\n",
       "      <td>149</td>\n",
       "      <td>1</td>\n",
       "      <td>2.5</td>\n",
       "      <td>1</td>\n",
       "      <td>?</td>\n",
       "      <td>?</td>\n",
       "      <td>1</td>\n",
       "    </tr>\n",
       "    <tr>\n",
       "      <th>4</th>\n",
       "      <td>66</td>\n",
       "      <td>1</td>\n",
       "      <td>3</td>\n",
       "      <td>110</td>\n",
       "      <td>213</td>\n",
       "      <td>1</td>\n",
       "      <td>2</td>\n",
       "      <td>99</td>\n",
       "      <td>1</td>\n",
       "      <td>1.3</td>\n",
       "      <td>2</td>\n",
       "      <td>?</td>\n",
       "      <td>?</td>\n",
       "      <td>0</td>\n",
       "    </tr>\n",
       "  </tbody>\n",
       "</table>\n",
       "</div>"
      ],
      "text/plain": [
       "   0   1   2    3    4  5   6    7  8    9  10 11 12  13\n",
       "0  63   1   4  140  260  0   1  112  1    3  2  ?  ?   2\n",
       "1  44   1   4  130  209  0   1  127  0    0  ?  ?  ?   0\n",
       "2  60   1   4  132  218  0   1  140  1  1.5  3  ?  ?   2\n",
       "3  55   1   4  142  228  0   1  149  1  2.5  1  ?  ?   1\n",
       "4  66   1   3  110  213  1   2   99  1  1.3  2  ?  ?   0"
      ]
     },
     "execution_count": 2,
     "metadata": {},
     "output_type": "execute_result"
    }
   ],
   "source": [
    "df=pd.read_csv('Heart_Disease.csv',header=None)\n",
    "df.head()"
   ]
  },
  {
   "cell_type": "markdown",
   "metadata": {},
   "source": [
    "Lets give out dataset its column names so that data will make more sense"
   ]
  },
  {
   "cell_type": "code",
   "execution_count": 3,
   "metadata": {},
   "outputs": [
    {
     "data": {
      "text/html": [
       "<div>\n",
       "<style scoped>\n",
       "    .dataframe tbody tr th:only-of-type {\n",
       "        vertical-align: middle;\n",
       "    }\n",
       "\n",
       "    .dataframe tbody tr th {\n",
       "        vertical-align: top;\n",
       "    }\n",
       "\n",
       "    .dataframe thead th {\n",
       "        text-align: right;\n",
       "    }\n",
       "</style>\n",
       "<table border=\"1\" class=\"dataframe\">\n",
       "  <thead>\n",
       "    <tr style=\"text-align: right;\">\n",
       "      <th></th>\n",
       "      <th>age</th>\n",
       "      <th>sex</th>\n",
       "      <th>cp</th>\n",
       "      <th>trestbps</th>\n",
       "      <th>chol</th>\n",
       "      <th>fbs</th>\n",
       "      <th>restecg</th>\n",
       "      <th>thalach</th>\n",
       "      <th>exang</th>\n",
       "      <th>oldpeak</th>\n",
       "      <th>slope</th>\n",
       "      <th>ca</th>\n",
       "      <th>thal</th>\n",
       "      <th>target</th>\n",
       "    </tr>\n",
       "  </thead>\n",
       "  <tbody>\n",
       "    <tr>\n",
       "      <th>0</th>\n",
       "      <td>63</td>\n",
       "      <td>1</td>\n",
       "      <td>4</td>\n",
       "      <td>140</td>\n",
       "      <td>260</td>\n",
       "      <td>0</td>\n",
       "      <td>1</td>\n",
       "      <td>112</td>\n",
       "      <td>1</td>\n",
       "      <td>3</td>\n",
       "      <td>2</td>\n",
       "      <td>?</td>\n",
       "      <td>?</td>\n",
       "      <td>2</td>\n",
       "    </tr>\n",
       "    <tr>\n",
       "      <th>1</th>\n",
       "      <td>44</td>\n",
       "      <td>1</td>\n",
       "      <td>4</td>\n",
       "      <td>130</td>\n",
       "      <td>209</td>\n",
       "      <td>0</td>\n",
       "      <td>1</td>\n",
       "      <td>127</td>\n",
       "      <td>0</td>\n",
       "      <td>0</td>\n",
       "      <td>?</td>\n",
       "      <td>?</td>\n",
       "      <td>?</td>\n",
       "      <td>0</td>\n",
       "    </tr>\n",
       "    <tr>\n",
       "      <th>2</th>\n",
       "      <td>60</td>\n",
       "      <td>1</td>\n",
       "      <td>4</td>\n",
       "      <td>132</td>\n",
       "      <td>218</td>\n",
       "      <td>0</td>\n",
       "      <td>1</td>\n",
       "      <td>140</td>\n",
       "      <td>1</td>\n",
       "      <td>1.5</td>\n",
       "      <td>3</td>\n",
       "      <td>?</td>\n",
       "      <td>?</td>\n",
       "      <td>2</td>\n",
       "    </tr>\n",
       "    <tr>\n",
       "      <th>3</th>\n",
       "      <td>55</td>\n",
       "      <td>1</td>\n",
       "      <td>4</td>\n",
       "      <td>142</td>\n",
       "      <td>228</td>\n",
       "      <td>0</td>\n",
       "      <td>1</td>\n",
       "      <td>149</td>\n",
       "      <td>1</td>\n",
       "      <td>2.5</td>\n",
       "      <td>1</td>\n",
       "      <td>?</td>\n",
       "      <td>?</td>\n",
       "      <td>1</td>\n",
       "    </tr>\n",
       "    <tr>\n",
       "      <th>4</th>\n",
       "      <td>66</td>\n",
       "      <td>1</td>\n",
       "      <td>3</td>\n",
       "      <td>110</td>\n",
       "      <td>213</td>\n",
       "      <td>1</td>\n",
       "      <td>2</td>\n",
       "      <td>99</td>\n",
       "      <td>1</td>\n",
       "      <td>1.3</td>\n",
       "      <td>2</td>\n",
       "      <td>?</td>\n",
       "      <td>?</td>\n",
       "      <td>0</td>\n",
       "    </tr>\n",
       "  </tbody>\n",
       "</table>\n",
       "</div>"
      ],
      "text/plain": [
       "   age  sex  cp trestbps chol fbs  restecg thalach exang oldpeak slope ca  \\\n",
       "0   63    1   4      140  260   0        1     112     1       3     2  ?   \n",
       "1   44    1   4      130  209   0        1     127     0       0     ?  ?   \n",
       "2   60    1   4      132  218   0        1     140     1     1.5     3  ?   \n",
       "3   55    1   4      142  228   0        1     149     1     2.5     1  ?   \n",
       "4   66    1   3      110  213   1        2      99     1     1.3     2  ?   \n",
       "\n",
       "  thal  target  \n",
       "0    ?       2  \n",
       "1    ?       0  \n",
       "2    ?       2  \n",
       "3    ?       1  \n",
       "4    ?       0  "
      ]
     },
     "execution_count": 3,
     "metadata": {},
     "output_type": "execute_result"
    }
   ],
   "source": [
    "df.columns=['age','sex','cp','trestbps','chol','fbs','restecg','thalach','exang','oldpeak','slope','ca','thal','target']\n",
    "df.head()"
   ]
  },
  {
   "cell_type": "markdown",
   "metadata": {},
   "source": [
    "<h2>Start of EDA process</h2>"
   ]
  },
  {
   "cell_type": "markdown",
   "metadata": {},
   "source": [
    "***Checking shape of the Dataset***"
   ]
  },
  {
   "cell_type": "code",
   "execution_count": 4,
   "metadata": {},
   "outputs": [
    {
     "data": {
      "text/plain": [
       "(200, 14)"
      ]
     },
     "execution_count": 4,
     "metadata": {},
     "output_type": "execute_result"
    }
   ],
   "source": [
    "df.shape"
   ]
  },
  {
   "cell_type": "markdown",
   "metadata": {},
   "source": [
    "***Checking data types and null count of the columns***"
   ]
  },
  {
   "cell_type": "code",
   "execution_count": 5,
   "metadata": {},
   "outputs": [
    {
     "name": "stdout",
     "output_type": "stream",
     "text": [
      "<class 'pandas.core.frame.DataFrame'>\n",
      "RangeIndex: 200 entries, 0 to 199\n",
      "Data columns (total 14 columns):\n",
      " #   Column    Non-Null Count  Dtype \n",
      "---  ------    --------------  ----- \n",
      " 0   age       200 non-null    int64 \n",
      " 1   sex       200 non-null    int64 \n",
      " 2   cp        200 non-null    int64 \n",
      " 3   trestbps  200 non-null    object\n",
      " 4   chol      200 non-null    object\n",
      " 5   fbs       200 non-null    object\n",
      " 6   restecg   200 non-null    int64 \n",
      " 7   thalach   200 non-null    object\n",
      " 8   exang     200 non-null    object\n",
      " 9   oldpeak   200 non-null    object\n",
      " 10  slope     200 non-null    object\n",
      " 11  ca        200 non-null    object\n",
      " 12  thal      200 non-null    object\n",
      " 13  target    200 non-null    int64 \n",
      "dtypes: int64(5), object(9)\n",
      "memory usage: 22.0+ KB\n"
     ]
    }
   ],
   "source": [
    "df.info()"
   ]
  },
  {
   "cell_type": "markdown",
   "metadata": {},
   "source": [
    "There are lot of missing values, since datatype is object and it is showing as ?."
   ]
  },
  {
   "cell_type": "code",
   "execution_count": 6,
   "metadata": {},
   "outputs": [
    {
     "data": {
      "text/plain": [
       "<matplotlib.axes._subplots.AxesSubplot at 0x2716cd497c0>"
      ]
     },
     "execution_count": 6,
     "metadata": {},
     "output_type": "execute_result"
    },
    {
     "data": {
      "image/png": "[encoded data removed]",
      "text/plain": [
       "<Figure size 432x288 with 1 Axes>"
      ]
     },
     "metadata": {},
     "output_type": "display_data"
    }
   ],
   "source": [
    "sns.countplot(df['ca'])"
   ]
  },
  {
   "cell_type": "markdown",
   "metadata": {},
   "source": [
    "In column ca missing values are too high, its not a good idea to replace this since we don't have enough information, so lets drop this column"
   ]
  },
  {
   "cell_type": "code",
   "execution_count": 7,
   "metadata": {},
   "outputs": [
    {
     "data": {
      "text/plain": [
       "<matplotlib.axes._subplots.AxesSubplot at 0x2716cd29dc0>"
      ]
     },
     "execution_count": 7,
     "metadata": {},
     "output_type": "execute_result"
    },
    {
     "data": {
      "image/png": "[encoded data removed]",
      "text/plain": [
       "<Figure size 432x288 with 1 Axes>"
      ]
     },
     "metadata": {},
     "output_type": "display_data"
    }
   ],
   "source": [
    "sns.countplot(df['thal'])"
   ]
  },
  {
   "cell_type": "markdown",
   "metadata": {},
   "source": [
    "In column thal missing values are too high, its not a good idea to replace this since we don't have enough information, so lets drop this column"
   ]
  },
  {
   "cell_type": "code",
   "execution_count": 8,
   "metadata": {},
   "outputs": [
    {
     "data": {
      "text/plain": [
       "<matplotlib.axes._subplots.AxesSubplot at 0x2716d4742e0>"
      ]
     },
     "execution_count": 8,
     "metadata": {},
     "output_type": "execute_result"
    },
    {
     "data": {
      "image/png": "[encoded data removed]",
      "text/plain": [
       "<Figure size 432x288 with 1 Axes>"
      ]
     },
     "metadata": {},
     "output_type": "display_data"
    }
   ],
   "source": [
    "sns.countplot(df['slope'])"
   ]
  },
  {
   "cell_type": "markdown",
   "metadata": {},
   "source": [
    "In column thal missing values are too high, its not a good idea to replace this since we don't have enough information, so lets drop this column"
   ]
  },
  {
   "cell_type": "code",
   "execution_count": 9,
   "metadata": {},
   "outputs": [
    {
     "data": {
      "text/html": [
       "<div>\n",
       "<style scoped>\n",
       "    .dataframe tbody tr th:only-of-type {\n",
       "        vertical-align: middle;\n",
       "    }\n",
       "\n",
       "    .dataframe tbody tr th {\n",
       "        vertical-align: top;\n",
       "    }\n",
       "\n",
       "    .dataframe thead th {\n",
       "        text-align: right;\n",
       "    }\n",
       "</style>\n",
       "<table border=\"1\" class=\"dataframe\">\n",
       "  <thead>\n",
       "    <tr style=\"text-align: right;\">\n",
       "      <th></th>\n",
       "      <th>age</th>\n",
       "      <th>sex</th>\n",
       "      <th>cp</th>\n",
       "      <th>trestbps</th>\n",
       "      <th>chol</th>\n",
       "      <th>fbs</th>\n",
       "      <th>restecg</th>\n",
       "      <th>thalach</th>\n",
       "      <th>exang</th>\n",
       "      <th>oldpeak</th>\n",
       "      <th>target</th>\n",
       "    </tr>\n",
       "  </thead>\n",
       "  <tbody>\n",
       "    <tr>\n",
       "      <th>0</th>\n",
       "      <td>63</td>\n",
       "      <td>1</td>\n",
       "      <td>4</td>\n",
       "      <td>140</td>\n",
       "      <td>260</td>\n",
       "      <td>0</td>\n",
       "      <td>1</td>\n",
       "      <td>112</td>\n",
       "      <td>1</td>\n",
       "      <td>3</td>\n",
       "      <td>2</td>\n",
       "    </tr>\n",
       "    <tr>\n",
       "      <th>1</th>\n",
       "      <td>44</td>\n",
       "      <td>1</td>\n",
       "      <td>4</td>\n",
       "      <td>130</td>\n",
       "      <td>209</td>\n",
       "      <td>0</td>\n",
       "      <td>1</td>\n",
       "      <td>127</td>\n",
       "      <td>0</td>\n",
       "      <td>0</td>\n",
       "      <td>0</td>\n",
       "    </tr>\n",
       "    <tr>\n",
       "      <th>2</th>\n",
       "      <td>60</td>\n",
       "      <td>1</td>\n",
       "      <td>4</td>\n",
       "      <td>132</td>\n",
       "      <td>218</td>\n",
       "      <td>0</td>\n",
       "      <td>1</td>\n",
       "      <td>140</td>\n",
       "      <td>1</td>\n",
       "      <td>1.5</td>\n",
       "      <td>2</td>\n",
       "    </tr>\n",
       "    <tr>\n",
       "      <th>3</th>\n",
       "      <td>55</td>\n",
       "      <td>1</td>\n",
       "      <td>4</td>\n",
       "      <td>142</td>\n",
       "      <td>228</td>\n",
       "      <td>0</td>\n",
       "      <td>1</td>\n",
       "      <td>149</td>\n",
       "      <td>1</td>\n",
       "      <td>2.5</td>\n",
       "      <td>1</td>\n",
       "    </tr>\n",
       "    <tr>\n",
       "      <th>4</th>\n",
       "      <td>66</td>\n",
       "      <td>1</td>\n",
       "      <td>3</td>\n",
       "      <td>110</td>\n",
       "      <td>213</td>\n",
       "      <td>1</td>\n",
       "      <td>2</td>\n",
       "      <td>99</td>\n",
       "      <td>1</td>\n",
       "      <td>1.3</td>\n",
       "      <td>0</td>\n",
       "    </tr>\n",
       "  </tbody>\n",
       "</table>\n",
       "</div>"
      ],
      "text/plain": [
       "   age  sex  cp trestbps chol fbs  restecg thalach exang oldpeak  target\n",
       "0   63    1   4      140  260   0        1     112     1       3       2\n",
       "1   44    1   4      130  209   0        1     127     0       0       0\n",
       "2   60    1   4      132  218   0        1     140     1     1.5       2\n",
       "3   55    1   4      142  228   0        1     149     1     2.5       1\n",
       "4   66    1   3      110  213   1        2      99     1     1.3       0"
      ]
     },
     "execution_count": 9,
     "metadata": {},
     "output_type": "execute_result"
    }
   ],
   "source": [
    "df=df[['age','sex','cp','trestbps','chol','fbs','restecg','thalach','exang','oldpeak','target']]\n",
    "df.head()"
   ]
  },
  {
   "cell_type": "code",
   "execution_count": 10,
   "metadata": {},
   "outputs": [
    {
     "data": {
      "text/plain": [
       "(200, 11)"
      ]
     },
     "execution_count": 10,
     "metadata": {},
     "output_type": "execute_result"
    }
   ],
   "source": [
    "df.shape"
   ]
  },
  {
   "cell_type": "markdown",
   "metadata": {},
   "source": [
    "***Lets replace missing value with nan so that it will be easy for us to analyse***"
   ]
  },
  {
   "cell_type": "code",
   "execution_count": 11,
   "metadata": {},
   "outputs": [
    {
     "data": {
      "text/plain": [
       "age          0\n",
       "sex          0\n",
       "cp           0\n",
       "trestbps    56\n",
       "chol         7\n",
       "fbs          7\n",
       "restecg      0\n",
       "thalach     53\n",
       "exang       53\n",
       "oldpeak     56\n",
       "target       0\n",
       "dtype: int64"
      ]
     },
     "execution_count": 11,
     "metadata": {},
     "output_type": "execute_result"
    }
   ],
   "source": [
    "df.replace({'?': np.nan}, regex=False,inplace=True)\n",
    "df.isnull().sum()"
   ]
  },
  {
   "cell_type": "markdown",
   "metadata": {},
   "source": [
    "Lets first treat these Nan values"
   ]
  },
  {
   "cell_type": "code",
   "execution_count": 12,
   "metadata": {},
   "outputs": [
    {
     "data": {
      "text/plain": [
       "age         0\n",
       "sex         0\n",
       "cp          0\n",
       "trestbps    0\n",
       "chol        0\n",
       "fbs         0\n",
       "restecg     0\n",
       "thalach     0\n",
       "exang       0\n",
       "oldpeak     0\n",
       "target      0\n",
       "dtype: int64"
      ]
     },
     "execution_count": 12,
     "metadata": {},
     "output_type": "execute_result"
    }
   ],
   "source": [
    "df.dropna(subset=[\"trestbps\"], axis=0, inplace=True)\n",
    "df.dropna(subset=[\"oldpeak\"], axis=0, inplace=True)\n",
    "df.dropna(subset=[\"chol\"], axis=0, inplace=True)\n",
    "df.dropna(subset=[\"fbs\"], axis=0, inplace=True)\n",
    "df.isnull().sum()"
   ]
  },
  {
   "cell_type": "markdown",
   "metadata": {},
   "source": [
    "Dropping the row for missing values was better missing data was huge and replacing it with mean, median or mode would have corrupted our data made it biased"
   ]
  },
  {
   "cell_type": "code",
   "execution_count": 13,
   "metadata": {},
   "outputs": [
    {
     "data": {
      "text/plain": [
       "age          int64\n",
       "sex          int64\n",
       "cp           int64\n",
       "trestbps    object\n",
       "chol        object\n",
       "fbs         object\n",
       "restecg      int64\n",
       "thalach     object\n",
       "exang       object\n",
       "oldpeak     object\n",
       "target       int64\n",
       "dtype: object"
      ]
     },
     "execution_count": 13,
     "metadata": {},
     "output_type": "execute_result"
    }
   ],
   "source": [
    "df.dtypes"
   ]
  },
  {
   "cell_type": "markdown",
   "metadata": {},
   "source": [
    "***Lets convert the value in target values since our aim is only to attempting to distinguish presence (values 1,2,3,4) from absence (value 0).***"
   ]
  },
  {
   "cell_type": "code",
   "execution_count": 14,
   "metadata": {},
   "outputs": [
    {
     "data": {
      "text/plain": [
       "array([1, 0], dtype=int64)"
      ]
     },
     "execution_count": 14,
     "metadata": {},
     "output_type": "execute_result"
    }
   ],
   "source": [
    "df['target'] = df['target'].replace({2: 1})\n",
    "df['target'] = df['target'].replace({3: 1})\n",
    "df['target'] = df['target'].replace({4: 1})\n",
    "df['target'].unique()"
   ]
  },
  {
   "cell_type": "markdown",
   "metadata": {},
   "source": [
    "Now, our output will be clear, where 0 will indicate absence and 1 will indicate presence"
   ]
  },
  {
   "cell_type": "markdown",
   "metadata": {},
   "source": [
    "***Lets bring the whole data into same datatype***"
   ]
  },
  {
   "cell_type": "code",
   "execution_count": 15,
   "metadata": {},
   "outputs": [
    {
     "data": {
      "text/plain": [
       "age         float64\n",
       "sex         float64\n",
       "cp          float64\n",
       "trestbps    float64\n",
       "chol        float64\n",
       "fbs         float64\n",
       "restecg     float64\n",
       "thalach     float64\n",
       "exang       float64\n",
       "oldpeak     float64\n",
       "target      float64\n",
       "dtype: object"
      ]
     },
     "execution_count": 15,
     "metadata": {},
     "output_type": "execute_result"
    }
   ],
   "source": [
    "df=df.astype('float')\n",
    "df.dtypes"
   ]
  },
  {
   "cell_type": "markdown",
   "metadata": {},
   "source": [
    "***As we have drops rows, lets reset index***"
   ]
  },
  {
   "cell_type": "code",
   "execution_count": 16,
   "metadata": {},
   "outputs": [],
   "source": [
    "df.reset_index(drop=True, inplace=True)"
   ]
  },
  {
   "cell_type": "markdown",
   "metadata": {},
   "source": [
    "***Checking for outliers***"
   ]
  },
  {
   "cell_type": "markdown",
   "metadata": {},
   "source": [
    "*First we will check for outliers visually for each attributes, for this box plot is the best option*"
   ]
  },
  {
   "cell_type": "code",
   "execution_count": 17,
   "metadata": {},
   "outputs": [
    {
     "name": "stdout",
     "output_type": "stream",
     "text": [
      "AxesSubplot(0.125,0.125;0.775x0.755)\n"
     ]
    },
    {
     "data": {
      "image/png": "[encoded data removed]",
      "text/plain": [
       "<Figure size 432x288 with 1 Axes>"
      ]
     },
     "metadata": {},
     "output_type": "display_data"
    },
    {
     "name": "stdout",
     "output_type": "stream",
     "text": [
      "AxesSubplot(0.125,0.125;0.775x0.755)\n"
     ]
    },
    {
     "data": {
      "image/png": "[encoded data removed]",
      "text/plain": [
       "<Figure size 432x288 with 1 Axes>"
      ]
     },
     "metadata": {},
     "output_type": "display_data"
    },
    {
     "name": "stdout",
     "output_type": "stream",
     "text": [
      "AxesSubplot(0.125,0.125;0.775x0.755)\n"
     ]
    },
    {
     "data": {
      "image/png": "[encoded data removed]",
      "text/plain": [
       "<Figure size 432x288 with 1 Axes>"
      ]
     },
     "metadata": {},
     "output_type": "display_data"
    },
    {
     "name": "stdout",
     "output_type": "stream",
     "text": [
      "AxesSubplot(0.125,0.125;0.775x0.755)\n"
     ]
    },
    {
     "data": {
      "image/png": "[encoded data removed]",
      "text/plain": [
       "<Figure size 432x288 with 1 Axes>"
      ]
     },
     "metadata": {},
     "output_type": "display_data"
    },
    {
     "name": "stdout",
     "output_type": "stream",
     "text": [
      "AxesSubplot(0.125,0.125;0.775x0.755)\n"
     ]
    },
    {
     "data": {
      "image/png": "[encoded data removed]",
      "text/plain": [
       "<Figure size 432x288 with 1 Axes>"
      ]
     },
     "metadata": {},
     "output_type": "display_data"
    },
    {
     "name": "stdout",
     "output_type": "stream",
     "text": [
      "AxesSubplot(0.125,0.125;0.775x0.755)\n"
     ]
    },
    {
     "data": {
      "image/png": "[encoded data removed]",
      "text/plain": [
       "<Figure size 432x288 with 1 Axes>"
      ]
     },
     "metadata": {},
     "output_type": "display_data"
    },
    {
     "name": "stdout",
     "output_type": "stream",
     "text": [
      "AxesSubplot(0.125,0.125;0.775x0.755)\n"
     ]
    },
    {
     "data": {
      "image/png": "[encoded data removed]",
      "text/plain": [
       "<Figure size 432x288 with 1 Axes>"
      ]
     },
     "metadata": {},
     "output_type": "display_data"
    },
    {
     "name": "stdout",
     "output_type": "stream",
     "text": [
      "AxesSubplot(0.125,0.125;0.775x0.755)\n"
     ]
    },
    {
     "data": {
      "image/png": "[encoded data removed]",
      "text/plain": [
       "<Figure size 432x288 with 1 Axes>"
      ]
     },
     "metadata": {},
     "output_type": "display_data"
    },
    {
     "name": "stdout",
     "output_type": "stream",
     "text": [
      "AxesSubplot(0.125,0.125;0.775x0.755)\n"
     ]
    },
    {
     "data": {
      "image/png": "[encoded data removed]",
      "text/plain": [
       "<Figure size 432x288 with 1 Axes>"
      ]
     },
     "metadata": {},
     "output_type": "display_data"
    },
    {
     "name": "stdout",
     "output_type": "stream",
     "text": [
      "AxesSubplot(0.125,0.125;0.775x0.755)\n"
     ]
    },
    {
     "data": {
      "image/png": "[encoded data removed]",
      "text/plain": [
       "<Figure size 432x288 with 1 Axes>"
      ]
     },
     "metadata": {},
     "output_type": "display_data"
    },
    {
     "name": "stdout",
     "output_type": "stream",
     "text": [
      "AxesSubplot(0.125,0.125;0.775x0.755)\n"
     ]
    },
    {
     "data": {
      "image/png": "[encoded data removed]",
      "text/plain": [
       "<Figure size 432x288 with 1 Axes>"
      ]
     },
     "metadata": {},
     "output_type": "display_data"
    }
   ],
   "source": [
    "col=['age','sex','cp','trestbps','chol','fbs','restecg','thalach','exang','oldpeak','target']\n",
    "for i in range(0,11):\n",
    "    print(sns.boxplot(df[col[i]]))\n",
    "    plt.show()"
   ]
  },
  {
   "cell_type": "markdown",
   "metadata": {},
   "source": [
    "We can see visually that there are multiple dots outside the plot which are indicating outliers, here its huge"
   ]
  },
  {
   "cell_type": "markdown",
   "metadata": {},
   "source": [
    "*Now, we will remove these outliers using below code*"
   ]
  },
  {
   "cell_type": "code",
   "execution_count": 18,
   "metadata": {},
   "outputs": [
    {
     "name": "stdout",
     "output_type": "stream",
     "text": [
      "The shape of the dataset before removing outliers is (130, 11)\n",
      "The shape of the dataset after removing outliers is (121, 11)\n"
     ]
    }
   ],
   "source": [
    "from scipy.stats import zscore\n",
    "import numpy as np\n",
    "z = np.abs(zscore(df))\n",
    "print('The shape of the dataset before removing outliers is',df.shape)\n",
    "df_z = df[(z < 3).all(axis=1)]\n",
    "print('The shape of the dataset after removing outliers is',df_z.shape)\n",
    "df=df_z"
   ]
  },
  {
   "cell_type": "markdown",
   "metadata": {},
   "source": [
    "***Lets calculate correlation***"
   ]
  },
  {
   "cell_type": "code",
   "execution_count": 19,
   "metadata": {},
   "outputs": [
    {
     "data": {
      "text/html": [
       "<div>\n",
       "<style scoped>\n",
       "    .dataframe tbody tr th:only-of-type {\n",
       "        vertical-align: middle;\n",
       "    }\n",
       "\n",
       "    .dataframe tbody tr th {\n",
       "        vertical-align: top;\n",
       "    }\n",
       "\n",
       "    .dataframe thead th {\n",
       "        text-align: right;\n",
       "    }\n",
       "</style>\n",
       "<table border=\"1\" class=\"dataframe\">\n",
       "  <thead>\n",
       "    <tr style=\"text-align: right;\">\n",
       "      <th></th>\n",
       "      <th>age</th>\n",
       "      <th>sex</th>\n",
       "      <th>cp</th>\n",
       "      <th>trestbps</th>\n",
       "      <th>chol</th>\n",
       "      <th>fbs</th>\n",
       "      <th>restecg</th>\n",
       "      <th>thalach</th>\n",
       "      <th>exang</th>\n",
       "      <th>oldpeak</th>\n",
       "      <th>target</th>\n",
       "    </tr>\n",
       "  </thead>\n",
       "  <tbody>\n",
       "    <tr>\n",
       "      <th>age</th>\n",
       "      <td>1.000000</td>\n",
       "      <td>NaN</td>\n",
       "      <td>0.052670</td>\n",
       "      <td>0.240905</td>\n",
       "      <td>0.097546</td>\n",
       "      <td>0.174664</td>\n",
       "      <td>0.020194</td>\n",
       "      <td>-0.129308</td>\n",
       "      <td>0.201939</td>\n",
       "      <td>0.145939</td>\n",
       "      <td>0.176978</td>\n",
       "    </tr>\n",
       "    <tr>\n",
       "      <th>sex</th>\n",
       "      <td>NaN</td>\n",
       "      <td>NaN</td>\n",
       "      <td>NaN</td>\n",
       "      <td>NaN</td>\n",
       "      <td>NaN</td>\n",
       "      <td>NaN</td>\n",
       "      <td>NaN</td>\n",
       "      <td>NaN</td>\n",
       "      <td>NaN</td>\n",
       "      <td>NaN</td>\n",
       "      <td>NaN</td>\n",
       "    </tr>\n",
       "    <tr>\n",
       "      <th>cp</th>\n",
       "      <td>0.052670</td>\n",
       "      <td>NaN</td>\n",
       "      <td>1.000000</td>\n",
       "      <td>0.023227</td>\n",
       "      <td>0.082199</td>\n",
       "      <td>-0.118707</td>\n",
       "      <td>-0.065653</td>\n",
       "      <td>-0.088717</td>\n",
       "      <td>0.173885</td>\n",
       "      <td>0.186589</td>\n",
       "      <td>0.168723</td>\n",
       "    </tr>\n",
       "    <tr>\n",
       "      <th>trestbps</th>\n",
       "      <td>0.240905</td>\n",
       "      <td>NaN</td>\n",
       "      <td>0.023227</td>\n",
       "      <td>1.000000</td>\n",
       "      <td>0.127654</td>\n",
       "      <td>0.236290</td>\n",
       "      <td>0.102919</td>\n",
       "      <td>0.074128</td>\n",
       "      <td>0.235868</td>\n",
       "      <td>0.189635</td>\n",
       "      <td>0.163865</td>\n",
       "    </tr>\n",
       "    <tr>\n",
       "      <th>chol</th>\n",
       "      <td>0.097546</td>\n",
       "      <td>NaN</td>\n",
       "      <td>0.082199</td>\n",
       "      <td>0.127654</td>\n",
       "      <td>1.000000</td>\n",
       "      <td>0.124988</td>\n",
       "      <td>0.007478</td>\n",
       "      <td>-0.086626</td>\n",
       "      <td>0.120532</td>\n",
       "      <td>0.080695</td>\n",
       "      <td>0.097924</td>\n",
       "    </tr>\n",
       "    <tr>\n",
       "      <th>fbs</th>\n",
       "      <td>0.174664</td>\n",
       "      <td>NaN</td>\n",
       "      <td>-0.118707</td>\n",
       "      <td>0.236290</td>\n",
       "      <td>0.124988</td>\n",
       "      <td>1.000000</td>\n",
       "      <td>0.112227</td>\n",
       "      <td>0.076768</td>\n",
       "      <td>-0.181050</td>\n",
       "      <td>-0.094973</td>\n",
       "      <td>0.106034</td>\n",
       "    </tr>\n",
       "    <tr>\n",
       "      <th>restecg</th>\n",
       "      <td>0.020194</td>\n",
       "      <td>NaN</td>\n",
       "      <td>-0.065653</td>\n",
       "      <td>0.102919</td>\n",
       "      <td>0.007478</td>\n",
       "      <td>0.112227</td>\n",
       "      <td>1.000000</td>\n",
       "      <td>0.056559</td>\n",
       "      <td>-0.016253</td>\n",
       "      <td>-0.180215</td>\n",
       "      <td>-0.067766</td>\n",
       "    </tr>\n",
       "    <tr>\n",
       "      <th>thalach</th>\n",
       "      <td>-0.129308</td>\n",
       "      <td>NaN</td>\n",
       "      <td>-0.088717</td>\n",
       "      <td>0.074128</td>\n",
       "      <td>-0.086626</td>\n",
       "      <td>0.076768</td>\n",
       "      <td>0.056559</td>\n",
       "      <td>1.000000</td>\n",
       "      <td>-0.045468</td>\n",
       "      <td>0.214372</td>\n",
       "      <td>-0.015061</td>\n",
       "    </tr>\n",
       "    <tr>\n",
       "      <th>exang</th>\n",
       "      <td>0.201939</td>\n",
       "      <td>NaN</td>\n",
       "      <td>0.173885</td>\n",
       "      <td>0.235868</td>\n",
       "      <td>0.120532</td>\n",
       "      <td>-0.181050</td>\n",
       "      <td>-0.016253</td>\n",
       "      <td>-0.045468</td>\n",
       "      <td>1.000000</td>\n",
       "      <td>0.401254</td>\n",
       "      <td>0.309939</td>\n",
       "    </tr>\n",
       "    <tr>\n",
       "      <th>oldpeak</th>\n",
       "      <td>0.145939</td>\n",
       "      <td>NaN</td>\n",
       "      <td>0.186589</td>\n",
       "      <td>0.189635</td>\n",
       "      <td>0.080695</td>\n",
       "      <td>-0.094973</td>\n",
       "      <td>-0.180215</td>\n",
       "      <td>0.214372</td>\n",
       "      <td>0.401254</td>\n",
       "      <td>1.000000</td>\n",
       "      <td>0.226896</td>\n",
       "    </tr>\n",
       "    <tr>\n",
       "      <th>target</th>\n",
       "      <td>0.176978</td>\n",
       "      <td>NaN</td>\n",
       "      <td>0.168723</td>\n",
       "      <td>0.163865</td>\n",
       "      <td>0.097924</td>\n",
       "      <td>0.106034</td>\n",
       "      <td>-0.067766</td>\n",
       "      <td>-0.015061</td>\n",
       "      <td>0.309939</td>\n",
       "      <td>0.226896</td>\n",
       "      <td>1.000000</td>\n",
       "    </tr>\n",
       "  </tbody>\n",
       "</table>\n",
       "</div>"
      ],
      "text/plain": [
       "               age  sex        cp  trestbps      chol       fbs   restecg  \\\n",
       "age       1.000000  NaN  0.052670  0.240905  0.097546  0.174664  0.020194   \n",
       "sex            NaN  NaN       NaN       NaN       NaN       NaN       NaN   \n",
       "cp        0.052670  NaN  1.000000  0.023227  0.082199 -0.118707 -0.065653   \n",
       "trestbps  0.240905  NaN  0.023227  1.000000  0.127654  0.236290  0.102919   \n",
       "chol      0.097546  NaN  0.082199  0.127654  1.000000  0.124988  0.007478   \n",
       "fbs       0.174664  NaN -0.118707  0.236290  0.124988  1.000000  0.112227   \n",
       "restecg   0.020194  NaN -0.065653  0.102919  0.007478  0.112227  1.000000   \n",
       "thalach  -0.129308  NaN -0.088717  0.074128 -0.086626  0.076768  0.056559   \n",
       "exang     0.201939  NaN  0.173885  0.235868  0.120532 -0.181050 -0.016253   \n",
       "oldpeak   0.145939  NaN  0.186589  0.189635  0.080695 -0.094973 -0.180215   \n",
       "target    0.176978  NaN  0.168723  0.163865  0.097924  0.106034 -0.067766   \n",
       "\n",
       "           thalach     exang   oldpeak    target  \n",
       "age      -0.129308  0.201939  0.145939  0.176978  \n",
       "sex            NaN       NaN       NaN       NaN  \n",
       "cp       -0.088717  0.173885  0.186589  0.168723  \n",
       "trestbps  0.074128  0.235868  0.189635  0.163865  \n",
       "chol     -0.086626  0.120532  0.080695  0.097924  \n",
       "fbs       0.076768 -0.181050 -0.094973  0.106034  \n",
       "restecg   0.056559 -0.016253 -0.180215 -0.067766  \n",
       "thalach   1.000000 -0.045468  0.214372 -0.015061  \n",
       "exang    -0.045468  1.000000  0.401254  0.309939  \n",
       "oldpeak   0.214372  0.401254  1.000000  0.226896  \n",
       "target   -0.015061  0.309939  0.226896  1.000000  "
      ]
     },
     "execution_count": 19,
     "metadata": {},
     "output_type": "execute_result"
    }
   ],
   "source": [
    "df.corr()"
   ]
  },
  {
   "cell_type": "markdown",
   "metadata": {},
   "source": [
    "***Lets visualize using heat map as well***"
   ]
  },
  {
   "cell_type": "code",
   "execution_count": 20,
   "metadata": {},
   "outputs": [
    {
     "data": {
      "image/png": "[encoded data removed]",
      "text/plain": [
       "<Figure size 864x864 with 2 Axes>"
      ]
     },
     "metadata": {},
     "output_type": "display_data"
    }
   ],
   "source": [
    "corr = df.corr()\n",
    "mask = np.zeros_like(corr)\n",
    "mask[np.triu_indices_from(mask)] = True\n",
    "with sns.axes_style(\"white\"):\n",
    "    f, ax = plt.subplots(figsize=(12, 12))\n",
    "    ax = sns.heatmap(corr, mask=mask, vmax=.3, square=True,annot=True, linewidths=0.5,cmap=\"YlGnBu\")"
   ]
  },
  {
   "cell_type": "markdown",
   "metadata": {},
   "source": [
    "***Lets find out the columns that are not correlated with our output variables and which are not useful to us in any way***"
   ]
  },
  {
   "cell_type": "code",
   "execution_count": 21,
   "metadata": {},
   "outputs": [
    {
     "data": {
      "text/html": [
       "<div>\n",
       "<style scoped>\n",
       "    .dataframe tbody tr th:only-of-type {\n",
       "        vertical-align: middle;\n",
       "    }\n",
       "\n",
       "    .dataframe tbody tr th {\n",
       "        vertical-align: top;\n",
       "    }\n",
       "\n",
       "    .dataframe thead th {\n",
       "        text-align: right;\n",
       "    }\n",
       "</style>\n",
       "<table border=\"1\" class=\"dataframe\">\n",
       "  <thead>\n",
       "    <tr style=\"text-align: right;\">\n",
       "      <th></th>\n",
       "      <th>target</th>\n",
       "    </tr>\n",
       "  </thead>\n",
       "  <tbody>\n",
       "    <tr>\n",
       "      <th>age</th>\n",
       "      <td>0.176978</td>\n",
       "    </tr>\n",
       "    <tr>\n",
       "      <th>sex</th>\n",
       "      <td>NaN</td>\n",
       "    </tr>\n",
       "    <tr>\n",
       "      <th>cp</th>\n",
       "      <td>0.168723</td>\n",
       "    </tr>\n",
       "    <tr>\n",
       "      <th>trestbps</th>\n",
       "      <td>0.163865</td>\n",
       "    </tr>\n",
       "    <tr>\n",
       "      <th>chol</th>\n",
       "      <td>0.097924</td>\n",
       "    </tr>\n",
       "    <tr>\n",
       "      <th>fbs</th>\n",
       "      <td>0.106034</td>\n",
       "    </tr>\n",
       "    <tr>\n",
       "      <th>restecg</th>\n",
       "      <td>-0.067766</td>\n",
       "    </tr>\n",
       "    <tr>\n",
       "      <th>thalach</th>\n",
       "      <td>-0.015061</td>\n",
       "    </tr>\n",
       "    <tr>\n",
       "      <th>exang</th>\n",
       "      <td>0.309939</td>\n",
       "    </tr>\n",
       "    <tr>\n",
       "      <th>oldpeak</th>\n",
       "      <td>0.226896</td>\n",
       "    </tr>\n",
       "    <tr>\n",
       "      <th>target</th>\n",
       "      <td>1.000000</td>\n",
       "    </tr>\n",
       "  </tbody>\n",
       "</table>\n",
       "</div>"
      ],
      "text/plain": [
       "            target\n",
       "age       0.176978\n",
       "sex            NaN\n",
       "cp        0.168723\n",
       "trestbps  0.163865\n",
       "chol      0.097924\n",
       "fbs       0.106034\n",
       "restecg  -0.067766\n",
       "thalach  -0.015061\n",
       "exang     0.309939\n",
       "oldpeak   0.226896\n",
       "target    1.000000"
      ]
     },
     "execution_count": 21,
     "metadata": {},
     "output_type": "execute_result"
    }
   ],
   "source": [
    "df1=df.corr()\n",
    "#since we only care about the correlation with our output, lets separate it\n",
    "df2=df1.iloc[:,10:11]\n",
    "df2"
   ]
  },
  {
   "cell_type": "markdown",
   "metadata": {},
   "source": [
    "If the value is 0 there is no correlation, if value is 1 they are highly correlated."
   ]
  },
  {
   "cell_type": "markdown",
   "metadata": {},
   "source": [
    "***Lets set our threshold value as 0.1 and drop columns with value less than this considering they are not correlated***"
   ]
  },
  {
   "cell_type": "code",
   "execution_count": 22,
   "metadata": {},
   "outputs": [
    {
     "data": {
      "text/html": [
       "<div>\n",
       "<style scoped>\n",
       "    .dataframe tbody tr th:only-of-type {\n",
       "        vertical-align: middle;\n",
       "    }\n",
       "\n",
       "    .dataframe tbody tr th {\n",
       "        vertical-align: top;\n",
       "    }\n",
       "\n",
       "    .dataframe thead th {\n",
       "        text-align: right;\n",
       "    }\n",
       "</style>\n",
       "<table border=\"1\" class=\"dataframe\">\n",
       "  <thead>\n",
       "    <tr style=\"text-align: right;\">\n",
       "      <th></th>\n",
       "      <th>target</th>\n",
       "    </tr>\n",
       "  </thead>\n",
       "  <tbody>\n",
       "    <tr>\n",
       "      <th>age</th>\n",
       "      <td>False</td>\n",
       "    </tr>\n",
       "    <tr>\n",
       "      <th>sex</th>\n",
       "      <td>False</td>\n",
       "    </tr>\n",
       "    <tr>\n",
       "      <th>cp</th>\n",
       "      <td>False</td>\n",
       "    </tr>\n",
       "    <tr>\n",
       "      <th>trestbps</th>\n",
       "      <td>False</td>\n",
       "    </tr>\n",
       "    <tr>\n",
       "      <th>chol</th>\n",
       "      <td>True</td>\n",
       "    </tr>\n",
       "    <tr>\n",
       "      <th>fbs</th>\n",
       "      <td>False</td>\n",
       "    </tr>\n",
       "    <tr>\n",
       "      <th>restecg</th>\n",
       "      <td>True</td>\n",
       "    </tr>\n",
       "    <tr>\n",
       "      <th>thalach</th>\n",
       "      <td>True</td>\n",
       "    </tr>\n",
       "    <tr>\n",
       "      <th>exang</th>\n",
       "      <td>False</td>\n",
       "    </tr>\n",
       "    <tr>\n",
       "      <th>oldpeak</th>\n",
       "      <td>False</td>\n",
       "    </tr>\n",
       "    <tr>\n",
       "      <th>target</th>\n",
       "      <td>False</td>\n",
       "    </tr>\n",
       "  </tbody>\n",
       "</table>\n",
       "</div>"
      ],
      "text/plain": [
       "          target\n",
       "age        False\n",
       "sex        False\n",
       "cp         False\n",
       "trestbps   False\n",
       "chol        True\n",
       "fbs        False\n",
       "restecg     True\n",
       "thalach     True\n",
       "exang      False\n",
       "oldpeak    False\n",
       "target     False"
      ]
     },
     "execution_count": 22,
     "metadata": {},
     "output_type": "execute_result"
    }
   ],
   "source": [
    "np.abs(df2)<0.1"
   ]
  },
  {
   "cell_type": "markdown",
   "metadata": {},
   "source": [
    "From the above data we can see that chol,restecg,thalach are not correlated with target, hence we can drop them"
   ]
  },
  {
   "cell_type": "markdown",
   "metadata": {},
   "source": [
    "*We are using regplot here to visualize the same. There is a line that passes through the points in the plot which will give us an idea if that column is positively correlated or negatively correlated or not correlated at all.\n",
    "If the line comes close to horizontal, we can assume that its not correlated and drop such columns as those columns are not helping us in any way to make our prediction.*"
   ]
  },
  {
   "cell_type": "code",
   "execution_count": 23,
   "metadata": {},
   "outputs": [
    {
     "name": "stdout",
     "output_type": "stream",
     "text": [
      "AxesSubplot(0.125,0.125;0.775x0.755)\n"
     ]
    },
    {
     "data": {
      "image/png": "[encoded data removed]",
      "text/plain": [
       "<Figure size 432x288 with 1 Axes>"
      ]
     },
     "metadata": {},
     "output_type": "display_data"
    },
    {
     "name": "stdout",
     "output_type": "stream",
     "text": [
      "AxesSubplot(0.125,0.125;0.775x0.755)\n"
     ]
    },
    {
     "data": {
      "image/png": "[encoded data removed]",
      "text/plain": [
       "<Figure size 432x288 with 1 Axes>"
      ]
     },
     "metadata": {},
     "output_type": "display_data"
    },
    {
     "name": "stdout",
     "output_type": "stream",
     "text": [
      "AxesSubplot(0.125,0.125;0.775x0.755)\n"
     ]
    },
    {
     "data": {
      "image/png": "[encoded data removed]",
      "text/plain": [
       "<Figure size 432x288 with 1 Axes>"
      ]
     },
     "metadata": {},
     "output_type": "display_data"
    },
    {
     "name": "stdout",
     "output_type": "stream",
     "text": [
      "AxesSubplot(0.125,0.125;0.775x0.755)\n"
     ]
    },
    {
     "data": {
      "image/png": "[encoded data removed]",
      "text/plain": [
       "<Figure size 432x288 with 1 Axes>"
      ]
     },
     "metadata": {},
     "output_type": "display_data"
    },
    {
     "name": "stdout",
     "output_type": "stream",
     "text": [
      "AxesSubplot(0.125,0.125;0.775x0.755)\n"
     ]
    },
    {
     "data": {
      "image/png": "[encoded data removed]",
      "text/plain": [
       "<Figure size 432x288 with 1 Axes>"
      ]
     },
     "metadata": {},
     "output_type": "display_data"
    },
    {
     "name": "stdout",
     "output_type": "stream",
     "text": [
      "AxesSubplot(0.125,0.125;0.775x0.755)\n"
     ]
    },
    {
     "data": {
      "image/png": "[encoded data removed]",
      "text/plain": [
       "<Figure size 432x288 with 1 Axes>"
      ]
     },
     "metadata": {},
     "output_type": "display_data"
    },
    {
     "name": "stdout",
     "output_type": "stream",
     "text": [
      "AxesSubplot(0.125,0.125;0.775x0.755)\n"
     ]
    },
    {
     "data": {
      "image/png": "[encoded data removed]",
      "text/plain": [
       "<Figure size 432x288 with 1 Axes>"
      ]
     },
     "metadata": {},
     "output_type": "display_data"
    },
    {
     "name": "stdout",
     "output_type": "stream",
     "text": [
      "AxesSubplot(0.125,0.125;0.775x0.755)\n"
     ]
    },
    {
     "data": {
      "image/png": "[encoded data removed]",
      "text/plain": [
       "<Figure size 432x288 with 1 Axes>"
      ]
     },
     "metadata": {},
     "output_type": "display_data"
    }
   ],
   "source": [
    "col=['age','sex','cp','trestbps','chol','fbs','restecg','thalach','exang','oldpeak','target']\n",
    "\n",
    "for i in range(0,8):\n",
    "    print(sns.regplot(x=col[i],y=\"target\",data=df))\n",
    "    plt.show()"
   ]
  },
  {
   "cell_type": "markdown",
   "metadata": {},
   "source": [
    "***Separating our input and output features***"
   ]
  },
  {
   "cell_type": "code",
   "execution_count": 24,
   "metadata": {},
   "outputs": [
    {
     "data": {
      "text/html": [
       "<div>\n",
       "<style scoped>\n",
       "    .dataframe tbody tr th:only-of-type {\n",
       "        vertical-align: middle;\n",
       "    }\n",
       "\n",
       "    .dataframe tbody tr th {\n",
       "        vertical-align: top;\n",
       "    }\n",
       "\n",
       "    .dataframe thead th {\n",
       "        text-align: right;\n",
       "    }\n",
       "</style>\n",
       "<table border=\"1\" class=\"dataframe\">\n",
       "  <thead>\n",
       "    <tr style=\"text-align: right;\">\n",
       "      <th></th>\n",
       "      <th>age</th>\n",
       "      <th>sex</th>\n",
       "      <th>cp</th>\n",
       "      <th>trestbps</th>\n",
       "      <th>fbs</th>\n",
       "      <th>exang</th>\n",
       "      <th>oldpeak</th>\n",
       "    </tr>\n",
       "  </thead>\n",
       "  <tbody>\n",
       "    <tr>\n",
       "      <th>0</th>\n",
       "      <td>63.0</td>\n",
       "      <td>1.0</td>\n",
       "      <td>4.0</td>\n",
       "      <td>140.0</td>\n",
       "      <td>0.0</td>\n",
       "      <td>1.0</td>\n",
       "      <td>3.0</td>\n",
       "    </tr>\n",
       "    <tr>\n",
       "      <th>1</th>\n",
       "      <td>44.0</td>\n",
       "      <td>1.0</td>\n",
       "      <td>4.0</td>\n",
       "      <td>130.0</td>\n",
       "      <td>0.0</td>\n",
       "      <td>0.0</td>\n",
       "      <td>0.0</td>\n",
       "    </tr>\n",
       "    <tr>\n",
       "      <th>2</th>\n",
       "      <td>60.0</td>\n",
       "      <td>1.0</td>\n",
       "      <td>4.0</td>\n",
       "      <td>132.0</td>\n",
       "      <td>0.0</td>\n",
       "      <td>1.0</td>\n",
       "      <td>1.5</td>\n",
       "    </tr>\n",
       "    <tr>\n",
       "      <th>3</th>\n",
       "      <td>55.0</td>\n",
       "      <td>1.0</td>\n",
       "      <td>4.0</td>\n",
       "      <td>142.0</td>\n",
       "      <td>0.0</td>\n",
       "      <td>1.0</td>\n",
       "      <td>2.5</td>\n",
       "    </tr>\n",
       "    <tr>\n",
       "      <th>4</th>\n",
       "      <td>66.0</td>\n",
       "      <td>1.0</td>\n",
       "      <td>3.0</td>\n",
       "      <td>110.0</td>\n",
       "      <td>1.0</td>\n",
       "      <td>1.0</td>\n",
       "      <td>1.3</td>\n",
       "    </tr>\n",
       "  </tbody>\n",
       "</table>\n",
       "</div>"
      ],
      "text/plain": [
       "    age  sex   cp  trestbps  fbs  exang  oldpeak\n",
       "0  63.0  1.0  4.0     140.0  0.0    1.0      3.0\n",
       "1  44.0  1.0  4.0     130.0  0.0    0.0      0.0\n",
       "2  60.0  1.0  4.0     132.0  0.0    1.0      1.5\n",
       "3  55.0  1.0  4.0     142.0  0.0    1.0      2.5\n",
       "4  66.0  1.0  3.0     110.0  1.0    1.0      1.3"
      ]
     },
     "execution_count": 24,
     "metadata": {},
     "output_type": "execute_result"
    }
   ],
   "source": [
    "x=df[['age','sex','cp','trestbps','fbs','exang','oldpeak']]\n",
    "x.head()"
   ]
  },
  {
   "cell_type": "code",
   "execution_count": 25,
   "metadata": {},
   "outputs": [
    {
     "data": {
      "text/html": [
       "<div>\n",
       "<style scoped>\n",
       "    .dataframe tbody tr th:only-of-type {\n",
       "        vertical-align: middle;\n",
       "    }\n",
       "\n",
       "    .dataframe tbody tr th {\n",
       "        vertical-align: top;\n",
       "    }\n",
       "\n",
       "    .dataframe thead th {\n",
       "        text-align: right;\n",
       "    }\n",
       "</style>\n",
       "<table border=\"1\" class=\"dataframe\">\n",
       "  <thead>\n",
       "    <tr style=\"text-align: right;\">\n",
       "      <th></th>\n",
       "      <th>target</th>\n",
       "    </tr>\n",
       "  </thead>\n",
       "  <tbody>\n",
       "    <tr>\n",
       "      <th>0</th>\n",
       "      <td>1.0</td>\n",
       "    </tr>\n",
       "    <tr>\n",
       "      <th>1</th>\n",
       "      <td>0.0</td>\n",
       "    </tr>\n",
       "    <tr>\n",
       "      <th>2</th>\n",
       "      <td>1.0</td>\n",
       "    </tr>\n",
       "    <tr>\n",
       "      <th>3</th>\n",
       "      <td>1.0</td>\n",
       "    </tr>\n",
       "    <tr>\n",
       "      <th>4</th>\n",
       "      <td>0.0</td>\n",
       "    </tr>\n",
       "  </tbody>\n",
       "</table>\n",
       "</div>"
      ],
      "text/plain": [
       "   target\n",
       "0     1.0\n",
       "1     0.0\n",
       "2     1.0\n",
       "3     1.0\n",
       "4     0.0"
      ]
     },
     "execution_count": 25,
     "metadata": {},
     "output_type": "execute_result"
    }
   ],
   "source": [
    "y=df[['target']]\n",
    "y.head()"
   ]
  },
  {
   "cell_type": "markdown",
   "metadata": {},
   "source": [
    "***Lets check for skewness in our input features***"
   ]
  },
  {
   "cell_type": "code",
   "execution_count": 26,
   "metadata": {},
   "outputs": [
    {
     "data": {
      "text/plain": [
       "age        -0.533837\n",
       "sex         0.000000\n",
       "cp         -1.912682\n",
       "trestbps    0.563417\n",
       "fbs         0.811368\n",
       "exang      -0.769955\n",
       "oldpeak     0.448140\n",
       "dtype: float64"
      ]
     },
     "execution_count": 26,
     "metadata": {},
     "output_type": "execute_result"
    }
   ],
   "source": [
    "x.skew()"
   ]
  },
  {
   "cell_type": "markdown",
   "metadata": {},
   "source": [
    "***Lets scale our data using standard scalar***"
   ]
  },
  {
   "cell_type": "code",
   "execution_count": 27,
   "metadata": {},
   "outputs": [
    {
     "data": {
      "text/plain": [
       "array([[ 0.43926482,  0.        ,  0.5       ,  0.24322063, -0.67663234,\n",
       "         0.68964466,  1.53816781],\n",
       "       [-1.98248537,  0.        ,  0.5       , -0.29381763, -0.67663234,\n",
       "        -1.4500221 , -1.12319976],\n",
       "       [ 0.05688321,  0.        ,  0.5       , -0.18640998, -0.67663234,\n",
       "         0.68964466,  0.20748403],\n",
       "       [-0.58041947,  0.        ,  0.5       ,  0.35062829, -0.67663234,\n",
       "         0.68964466,  1.09460655],\n",
       "       [ 0.82164643,  0.        , -1.33333333, -1.36789415,  1.47790748,\n",
       "         0.68964466,  0.03005952],\n",
       "       [ 0.82164643,  0.        , -1.33333333, -0.83085589, -0.67663234,\n",
       "        -1.4500221 , -1.56676102],\n",
       "       [ 0.6941859 ,  0.        ,  0.5       ,  0.7802589 ,  1.47790748,\n",
       "         0.68964466, -1.12319976],\n",
       "       [ 0.05688321,  0.        , -1.33333333,  2.39137368, -0.67663234,\n",
       "         0.68964466,  0.20748403],\n",
       "       [ 0.05688321,  0.        , -3.16666667,  1.31729716,  1.47790748,\n",
       "        -1.4500221 , -0.67963849],\n",
       "       [-0.45295893,  0.        , -3.16666667, -0.50863293, -0.67663234,\n",
       "        -1.4500221 , -1.12319976],\n",
       "       [-0.07057732,  0.        ,  0.5       ,  0.24322063, -0.67663234,\n",
       "         0.68964466, -0.23607723],\n",
       "       [ 0.31180429,  0.        ,  0.5       , -1.36789415, -0.67663234,\n",
       "         0.68964466, -0.67963849],\n",
       "       [-0.3254984 ,  0.        ,  0.5       , -0.40122528,  1.47790748,\n",
       "         0.68964466, -0.23607723],\n",
       "       [ 0.31180429,  0.        ,  0.5       , -0.83085589, -0.67663234,\n",
       "        -1.4500221 , -1.12319976],\n",
       "       [ 0.43926482,  0.        ,  0.5       ,  1.85433542, -0.67663234,\n",
       "         0.68964466,  1.09460655],\n",
       "       [-1.7275643 ,  0.        ,  0.5       , -1.36789415, -0.67663234,\n",
       "         0.68964466,  0.65104529],\n",
       "       [ 0.43926482,  0.        ,  0.5       , -0.50863293, -0.67663234,\n",
       "        -1.4500221 ,  0.20748403],\n",
       "       [ 0.05688321,  0.        ,  0.5       ,  0.88766655, -0.67663234,\n",
       "         0.68964466, -1.12319976],\n",
       "       [-0.19803786,  0.        ,  0.5       , -1.04567119, -0.67663234,\n",
       "        -1.4500221 , -0.23607723],\n",
       "       [ 0.56672536,  0.        ,  0.5       , -0.83085589,  1.47790748,\n",
       "        -1.4500221 ,  0.65104529],\n",
       "       [ 0.43926482,  0.        , -1.33333333, -0.29381763, -0.67663234,\n",
       "         0.68964466, -1.12319976],\n",
       "       [-0.96280108,  0.        , -1.33333333, -0.40122528, -0.67663234,\n",
       "        -1.4500221 ,  1.53816781],\n",
       "       [ 1.20402804,  0.        ,  0.5       , -0.29381763,  1.47790748,\n",
       "        -1.4500221 , -0.23607723],\n",
       "       [ 0.05688321,  0.        ,  0.5       , -0.29381763,  1.47790748,\n",
       "         0.68964466, -0.67963849],\n",
       "       [-0.45295893,  0.        ,  0.5       , -0.83085589, -0.67663234,\n",
       "         0.68964466,  0.20748403],\n",
       "       [ 2.22371234,  0.        ,  0.5       , -0.61604058, -0.67663234,\n",
       "         0.68964466,  0.65104529],\n",
       "       [ 0.43926482,  0.        ,  0.5       ,  1.31729716,  1.47790748,\n",
       "         0.68964466, -0.23607723],\n",
       "       [-0.96280108,  0.        , -1.33333333, -0.72344824, -0.67663234,\n",
       "         0.68964466,  0.65104529],\n",
       "       [ 0.56672536,  0.        ,  0.5       ,  0.45803594, -0.67663234,\n",
       "         0.68964466, -0.23607723],\n",
       "       [ 0.05688321,  0.        ,  0.5       , -0.83085589, -0.67663234,\n",
       "         0.68964466,  0.65104529],\n",
       "       [-0.07057732,  0.        ,  0.5       ,  0.9950742 , -0.67663234,\n",
       "         0.68964466,  0.20748403],\n",
       "       [ 0.18434375,  0.        , -1.33333333, -0.83085589, -0.67663234,\n",
       "         0.68964466, -1.12319976],\n",
       "       [-2.49232752,  0.        ,  0.5       , -0.56233676,  1.47790748,\n",
       "        -1.4500221 , -1.12319976],\n",
       "       [-2.36486698,  0.        ,  0.5       , -1.69011711, -0.67663234,\n",
       "        -1.4500221 , -1.12319976],\n",
       "       [ 0.43926482,  0.        ,  0.5       ,  0.02840533, -0.67663234,\n",
       "         0.68964466, -1.12319976],\n",
       "       [-0.07057732,  0.        ,  0.5       , -0.72344824, -0.67663234,\n",
       "         0.68964466,  0.03005952],\n",
       "       [-1.09026161,  0.        ,  0.5       , -0.40122528, -0.67663234,\n",
       "        -1.4500221 , -1.12319976],\n",
       "       [-0.58041947,  0.        , -1.33333333, -0.83085589, -0.67663234,\n",
       "         0.68964466,  1.09460655],\n",
       "       [ 0.31180429,  0.        ,  0.5       ,  0.88766655, -0.67663234,\n",
       "         0.68964466,  0.29619628],\n",
       "       [-0.45295893,  0.        , -3.16666667, -0.61604058,  1.47790748,\n",
       "        -1.4500221 ,  0.65104529],\n",
       "       [-0.83534054,  0.        ,  0.5       , -0.50863293, -0.67663234,\n",
       "        -1.4500221 , -1.12319976],\n",
       "       [ 1.07656751,  0.        ,  0.5       ,  0.13581298, -0.67663234,\n",
       "         0.68964466,  1.53816781],\n",
       "       [-0.07057732,  0.        ,  0.5       ,  2.28396603,  1.47790748,\n",
       "         0.68964466, -1.12319976],\n",
       "       [-0.45295893,  0.        , -1.33333333,  1.85433542, -0.67663234,\n",
       "         0.68964466,  1.09460655],\n",
       "       [-0.19803786,  0.        , -3.16666667, -0.50863293,  1.47790748,\n",
       "         0.68964466,  0.65104529],\n",
       "       [-0.19803786,  0.        ,  0.5       , -0.83085589, -0.67663234,\n",
       "         0.68964466,  0.20748403],\n",
       "       [-0.3254984 ,  0.        ,  0.5       ,  0.24322063, -0.67663234,\n",
       "         0.68964466,  0.65104529],\n",
       "       [-0.70788001,  0.        ,  0.5       ,  0.02840533, -0.67663234,\n",
       "         0.68964466,  1.53816781],\n",
       "       [ 1.58640965,  0.        , -1.33333333, -0.83085589, -0.67663234,\n",
       "         0.68964466, -0.23607723],\n",
       "       [ 1.96879126,  0.        ,  0.5       ,  1.85433542,  1.47790748,\n",
       "        -1.4500221 , -1.12319976],\n",
       "       [ 0.05688321,  0.        ,  0.5       ,  0.35062829, -0.67663234,\n",
       "         0.68964466,  1.09460655],\n",
       "       [-0.19803786,  0.        ,  0.5       , -0.18640998,  1.47790748,\n",
       "        -1.4500221 , -0.23607723],\n",
       "       [ 0.18434375,  0.        ,  0.5       ,  0.56544359, -0.67663234,\n",
       "         0.68964466,  1.53816781],\n",
       "       [ 0.94910697,  0.        ,  0.5       ,  1.31729716,  1.47790748,\n",
       "         0.68964466, -1.12319976],\n",
       "       [ 0.31180429,  0.        ,  0.5       , -0.0252985 , -0.67663234,\n",
       "         0.68964466, -0.23607723],\n",
       "       [ 0.6941859 ,  0.        ,  0.5       ,  0.02840533, -0.67663234,\n",
       "         0.68964466,  2.42529034],\n",
       "       [ 0.43926482,  0.        ,  0.5       , -0.29381763, -0.67663234,\n",
       "         0.68964466,  0.65104529],\n",
       "       [ 1.20402804,  0.        ,  0.5       ,  0.24322063, -0.67663234,\n",
       "         0.68964466,  0.65104529],\n",
       "       [ 0.31180429,  0.        ,  0.5       ,  1.2098895 ,  1.47790748,\n",
       "         0.68964466,  1.53816781],\n",
       "       [ 1.96879126,  0.        ,  0.5       ,  0.02840533, -0.67663234,\n",
       "         0.68964466,  1.53816781],\n",
       "       [-2.49232752,  0.        , -1.33333333, -1.58270945, -0.67663234,\n",
       "         0.68964466, -1.12319976],\n",
       "       [ 0.94910697,  0.        ,  0.5       , -0.83085589,  1.47790748,\n",
       "        -1.4500221 ,  0.20748403],\n",
       "       [-0.19803786,  0.        ,  0.5       , -1.36789415, -0.67663234,\n",
       "        -1.4500221 , -1.12319976],\n",
       "       [ 0.43926482,  0.        ,  0.5       ,  1.31729716,  1.47790748,\n",
       "         0.68964466,  0.65104529],\n",
       "       [-2.10994591,  0.        ,  0.5       , -0.72344824, -0.67663234,\n",
       "        -1.4500221 , -0.67963849],\n",
       "       [ 0.43926482,  0.        , -1.33333333, -0.29381763,  1.47790748,\n",
       "        -1.4500221 ,  1.53816781],\n",
       "       [ 1.07656751,  0.        , -1.33333333,  0.7802589 ,  1.47790748,\n",
       "        -1.4500221 , -1.12319976],\n",
       "       [ 0.6941859 ,  0.        ,  0.5       ,  0.7802589 , -0.67663234,\n",
       "         0.68964466,  0.20748403],\n",
       "       [ 0.43926482,  0.        ,  0.5       , -2.11974772, -0.67663234,\n",
       "         0.68964466, -0.23607723],\n",
       "       [ 0.56672536,  0.        ,  0.5       , -0.29381763, -0.67663234,\n",
       "        -1.4500221 , -0.67963849],\n",
       "       [ 0.18434375,  0.        ,  0.5       , -0.83085589, -0.67663234,\n",
       "         0.68964466,  2.42529034],\n",
       "       [-1.21772215,  0.        ,  0.5       ,  0.45803594, -0.67663234,\n",
       "         0.68964466, -0.23607723],\n",
       "       [-0.58041947,  0.        ,  0.5       ,  0.7802589 , -0.67663234,\n",
       "        -1.4500221 , -1.12319976],\n",
       "       [-0.58041947,  0.        ,  0.5       , -1.04567119,  1.47790748,\n",
       "        -1.4500221 , -1.12319976],\n",
       "       [ 0.43926482,  0.        ,  0.5       , -1.36789415, -0.67663234,\n",
       "         0.68964466,  0.65104529],\n",
       "       [-0.07057732,  0.        ,  0.5       , -0.56233676, -0.67663234,\n",
       "         0.68964466,  1.09460655],\n",
       "       [ 1.84133073,  0.        ,  0.5       ,  0.7802589 ,  1.47790748,\n",
       "         0.68964466,  2.42529034],\n",
       "       [-0.70788001,  0.        ,  0.5       , -0.29381763,  1.47790748,\n",
       "         0.68964466,  0.65104529],\n",
       "       [-0.3254984 ,  0.        ,  0.5       , -1.36789415, -0.67663234,\n",
       "        -1.4500221 , -1.12319976],\n",
       "       [ 1.33148858,  0.        ,  0.5       ,  1.85433542, -0.67663234,\n",
       "         0.68964466,  1.53816781],\n",
       "       [-1.47264322,  0.        , -1.33333333, -0.18640998,  1.47790748,\n",
       "        -1.4500221 , -1.12319976],\n",
       "       [ 0.82164643,  0.        ,  0.5       , -1.2604865 , -0.67663234,\n",
       "        -1.4500221 ,  0.20748403],\n",
       "       [-0.58041947,  0.        ,  0.5       ,  1.96174307, -0.67663234,\n",
       "        -1.4500221 ,  0.65104529],\n",
       "       [ 0.31180429,  0.        , -1.33333333, -0.83085589, -0.67663234,\n",
       "        -1.4500221 , -1.12319976],\n",
       "       [-0.19803786,  0.        , -1.33333333,  0.7802589 , -0.67663234,\n",
       "         0.68964466, -1.12319976],\n",
       "       [ 1.96879126,  0.        ,  0.5       ,  1.31729716,  1.47790748,\n",
       "         0.68964466,  0.65104529],\n",
       "       [ 0.56672536,  0.        ,  0.5       , -0.07900232, -0.67663234,\n",
       "         0.68964466,  2.42529034],\n",
       "       [-0.07057732,  0.        ,  0.5       ,  0.24322063, -0.67663234,\n",
       "         0.68964466,  0.65104529],\n",
       "       [-0.3254984 ,  0.        ,  0.5       ,  0.45803594,  1.47790748,\n",
       "         0.68964466,  0.65104529],\n",
       "       [-2.36486698,  0.        ,  0.5       ,  0.7802589 , -0.67663234,\n",
       "         0.68964466,  0.20748403],\n",
       "       [ 1.45894912,  0.        ,  0.5       , -0.29381763, -0.67663234,\n",
       "         0.68964466, -1.12319976],\n",
       "       [-2.74724859,  0.        ,  0.5       , -1.36789415, -0.67663234,\n",
       "         0.68964466,  0.20748403],\n",
       "       [-0.58041947,  0.        ,  0.5       ,  1.2098895 , -0.67663234,\n",
       "         0.68964466,  1.09460655],\n",
       "       [-0.45295893,  0.        ,  0.5       , -0.40122528, -0.67663234,\n",
       "         0.68964466,  0.65104529],\n",
       "       [ 0.56672536,  0.        ,  0.5       ,  0.7802589 , -0.67663234,\n",
       "         0.68964466, -0.67963849],\n",
       "       [-0.3254984 ,  0.        ,  0.5       ,  1.10248185, -0.67663234,\n",
       "         0.68964466,  1.53816781],\n",
       "       [ 1.20402804,  0.        ,  0.5       , -0.72344824,  1.47790748,\n",
       "         0.68964466, -1.12319976],\n",
       "       [-0.3254984 ,  0.        , -3.16666667,  2.39137368,  1.47790748,\n",
       "        -1.4500221 , -0.41350174],\n",
       "       [-0.83534054,  0.        ,  0.5       , -0.61604058, -0.67663234,\n",
       "         0.68964466,  0.65104529],\n",
       "       [-2.87470913,  0.        , -1.33333333, -0.93826354, -0.67663234,\n",
       "        -1.4500221 , -0.23607723],\n",
       "       [ 0.94910697,  0.        ,  0.5       ,  0.24322063, -0.67663234,\n",
       "         0.68964466,  0.65104529],\n",
       "       [ 1.84133073,  0.        , -1.33333333,  0.24322063,  1.47790748,\n",
       "        -1.4500221 , -1.12319976],\n",
       "       [-0.19803786,  0.        ,  0.5       , -1.90493241, -0.67663234,\n",
       "        -1.4500221 , -1.12319976],\n",
       "       [ 0.18434375,  0.        ,  0.5       ,  2.92841194,  1.47790748,\n",
       "         0.68964466,  0.65104529],\n",
       "       [ 0.56672536,  0.        ,  0.5       , -0.29381763,  1.47790748,\n",
       "        -1.4500221 , -1.12319976],\n",
       "       [-0.19803786,  0.        ,  0.5       ,  1.31729716,  1.47790748,\n",
       "         0.68964466, -0.23607723],\n",
       "       [ 0.05688321,  0.        ,  0.5       , -0.29381763,  1.47790748,\n",
       "         0.68964466, -0.67963849],\n",
       "       [-0.3254984 ,  0.        ,  0.5       , -0.72344824, -0.67663234,\n",
       "        -1.4500221 , -1.12319976],\n",
       "       [-0.58041947,  0.        ,  0.5       , -0.83085589, -0.67663234,\n",
       "         0.68964466,  0.38490853],\n",
       "       [-0.45295893,  0.        ,  0.5       , -0.29381763,  1.47790748,\n",
       "        -1.4500221 ,  0.20748403],\n",
       "       [-0.3254984 ,  0.        ,  0.5       , -0.29381763, -0.67663234,\n",
       "         0.68964466, -0.23607723],\n",
       "       [ 0.18434375,  0.        , -1.33333333, -0.83085589, -0.67663234,\n",
       "         0.68964466, -1.12319976],\n",
       "       [-0.19803786,  0.        , -1.33333333,  0.7802589 , -0.67663234,\n",
       "         0.68964466, -1.12319976],\n",
       "       [ 1.84133073,  0.        ,  0.5       ,  1.04877803, -0.67663234,\n",
       "         0.68964466,  0.20748403],\n",
       "       [ 1.07656751,  0.        , -1.33333333, -0.07900232,  1.47790748,\n",
       "         0.68964466, -1.12319976],\n",
       "       [ 0.31180429,  0.        ,  0.5       ,  1.31729716,  1.47790748,\n",
       "         0.68964466,  1.53816781],\n",
       "       [-0.83534054,  0.        ,  0.5       ,  0.45803594,  1.47790748,\n",
       "         0.68964466,  0.20748403],\n",
       "       [ 0.31180429,  0.        ,  0.5       ,  1.2098895 , -0.67663234,\n",
       "         0.68964466, -1.12319976],\n",
       "       [-1.7275643 ,  0.        ,  0.5       , -0.07900232, -0.67663234,\n",
       "        -1.4500221 , -1.12319976],\n",
       "       [-0.58041947,  0.        ,  0.5       , -0.72344824,  1.47790748,\n",
       "        -1.4500221 , -1.12319976],\n",
       "       [ 0.31180429,  0.        , -3.16666667, -0.83085589, -0.67663234,\n",
       "         0.68964466, -1.12319976]])"
      ]
     },
     "execution_count": 27,
     "metadata": {},
     "output_type": "execute_result"
    }
   ],
   "source": [
    "from sklearn.preprocessing import StandardScaler\n",
    "ss=StandardScaler()\n",
    "ss.fit(x)\n",
    "df_x=ss.transform(x)\n",
    "df_x"
   ]
  },
  {
   "cell_type": "code",
   "execution_count": 28,
   "metadata": {},
   "outputs": [
    {
     "data": {
      "text/html": [
       "<div>\n",
       "<style scoped>\n",
       "    .dataframe tbody tr th:only-of-type {\n",
       "        vertical-align: middle;\n",
       "    }\n",
       "\n",
       "    .dataframe tbody tr th {\n",
       "        vertical-align: top;\n",
       "    }\n",
       "\n",
       "    .dataframe thead th {\n",
       "        text-align: right;\n",
       "    }\n",
       "</style>\n",
       "<table border=\"1\" class=\"dataframe\">\n",
       "  <thead>\n",
       "    <tr style=\"text-align: right;\">\n",
       "      <th></th>\n",
       "      <th>age</th>\n",
       "      <th>sex</th>\n",
       "      <th>cp</th>\n",
       "      <th>trestbps</th>\n",
       "      <th>fbs</th>\n",
       "      <th>exang</th>\n",
       "      <th>oldpeak</th>\n",
       "    </tr>\n",
       "  </thead>\n",
       "  <tbody>\n",
       "    <tr>\n",
       "      <th>0</th>\n",
       "      <td>0.439265</td>\n",
       "      <td>0.0</td>\n",
       "      <td>0.500000</td>\n",
       "      <td>0.243221</td>\n",
       "      <td>-0.676632</td>\n",
       "      <td>0.689645</td>\n",
       "      <td>1.538168</td>\n",
       "    </tr>\n",
       "    <tr>\n",
       "      <th>1</th>\n",
       "      <td>-1.982485</td>\n",
       "      <td>0.0</td>\n",
       "      <td>0.500000</td>\n",
       "      <td>-0.293818</td>\n",
       "      <td>-0.676632</td>\n",
       "      <td>-1.450022</td>\n",
       "      <td>-1.123200</td>\n",
       "    </tr>\n",
       "    <tr>\n",
       "      <th>2</th>\n",
       "      <td>0.056883</td>\n",
       "      <td>0.0</td>\n",
       "      <td>0.500000</td>\n",
       "      <td>-0.186410</td>\n",
       "      <td>-0.676632</td>\n",
       "      <td>0.689645</td>\n",
       "      <td>0.207484</td>\n",
       "    </tr>\n",
       "    <tr>\n",
       "      <th>3</th>\n",
       "      <td>-0.580419</td>\n",
       "      <td>0.0</td>\n",
       "      <td>0.500000</td>\n",
       "      <td>0.350628</td>\n",
       "      <td>-0.676632</td>\n",
       "      <td>0.689645</td>\n",
       "      <td>1.094607</td>\n",
       "    </tr>\n",
       "    <tr>\n",
       "      <th>4</th>\n",
       "      <td>0.821646</td>\n",
       "      <td>0.0</td>\n",
       "      <td>-1.333333</td>\n",
       "      <td>-1.367894</td>\n",
       "      <td>1.477907</td>\n",
       "      <td>0.689645</td>\n",
       "      <td>0.030060</td>\n",
       "    </tr>\n",
       "  </tbody>\n",
       "</table>\n",
       "</div>"
      ],
      "text/plain": [
       "        age  sex        cp  trestbps       fbs     exang   oldpeak\n",
       "0  0.439265  0.0  0.500000  0.243221 -0.676632  0.689645  1.538168\n",
       "1 -1.982485  0.0  0.500000 -0.293818 -0.676632 -1.450022 -1.123200\n",
       "2  0.056883  0.0  0.500000 -0.186410 -0.676632  0.689645  0.207484\n",
       "3 -0.580419  0.0  0.500000  0.350628 -0.676632  0.689645  1.094607\n",
       "4  0.821646  0.0 -1.333333 -1.367894  1.477907  0.689645  0.030060"
      ]
     },
     "execution_count": 28,
     "metadata": {},
     "output_type": "execute_result"
    }
   ],
   "source": [
    "x=pd.DataFrame(df_x,columns=x.columns)\n",
    "x.head()"
   ]
  },
  {
   "cell_type": "markdown",
   "metadata": {},
   "source": [
    "We have both of input and output attributes cleaned and in desired format"
   ]
  },
  {
   "cell_type": "markdown",
   "metadata": {},
   "source": [
    "<h2>End of EDA Process</h2>"
   ]
  },
  {
   "cell_type": "markdown",
   "metadata": {},
   "source": [
    "Lets start Building models to make predictions and find the model that works best on our dataset"
   ]
  },
  {
   "cell_type": "markdown",
   "metadata": {},
   "source": [
    "<h2>Start of Machine Learning Process</h2>"
   ]
  },
  {
   "cell_type": "markdown",
   "metadata": {},
   "source": [
    "Since out target variable is Bivariant, we are going to do classification analysis"
   ]
  },
  {
   "cell_type": "markdown",
   "metadata": {},
   "source": [
    "***Lets import required packages***"
   ]
  },
  {
   "cell_type": "code",
   "execution_count": 29,
   "metadata": {},
   "outputs": [],
   "source": [
    "from sklearn.neighbors import KNeighborsClassifier\n",
    "from sklearn.svm import SVC\n",
    "from sklearn.linear_model import LogisticRegression\n",
    "from sklearn.tree import DecisionTreeClassifier\n",
    "from sklearn.naive_bayes import GaussianNB\n",
    "from sklearn.model_selection import train_test_split,cross_val_score\n",
    "from sklearn.metrics import classification_report,confusion_matrix,accuracy_score,roc_curve,auc"
   ]
  },
  {
   "cell_type": "markdown",
   "metadata": {},
   "source": [
    "***Lets split our data randomly and see which model works better***"
   ]
  },
  {
   "cell_type": "code",
   "execution_count": 30,
   "metadata": {},
   "outputs": [],
   "source": [
    "x_train,x_test,y_train,y_test=train_test_split(x,y,test_size=0.2,random_state=42)"
   ]
  },
  {
   "cell_type": "markdown",
   "metadata": {},
   "source": [
    "***Lets import all the classification models***"
   ]
  },
  {
   "cell_type": "code",
   "execution_count": 31,
   "metadata": {},
   "outputs": [],
   "source": [
    "KNN=KNeighborsClassifier(n_neighbors=6)\n",
    "SV=SVC()\n",
    "LR=LogisticRegression()\n",
    "DT=DecisionTreeClassifier(random_state=6)\n",
    "GNB=GaussianNB()"
   ]
  },
  {
   "cell_type": "code",
   "execution_count": 32,
   "metadata": {},
   "outputs": [],
   "source": [
    "models = []\n",
    "models.append(('KNeighborsClassifier', KNN))\n",
    "models.append(('SVC', SV))\n",
    "models.append(('LogisticRegression', LR))\n",
    "models.append(('DecisionTreeClassifier', DT))\n",
    "models.append(('GaussianNB', GNB))"
   ]
  },
  {
   "cell_type": "markdown",
   "metadata": {},
   "source": [
    "***Lets create a loop that will execute all our models***"
   ]
  },
  {
   "cell_type": "code",
   "execution_count": 33,
   "metadata": {},
   "outputs": [
    {
     "name": "stdout",
     "output_type": "stream",
     "text": [
      "*-----------------------------* KNeighborsClassifier *------------------------------*\n",
      "\n",
      "\n",
      "KNeighborsClassifier(n_neighbors=6)\n",
      "\n",
      "\n",
      "Accuracy_score =  0.64\n",
      "\n",
      "\n",
      "Cross_Val_Score =  0.7519230769230769\n",
      "\n",
      "\n",
      "roc_auc_score =  0.475\n",
      "\n",
      "\n",
      "classification_report\n",
      "               precision    recall  f1-score   support\n",
      "\n",
      "         0.0       0.17      0.20      0.18         5\n",
      "         1.0       0.79      0.75      0.77        20\n",
      "\n",
      "    accuracy                           0.64        25\n",
      "   macro avg       0.48      0.47      0.48        25\n",
      "weighted avg       0.66      0.64      0.65        25\n",
      "\n",
      "\n",
      "\n",
      "[[ 1  4]\n",
      " [ 5 15]]\n",
      "\n",
      "\n",
      "AxesSubplot(0.125,0.808774;0.62x0.0712264)\n"
     ]
    },
    {
     "data": {
      "image/png": "[encoded data removed]",
      "text/plain": [
       "<Figure size 720x2880 with 3 Axes>"
      ]
     },
     "metadata": {},
     "output_type": "display_data"
    },
    {
     "name": "stdout",
     "output_type": "stream",
     "text": [
      "\n",
      "\n",
      "\n",
      "*-----------------------------* SVC *------------------------------*\n",
      "\n",
      "\n",
      "SVC()\n",
      "\n",
      "\n",
      "Accuracy_score =  0.64\n",
      "\n",
      "\n",
      "Cross_Val_Score =  0.7429487179487181\n",
      "\n",
      "\n",
      "roc_auc_score =  0.475\n",
      "\n",
      "\n",
      "classification_report\n",
      "               precision    recall  f1-score   support\n",
      "\n",
      "         0.0       0.17      0.20      0.18         5\n",
      "         1.0       0.79      0.75      0.77        20\n",
      "\n",
      "    accuracy                           0.64        25\n",
      "   macro avg       0.48      0.47      0.48        25\n",
      "weighted avg       0.66      0.64      0.65        25\n",
      "\n",
      "\n",
      "\n",
      "[[ 1  4]\n",
      " [ 5 15]]\n",
      "\n",
      "\n",
      "AxesSubplot(0.125,0.808774;0.62x0.0712264)\n"
     ]
    },
    {
     "data": {
      "image/png": "[encoded data removed]",
      "text/plain": [
       "<Figure size 720x2880 with 3 Axes>"
      ]
     },
     "metadata": {},
     "output_type": "display_data"
    },
    {
     "name": "stdout",
     "output_type": "stream",
     "text": [
      "\n",
      "\n",
      "\n",
      "*-----------------------------* LogisticRegression *------------------------------*\n",
      "\n",
      "\n",
      "LogisticRegression()\n",
      "\n",
      "\n",
      "Accuracy_score =  0.64\n",
      "\n",
      "\n",
      "Cross_Val_Score =  0.7839743589743591\n",
      "\n",
      "\n",
      "roc_auc_score =  0.475\n",
      "\n",
      "\n",
      "classification_report\n",
      "               precision    recall  f1-score   support\n",
      "\n",
      "         0.0       0.17      0.20      0.18         5\n",
      "         1.0       0.79      0.75      0.77        20\n",
      "\n",
      "    accuracy                           0.64        25\n",
      "   macro avg       0.48      0.47      0.48        25\n",
      "weighted avg       0.66      0.64      0.65        25\n",
      "\n",
      "\n",
      "\n",
      "[[ 1  4]\n",
      " [ 5 15]]\n",
      "\n",
      "\n",
      "AxesSubplot(0.125,0.808774;0.62x0.0712264)\n"
     ]
    },
    {
     "data": {
      "image/png": "[encoded data removed]",
      "text/plain": [
       "<Figure size 720x2880 with 3 Axes>"
      ]
     },
     "metadata": {},
     "output_type": "display_data"
    },
    {
     "name": "stdout",
     "output_type": "stream",
     "text": [
      "\n",
      "\n",
      "\n",
      "*-----------------------------* DecisionTreeClassifier *------------------------------*\n",
      "\n",
      "\n",
      "DecisionTreeClassifier(random_state=6)\n",
      "\n",
      "\n",
      "Accuracy_score =  0.68\n",
      "\n",
      "\n",
      "Cross_Val_Score =  0.6692307692307693\n",
      "\n",
      "\n",
      "roc_auc_score =  0.575\n",
      "\n",
      "\n",
      "classification_report\n",
      "               precision    recall  f1-score   support\n",
      "\n",
      "         0.0       0.29      0.40      0.33         5\n",
      "         1.0       0.83      0.75      0.79        20\n",
      "\n",
      "    accuracy                           0.68        25\n",
      "   macro avg       0.56      0.57      0.56        25\n",
      "weighted avg       0.72      0.68      0.70        25\n",
      "\n",
      "\n",
      "\n",
      "[[ 2  3]\n",
      " [ 5 15]]\n",
      "\n",
      "\n",
      "AxesSubplot(0.125,0.808774;0.62x0.0712264)\n"
     ]
    },
    {
     "data": {
      "image/png": "[encoded data removed]",
      "text/plain": [
       "<Figure size 720x2880 with 3 Axes>"
      ]
     },
     "metadata": {},
     "output_type": "display_data"
    },
    {
     "name": "stdout",
     "output_type": "stream",
     "text": [
      "\n",
      "\n",
      "\n",
      "*-----------------------------* GaussianNB *------------------------------*\n",
      "\n",
      "\n",
      "GaussianNB()\n",
      "\n",
      "\n",
      "Accuracy_score =  0.6\n",
      "\n",
      "\n",
      "Cross_Val_Score =  0.7512820512820514\n",
      "\n",
      "\n",
      "roc_auc_score =  0.44999999999999996\n",
      "\n",
      "\n",
      "classification_report\n",
      "               precision    recall  f1-score   support\n",
      "\n",
      "         0.0       0.14      0.20      0.17         5\n",
      "         1.0       0.78      0.70      0.74        20\n",
      "\n",
      "    accuracy                           0.60        25\n",
      "   macro avg       0.46      0.45      0.45        25\n",
      "weighted avg       0.65      0.60      0.62        25\n",
      "\n",
      "\n",
      "\n",
      "[[ 1  4]\n",
      " [ 6 14]]\n",
      "\n",
      "\n",
      "AxesSubplot(0.125,0.808774;0.62x0.0712264)\n"
     ]
    },
    {
     "data": {
      "image/png": "[encoded data removed]",
      "text/plain": [
       "<Figure size 720x2880 with 3 Axes>"
      ]
     },
     "metadata": {},
     "output_type": "display_data"
    },
    {
     "name": "stdout",
     "output_type": "stream",
     "text": [
      "\n",
      "\n",
      "\n"
     ]
    }
   ],
   "source": [
    "Model = []\n",
    "score = []\n",
    "cvs=[]\n",
    "rocscore=[]\n",
    "for name,model in models:\n",
    "    print('*-----------------------------*',name,'*------------------------------*')\n",
    "    print('\\n')\n",
    "    Model.append(name)\n",
    "    model.fit(x_train,y_train)\n",
    "    print(model)\n",
    "    pre=model.predict(x_test)\n",
    "    print('\\n')\n",
    "    AS=accuracy_score(y_test,pre)\n",
    "    print('Accuracy_score = ',AS)\n",
    "    score.append(AS*100)\n",
    "    print('\\n')\n",
    "    sc = cross_val_score(model, x, y, cv=10, scoring='accuracy').mean()\n",
    "    print('Cross_Val_Score = ',sc)\n",
    "    cvs.append(sc*100)\n",
    "    print('\\n')\n",
    "    false_positive_rate, true_positive_rate, thresholds = roc_curve(y_test,pre)\n",
    "    roc_auc = auc(false_positive_rate, true_positive_rate)\n",
    "    print ('roc_auc_score = ',roc_auc)\n",
    "    rocscore.append(roc_auc*100)\n",
    "    print('\\n')\n",
    "    print('classification_report\\n',classification_report(y_test,pre))\n",
    "    print('\\n')\n",
    "    cm=confusion_matrix(y_test,pre)\n",
    "    print(cm)\n",
    "    print('\\n')\n",
    "    plt.figure(figsize=(10,40))\n",
    "    plt.subplot(911)\n",
    "    plt.title(name)\n",
    "    print(sns.heatmap(cm,annot=True))\n",
    "    plt.subplot(912)\n",
    "    plt.title(name)\n",
    "    plt.plot(false_positive_rate, true_positive_rate, label='AUC = %0.2f'% roc_auc)\n",
    "    plt.plot([0,1],[0,1],'r--')\n",
    "    plt.legend(loc='lower right')\n",
    "    plt.ylabel('True Positive Rate')\n",
    "    plt.xlabel('False Positive Rate')\n",
    "    plt.show()\n",
    "    print('\\n\\n')"
   ]
  },
  {
   "cell_type": "code",
   "execution_count": 34,
   "metadata": {},
   "outputs": [
    {
     "data": {
      "text/html": [
       "<div>\n",
       "<style scoped>\n",
       "    .dataframe tbody tr th:only-of-type {\n",
       "        vertical-align: middle;\n",
       "    }\n",
       "\n",
       "    .dataframe tbody tr th {\n",
       "        vertical-align: top;\n",
       "    }\n",
       "\n",
       "    .dataframe thead th {\n",
       "        text-align: right;\n",
       "    }\n",
       "</style>\n",
       "<table border=\"1\" class=\"dataframe\">\n",
       "  <thead>\n",
       "    <tr style=\"text-align: right;\">\n",
       "      <th></th>\n",
       "      <th>Classification Model</th>\n",
       "      <th>Accuracy Score</th>\n",
       "      <th>Cross_val_score</th>\n",
       "      <th>Roc_auc_curve</th>\n",
       "    </tr>\n",
       "  </thead>\n",
       "  <tbody>\n",
       "    <tr>\n",
       "      <th>0</th>\n",
       "      <td>KNeighborsClassifier</td>\n",
       "      <td>64.0</td>\n",
       "      <td>75.192308</td>\n",
       "      <td>47.5</td>\n",
       "    </tr>\n",
       "    <tr>\n",
       "      <th>1</th>\n",
       "      <td>SVC</td>\n",
       "      <td>64.0</td>\n",
       "      <td>74.294872</td>\n",
       "      <td>47.5</td>\n",
       "    </tr>\n",
       "    <tr>\n",
       "      <th>2</th>\n",
       "      <td>LogisticRegression</td>\n",
       "      <td>64.0</td>\n",
       "      <td>78.397436</td>\n",
       "      <td>47.5</td>\n",
       "    </tr>\n",
       "    <tr>\n",
       "      <th>3</th>\n",
       "      <td>DecisionTreeClassifier</td>\n",
       "      <td>68.0</td>\n",
       "      <td>66.923077</td>\n",
       "      <td>57.5</td>\n",
       "    </tr>\n",
       "    <tr>\n",
       "      <th>4</th>\n",
       "      <td>GaussianNB</td>\n",
       "      <td>60.0</td>\n",
       "      <td>75.128205</td>\n",
       "      <td>45.0</td>\n",
       "    </tr>\n",
       "  </tbody>\n",
       "</table>\n",
       "</div>"
      ],
      "text/plain": [
       "     Classification Model  Accuracy Score  Cross_val_score  Roc_auc_curve\n",
       "0    KNeighborsClassifier            64.0        75.192308           47.5\n",
       "1                     SVC            64.0        74.294872           47.5\n",
       "2      LogisticRegression            64.0        78.397436           47.5\n",
       "3  DecisionTreeClassifier            68.0        66.923077           57.5\n",
       "4              GaussianNB            60.0        75.128205           45.0"
      ]
     },
     "execution_count": 34,
     "metadata": {},
     "output_type": "execute_result"
    }
   ],
   "source": [
    "Final_R = pd.DataFrame({'Classification Model': Model, 'Accuracy Score': score ,'Cross_val_score':cvs,'Roc_auc_curve':rocscore})\n",
    "Final_R"
   ]
  },
  {
   "cell_type": "markdown",
   "metadata": {},
   "source": [
    "DecisonTree seems to have higher accuracy, lets try to make this better"
   ]
  },
  {
   "cell_type": "code",
   "execution_count": 35,
   "metadata": {},
   "outputs": [],
   "source": [
    "from sklearn.ensemble import RandomForestClassifier"
   ]
  },
  {
   "cell_type": "code",
   "execution_count": 36,
   "metadata": {},
   "outputs": [
    {
     "name": "stdout",
     "output_type": "stream",
     "text": [
      "Accuracy: 64.0\n"
     ]
    }
   ],
   "source": [
    "clf=RandomForestClassifier(n_estimators=100)\n",
    "clf.fit(x_train,y_train)\n",
    "y_pred=clf.predict(x_test)\n",
    "from sklearn import metrics\n",
    "print(\"Accuracy:\",metrics.accuracy_score(y_test, y_pred)*100)"
   ]
  },
  {
   "cell_type": "markdown",
   "metadata": {},
   "source": [
    "We will take DecisionTreeClassifier\t as final model since accuracy is more"
   ]
  },
  {
   "cell_type": "markdown",
   "metadata": {},
   "source": [
    "<h2>End of Machine learning Process</h2>\n"
   ]
  },
  {
   "cell_type": "markdown",
   "metadata": {},
   "source": [
    "<h1>Now lets save our final model</h1>"
   ]
  },
  {
   "cell_type": "code",
   "execution_count": 37,
   "metadata": {},
   "outputs": [
    {
     "data": {
      "text/plain": [
       "['Heart_Disease.pkl']"
      ]
     },
     "execution_count": 37,
     "metadata": {},
     "output_type": "execute_result"
    }
   ],
   "source": [
    "import joblib\n",
    "joblib.dump(DT,'Heart_Disease.pkl')"
   ]
  },
  {
   "cell_type": "markdown",
   "metadata": {},
   "source": [
    "<img src=\"https://knowledge.wharton.upenn.edu/wp-content/uploads/2020/05/Women-in-data-science.jpg\">\n"
   ]
  }
 ],
 "metadata": {
  "kernelspec": {
   "display_name": "Python 3",
   "language": "python",
   "name": "python3"
  },
  "language_info": {
   "codemirror_mode": {
    "name": "ipython",
    "version": 3
   },
   "file_extension": ".py",
   "mimetype": "text/x-python",
   "name": "python",
   "nbconvert_exporter": "python",
   "pygments_lexer": "ipython3",
   "version": "3.8.3"
  }
 },
 "nbformat": 4,
 "nbformat_minor": 4
}
