{
 "cells": [
  {
   "cell_type": "markdown",
   "metadata": {},
   "source": [
    "<h1>Project 3</h1>"
   ]
  },
  {
   "cell_type": "markdown",
   "metadata": {},
   "source": [
    "<h2>Avacado Dataset</h2>"
   ]
  },
  {
   "cell_type": "markdown",
   "metadata": {},
   "source": [
    "<img src=\"https://cdn.pixabay.com/photo/2016/03/29/08/48/project-1287781_1280.jpg\">"
   ]
  },
  {
   "cell_type": "markdown",
   "metadata": {},
   "source": [
    "***First importing necessary packages***"
   ]
  },
  {
   "cell_type": "code",
   "execution_count": 1,
   "metadata": {},
   "outputs": [],
   "source": [
    "import pandas as pd\n",
    "import seaborn as sns\n",
    "import matplotlib.pyplot as plt\n",
    "%matplotlib inline\n",
    "sns.set()\n",
    "import warnings\n",
    "warnings.filterwarnings(\"ignore\")"
   ]
  },
  {
   "cell_type": "markdown",
   "metadata": {},
   "source": [
    "***Importing data which is in csv format***"
   ]
  },
  {
   "cell_type": "code",
   "execution_count": 2,
   "metadata": {},
   "outputs": [
    {
     "data": {
      "text/html": [
       "<div>\n",
       "<style scoped>\n",
       "    .dataframe tbody tr th:only-of-type {\n",
       "        vertical-align: middle;\n",
       "    }\n",
       "\n",
       "    .dataframe tbody tr th {\n",
       "        vertical-align: top;\n",
       "    }\n",
       "\n",
       "    .dataframe thead th {\n",
       "        text-align: right;\n",
       "    }\n",
       "</style>\n",
       "<table border=\"1\" class=\"dataframe\">\n",
       "  <thead>\n",
       "    <tr style=\"text-align: right;\">\n",
       "      <th></th>\n",
       "      <th>Date</th>\n",
       "      <th>AveragePrice</th>\n",
       "      <th>Total Volume</th>\n",
       "      <th>4046</th>\n",
       "      <th>4225</th>\n",
       "      <th>4770</th>\n",
       "      <th>Total Bags</th>\n",
       "      <th>Small Bags</th>\n",
       "      <th>Large Bags</th>\n",
       "      <th>XLarge Bags</th>\n",
       "      <th>type</th>\n",
       "      <th>year</th>\n",
       "      <th>region</th>\n",
       "    </tr>\n",
       "  </thead>\n",
       "  <tbody>\n",
       "    <tr>\n",
       "      <th>0</th>\n",
       "      <td>2015-12-27</td>\n",
       "      <td>1.33</td>\n",
       "      <td>64236.62</td>\n",
       "      <td>1036.74</td>\n",
       "      <td>54454.85</td>\n",
       "      <td>48.16</td>\n",
       "      <td>8696.87</td>\n",
       "      <td>8603.62</td>\n",
       "      <td>93.25</td>\n",
       "      <td>0.0</td>\n",
       "      <td>conventional</td>\n",
       "      <td>2015</td>\n",
       "      <td>Albany</td>\n",
       "    </tr>\n",
       "    <tr>\n",
       "      <th>1</th>\n",
       "      <td>2015-12-20</td>\n",
       "      <td>1.35</td>\n",
       "      <td>54876.98</td>\n",
       "      <td>674.28</td>\n",
       "      <td>44638.81</td>\n",
       "      <td>58.33</td>\n",
       "      <td>9505.56</td>\n",
       "      <td>9408.07</td>\n",
       "      <td>97.49</td>\n",
       "      <td>0.0</td>\n",
       "      <td>conventional</td>\n",
       "      <td>2015</td>\n",
       "      <td>Albany</td>\n",
       "    </tr>\n",
       "    <tr>\n",
       "      <th>2</th>\n",
       "      <td>2015-12-13</td>\n",
       "      <td>0.93</td>\n",
       "      <td>118220.22</td>\n",
       "      <td>794.70</td>\n",
       "      <td>109149.67</td>\n",
       "      <td>130.50</td>\n",
       "      <td>8145.35</td>\n",
       "      <td>8042.21</td>\n",
       "      <td>103.14</td>\n",
       "      <td>0.0</td>\n",
       "      <td>conventional</td>\n",
       "      <td>2015</td>\n",
       "      <td>Albany</td>\n",
       "    </tr>\n",
       "    <tr>\n",
       "      <th>3</th>\n",
       "      <td>2015-06-12</td>\n",
       "      <td>1.08</td>\n",
       "      <td>78992.15</td>\n",
       "      <td>1132.00</td>\n",
       "      <td>71976.41</td>\n",
       "      <td>72.58</td>\n",
       "      <td>5811.16</td>\n",
       "      <td>5677.40</td>\n",
       "      <td>133.76</td>\n",
       "      <td>0.0</td>\n",
       "      <td>conventional</td>\n",
       "      <td>2015</td>\n",
       "      <td>Albany</td>\n",
       "    </tr>\n",
       "    <tr>\n",
       "      <th>4</th>\n",
       "      <td>2015-11-29</td>\n",
       "      <td>1.28</td>\n",
       "      <td>51039.60</td>\n",
       "      <td>941.48</td>\n",
       "      <td>43838.39</td>\n",
       "      <td>75.78</td>\n",
       "      <td>6183.95</td>\n",
       "      <td>5986.26</td>\n",
       "      <td>197.69</td>\n",
       "      <td>0.0</td>\n",
       "      <td>conventional</td>\n",
       "      <td>2015</td>\n",
       "      <td>Albany</td>\n",
       "    </tr>\n",
       "  </tbody>\n",
       "</table>\n",
       "</div>"
      ],
      "text/plain": [
       "        Date  AveragePrice  Total Volume     4046       4225    4770  \\\n",
       "0 2015-12-27          1.33      64236.62  1036.74   54454.85   48.16   \n",
       "1 2015-12-20          1.35      54876.98   674.28   44638.81   58.33   \n",
       "2 2015-12-13          0.93     118220.22   794.70  109149.67  130.50   \n",
       "3 2015-06-12          1.08      78992.15  1132.00   71976.41   72.58   \n",
       "4 2015-11-29          1.28      51039.60   941.48   43838.39   75.78   \n",
       "\n",
       "   Total Bags  Small Bags  Large Bags  XLarge Bags          type  year  region  \n",
       "0     8696.87     8603.62       93.25          0.0  conventional  2015  Albany  \n",
       "1     9505.56     9408.07       97.49          0.0  conventional  2015  Albany  \n",
       "2     8145.35     8042.21      103.14          0.0  conventional  2015  Albany  \n",
       "3     5811.16     5677.40      133.76          0.0  conventional  2015  Albany  \n",
       "4     6183.95     5986.26      197.69          0.0  conventional  2015  Albany  "
      ]
     },
     "execution_count": 2,
     "metadata": {},
     "output_type": "execute_result"
    }
   ],
   "source": [
    "df=pd.read_csv('AvacadoDataset.csv',parse_dates=[\"Date\"])\n",
    "df.head()"
   ]
  },
  {
   "cell_type": "markdown",
   "metadata": {},
   "source": [
    "<h2>Start of EDA process</h2>"
   ]
  },
  {
   "cell_type": "markdown",
   "metadata": {},
   "source": [
    "***Checking data types and null count of the columns***"
   ]
  },
  {
   "cell_type": "code",
   "execution_count": 3,
   "metadata": {},
   "outputs": [
    {
     "name": "stdout",
     "output_type": "stream",
     "text": [
      "<class 'pandas.core.frame.DataFrame'>\n",
      "RangeIndex: 1517 entries, 0 to 1516\n",
      "Data columns (total 13 columns):\n",
      " #   Column        Non-Null Count  Dtype         \n",
      "---  ------        --------------  -----         \n",
      " 0   Date          1517 non-null   datetime64[ns]\n",
      " 1   AveragePrice  1517 non-null   float64       \n",
      " 2   Total Volume  1517 non-null   float64       \n",
      " 3   4046          1517 non-null   float64       \n",
      " 4   4225          1517 non-null   float64       \n",
      " 5   4770          1517 non-null   float64       \n",
      " 6   Total Bags    1517 non-null   float64       \n",
      " 7   Small Bags    1517 non-null   float64       \n",
      " 8   Large Bags    1517 non-null   float64       \n",
      " 9   XLarge Bags   1517 non-null   float64       \n",
      " 10  type          1517 non-null   object        \n",
      " 11  year          1517 non-null   int64         \n",
      " 12  region        1517 non-null   object        \n",
      "dtypes: datetime64[ns](1), float64(9), int64(1), object(2)\n",
      "memory usage: 154.2+ KB\n"
     ]
    }
   ],
   "source": [
    "df.info()"
   ]
  },
  {
   "cell_type": "markdown",
   "metadata": {},
   "source": [
    "**Observation** : There is no null or NAN value in the table"
   ]
  },
  {
   "cell_type": "markdown",
   "metadata": {},
   "source": [
    "In the data set, the columns 4046,4225,4770, represents Total number of avocados with PLU 4046 sold,Total number of avocados with PLU 4225 sold,Total number of avocados with PLU 4770 sold respectively\n"
   ]
  },
  {
   "cell_type": "markdown",
   "metadata": {},
   "source": [
    "***Checking shape of the Dataset***"
   ]
  },
  {
   "cell_type": "code",
   "execution_count": 4,
   "metadata": {},
   "outputs": [
    {
     "data": {
      "text/plain": [
       "(1517, 13)"
      ]
     },
     "execution_count": 4,
     "metadata": {},
     "output_type": "execute_result"
    }
   ],
   "source": [
    "df.shape"
   ]
  },
  {
   "cell_type": "markdown",
   "metadata": {},
   "source": [
    "We see that table contains **1517 rows** and **13 columns**"
   ]
  },
  {
   "cell_type": "markdown",
   "metadata": {},
   "source": [
    "***Checking unique elements in type with visualization***"
   ]
  },
  {
   "cell_type": "code",
   "execution_count": 5,
   "metadata": {},
   "outputs": [
    {
     "name": "stdout",
     "output_type": "stream",
     "text": [
      "AxesSubplot(0.125,0.125;0.775x0.755)\n"
     ]
    },
    {
     "data": {
      "image/png": "[encoded data removed]",
      "text/plain": [
       "<Figure size 432x288 with 1 Axes>"
      ]
     },
     "metadata": {},
     "output_type": "display_data"
    }
   ],
   "source": [
    "print(sns.countplot(df['type']))"
   ]
  },
  {
   "cell_type": "code",
   "execution_count": 6,
   "metadata": {},
   "outputs": [
    {
     "data": {
      "text/plain": [
       "array(['conventional'], dtype=object)"
      ]
     },
     "execution_count": 6,
     "metadata": {},
     "output_type": "execute_result"
    }
   ],
   "source": [
    "\n",
    "df['type'].unique()"
   ]
  },
  {
   "cell_type": "markdown",
   "metadata": {},
   "source": [
    "Since there is only one type i.e, Conventional in type column, we drop drop this column since it is not useful for us in our model selection or prediction"
   ]
  },
  {
   "cell_type": "markdown",
   "metadata": {},
   "source": [
    "***Checking unique elements in year with visualization***"
   ]
  },
  {
   "cell_type": "code",
   "execution_count": 7,
   "metadata": {},
   "outputs": [
    {
     "data": {
      "text/plain": [
       "<matplotlib.axes._subplots.AxesSubplot at 0x15d67229940>"
      ]
     },
     "execution_count": 7,
     "metadata": {},
     "output_type": "execute_result"
    },
    {
     "data": {
      "image/png": "[encoded data removed]",
      "text/plain": [
       "<Figure size 432x288 with 1 Axes>"
      ]
     },
     "metadata": {},
     "output_type": "display_data"
    }
   ],
   "source": [
    "sns.countplot(x=\"year\", data=df)"
   ]
  },
  {
   "cell_type": "code",
   "execution_count": 8,
   "metadata": {},
   "outputs": [
    {
     "data": {
      "text/plain": [
       "array([2015, 2016], dtype=int64)"
      ]
     },
     "execution_count": 8,
     "metadata": {},
     "output_type": "execute_result"
    }
   ],
   "source": [
    "df['year'].unique()"
   ]
  },
  {
   "cell_type": "markdown",
   "metadata": {},
   "source": [
    "We can see that in year attribute the year 2016 is significantly low compared to year 2015, so this might not be a best feature to be used in our model since it is highly biased"
   ]
  },
  {
   "cell_type": "markdown",
   "metadata": {},
   "source": [
    "***Lets check Average price as per the region***"
   ]
  },
  {
   "cell_type": "code",
   "execution_count": 9,
   "metadata": {},
   "outputs": [
    {
     "data": {
      "text/html": [
       "<div>\n",
       "<style scoped>\n",
       "    .dataframe tbody tr th:only-of-type {\n",
       "        vertical-align: middle;\n",
       "    }\n",
       "\n",
       "    .dataframe tbody tr th {\n",
       "        vertical-align: top;\n",
       "    }\n",
       "\n",
       "    .dataframe thead th {\n",
       "        text-align: right;\n",
       "    }\n",
       "</style>\n",
       "<table border=\"1\" class=\"dataframe\">\n",
       "  <thead>\n",
       "    <tr style=\"text-align: right;\">\n",
       "      <th></th>\n",
       "      <th>region</th>\n",
       "      <th>AveragePrice</th>\n",
       "    </tr>\n",
       "  </thead>\n",
       "  <tbody>\n",
       "    <tr>\n",
       "      <th>0</th>\n",
       "      <td>Albany</td>\n",
       "      <td>1.238657</td>\n",
       "    </tr>\n",
       "    <tr>\n",
       "      <th>1</th>\n",
       "      <td>Atlanta</td>\n",
       "      <td>1.012037</td>\n",
       "    </tr>\n",
       "    <tr>\n",
       "      <th>2</th>\n",
       "      <td>BaltimoreWashington</td>\n",
       "      <td>1.160923</td>\n",
       "    </tr>\n",
       "    <tr>\n",
       "      <th>3</th>\n",
       "      <td>Boise</td>\n",
       "      <td>0.974923</td>\n",
       "    </tr>\n",
       "    <tr>\n",
       "      <th>4</th>\n",
       "      <td>Boston</td>\n",
       "      <td>1.205484</td>\n",
       "    </tr>\n",
       "    <tr>\n",
       "      <th>5</th>\n",
       "      <td>BuffaloRochester</td>\n",
       "      <td>1.301569</td>\n",
       "    </tr>\n",
       "    <tr>\n",
       "      <th>6</th>\n",
       "      <td>California</td>\n",
       "      <td>1.055921</td>\n",
       "    </tr>\n",
       "    <tr>\n",
       "      <th>7</th>\n",
       "      <td>Charlotte</td>\n",
       "      <td>1.311613</td>\n",
       "    </tr>\n",
       "    <tr>\n",
       "      <th>8</th>\n",
       "      <td>Chicago</td>\n",
       "      <td>1.214783</td>\n",
       "    </tr>\n",
       "    <tr>\n",
       "      <th>9</th>\n",
       "      <td>Columbus</td>\n",
       "      <td>1.012553</td>\n",
       "    </tr>\n",
       "    <tr>\n",
       "      <th>10</th>\n",
       "      <td>DallasFtWorth</td>\n",
       "      <td>0.755882</td>\n",
       "    </tr>\n",
       "    <tr>\n",
       "      <th>11</th>\n",
       "      <td>Denver</td>\n",
       "      <td>1.080833</td>\n",
       "    </tr>\n",
       "    <tr>\n",
       "      <th>12</th>\n",
       "      <td>Detroit</td>\n",
       "      <td>1.041250</td>\n",
       "    </tr>\n",
       "    <tr>\n",
       "      <th>13</th>\n",
       "      <td>GrandRapids</td>\n",
       "      <td>1.136957</td>\n",
       "    </tr>\n",
       "    <tr>\n",
       "      <th>14</th>\n",
       "      <td>GreatLakes</td>\n",
       "      <td>1.107222</td>\n",
       "    </tr>\n",
       "    <tr>\n",
       "      <th>15</th>\n",
       "      <td>HarrisburgScranton</td>\n",
       "      <td>1.157368</td>\n",
       "    </tr>\n",
       "    <tr>\n",
       "      <th>16</th>\n",
       "      <td>HartfordSpringfield</td>\n",
       "      <td>1.209231</td>\n",
       "    </tr>\n",
       "    <tr>\n",
       "      <th>17</th>\n",
       "      <td>Houston</td>\n",
       "      <td>0.780690</td>\n",
       "    </tr>\n",
       "    <tr>\n",
       "      <th>18</th>\n",
       "      <td>Indianapolis</td>\n",
       "      <td>1.126250</td>\n",
       "    </tr>\n",
       "    <tr>\n",
       "      <th>19</th>\n",
       "      <td>Jacksonville</td>\n",
       "      <td>1.113659</td>\n",
       "    </tr>\n",
       "    <tr>\n",
       "      <th>20</th>\n",
       "      <td>LasVegas</td>\n",
       "      <td>1.041000</td>\n",
       "    </tr>\n",
       "    <tr>\n",
       "      <th>21</th>\n",
       "      <td>LosAngeles</td>\n",
       "      <td>0.863333</td>\n",
       "    </tr>\n",
       "    <tr>\n",
       "      <th>22</th>\n",
       "      <td>Louisville</td>\n",
       "      <td>1.042941</td>\n",
       "    </tr>\n",
       "    <tr>\n",
       "      <th>23</th>\n",
       "      <td>MiamiFtLauderdale</td>\n",
       "      <td>1.176471</td>\n",
       "    </tr>\n",
       "    <tr>\n",
       "      <th>24</th>\n",
       "      <td>Midsouth</td>\n",
       "      <td>1.081111</td>\n",
       "    </tr>\n",
       "    <tr>\n",
       "      <th>25</th>\n",
       "      <td>Nashville</td>\n",
       "      <td>1.028400</td>\n",
       "    </tr>\n",
       "    <tr>\n",
       "      <th>26</th>\n",
       "      <td>NewYork</td>\n",
       "      <td>1.248636</td>\n",
       "    </tr>\n",
       "    <tr>\n",
       "      <th>27</th>\n",
       "      <td>Northeast</td>\n",
       "      <td>1.236667</td>\n",
       "    </tr>\n",
       "    <tr>\n",
       "      <th>28</th>\n",
       "      <td>NorthernNewEngland</td>\n",
       "      <td>1.111034</td>\n",
       "    </tr>\n",
       "    <tr>\n",
       "      <th>29</th>\n",
       "      <td>Orlando</td>\n",
       "      <td>1.133333</td>\n",
       "    </tr>\n",
       "    <tr>\n",
       "      <th>30</th>\n",
       "      <td>Philadelphia</td>\n",
       "      <td>1.293846</td>\n",
       "    </tr>\n",
       "    <tr>\n",
       "      <th>31</th>\n",
       "      <td>PhoenixTucson</td>\n",
       "      <td>0.659808</td>\n",
       "    </tr>\n",
       "    <tr>\n",
       "      <th>32</th>\n",
       "      <td>Pittsburgh</td>\n",
       "      <td>1.178636</td>\n",
       "    </tr>\n",
       "    <tr>\n",
       "      <th>33</th>\n",
       "      <td>Plains</td>\n",
       "      <td>1.051667</td>\n",
       "    </tr>\n",
       "    <tr>\n",
       "      <th>34</th>\n",
       "      <td>Portland</td>\n",
       "      <td>1.043667</td>\n",
       "    </tr>\n",
       "    <tr>\n",
       "      <th>35</th>\n",
       "      <td>RaleighGreensboro</td>\n",
       "      <td>1.166250</td>\n",
       "    </tr>\n",
       "    <tr>\n",
       "      <th>36</th>\n",
       "      <td>RichmondNorfolk</td>\n",
       "      <td>1.004762</td>\n",
       "    </tr>\n",
       "    <tr>\n",
       "      <th>37</th>\n",
       "      <td>Roanoke</td>\n",
       "      <td>1.096471</td>\n",
       "    </tr>\n",
       "    <tr>\n",
       "      <th>38</th>\n",
       "      <td>SanDiego</td>\n",
       "      <td>0.993421</td>\n",
       "    </tr>\n",
       "    <tr>\n",
       "      <th>39</th>\n",
       "      <td>SanFrancisco</td>\n",
       "      <td>1.150667</td>\n",
       "    </tr>\n",
       "    <tr>\n",
       "      <th>40</th>\n",
       "      <td>Seattle</td>\n",
       "      <td>1.052222</td>\n",
       "    </tr>\n",
       "    <tr>\n",
       "      <th>41</th>\n",
       "      <td>SouthCarolina</td>\n",
       "      <td>1.071250</td>\n",
       "    </tr>\n",
       "    <tr>\n",
       "      <th>42</th>\n",
       "      <td>SouthCentral</td>\n",
       "      <td>0.818718</td>\n",
       "    </tr>\n",
       "    <tr>\n",
       "      <th>43</th>\n",
       "      <td>Southeast</td>\n",
       "      <td>1.091111</td>\n",
       "    </tr>\n",
       "    <tr>\n",
       "      <th>44</th>\n",
       "      <td>Spokane</td>\n",
       "      <td>1.096122</td>\n",
       "    </tr>\n",
       "    <tr>\n",
       "      <th>45</th>\n",
       "      <td>StLouis</td>\n",
       "      <td>1.260000</td>\n",
       "    </tr>\n",
       "    <tr>\n",
       "      <th>46</th>\n",
       "      <td>Syracuse</td>\n",
       "      <td>1.347368</td>\n",
       "    </tr>\n",
       "    <tr>\n",
       "      <th>47</th>\n",
       "      <td>Tampa</td>\n",
       "      <td>1.068824</td>\n",
       "    </tr>\n",
       "    <tr>\n",
       "      <th>48</th>\n",
       "      <td>TotalUS</td>\n",
       "      <td>1.011600</td>\n",
       "    </tr>\n",
       "    <tr>\n",
       "      <th>49</th>\n",
       "      <td>West</td>\n",
       "      <td>0.940833</td>\n",
       "    </tr>\n",
       "    <tr>\n",
       "      <th>50</th>\n",
       "      <td>WestTexNewMexico</td>\n",
       "      <td>0.757407</td>\n",
       "    </tr>\n",
       "  </tbody>\n",
       "</table>\n",
       "</div>"
      ],
      "text/plain": [
       "                 region  AveragePrice\n",
       "0                Albany      1.238657\n",
       "1               Atlanta      1.012037\n",
       "2   BaltimoreWashington      1.160923\n",
       "3                 Boise      0.974923\n",
       "4                Boston      1.205484\n",
       "5      BuffaloRochester      1.301569\n",
       "6            California      1.055921\n",
       "7             Charlotte      1.311613\n",
       "8               Chicago      1.214783\n",
       "9              Columbus      1.012553\n",
       "10        DallasFtWorth      0.755882\n",
       "11               Denver      1.080833\n",
       "12              Detroit      1.041250\n",
       "13          GrandRapids      1.136957\n",
       "14           GreatLakes      1.107222\n",
       "15   HarrisburgScranton      1.157368\n",
       "16  HartfordSpringfield      1.209231\n",
       "17              Houston      0.780690\n",
       "18         Indianapolis      1.126250\n",
       "19         Jacksonville      1.113659\n",
       "20             LasVegas      1.041000\n",
       "21           LosAngeles      0.863333\n",
       "22           Louisville      1.042941\n",
       "23    MiamiFtLauderdale      1.176471\n",
       "24             Midsouth      1.081111\n",
       "25            Nashville      1.028400\n",
       "26              NewYork      1.248636\n",
       "27            Northeast      1.236667\n",
       "28   NorthernNewEngland      1.111034\n",
       "29              Orlando      1.133333\n",
       "30         Philadelphia      1.293846\n",
       "31        PhoenixTucson      0.659808\n",
       "32           Pittsburgh      1.178636\n",
       "33               Plains      1.051667\n",
       "34             Portland      1.043667\n",
       "35    RaleighGreensboro      1.166250\n",
       "36      RichmondNorfolk      1.004762\n",
       "37              Roanoke      1.096471\n",
       "38             SanDiego      0.993421\n",
       "39         SanFrancisco      1.150667\n",
       "40              Seattle      1.052222\n",
       "41        SouthCarolina      1.071250\n",
       "42         SouthCentral      0.818718\n",
       "43            Southeast      1.091111\n",
       "44              Spokane      1.096122\n",
       "45              StLouis      1.260000\n",
       "46             Syracuse      1.347368\n",
       "47                Tampa      1.068824\n",
       "48              TotalUS      1.011600\n",
       "49                 West      0.940833\n",
       "50     WestTexNewMexico      0.757407"
      ]
     },
     "execution_count": 9,
     "metadata": {},
     "output_type": "execute_result"
    }
   ],
   "source": [
    "df_group= df[['region','AveragePrice']]\n",
    "df_group= df_group.groupby(['region'],as_index=False).mean()\n",
    "df_group"
   ]
  },
  {
   "cell_type": "code",
   "execution_count": 10,
   "metadata": {},
   "outputs": [
    {
     "data": {
      "text/plain": [
       "region          WestTexNewMexico\n",
       "AveragePrice             1.34737\n",
       "dtype: object"
      ]
     },
     "execution_count": 10,
     "metadata": {},
     "output_type": "execute_result"
    }
   ],
   "source": [
    "df_group.max()"
   ]
  },
  {
   "cell_type": "markdown",
   "metadata": {},
   "source": [
    "WestTexNewMexico in region has highest average price"
   ]
  },
  {
   "cell_type": "code",
   "execution_count": 11,
   "metadata": {},
   "outputs": [
    {
     "data": {
      "text/plain": [
       "region            Albany\n",
       "AveragePrice    0.659808\n",
       "dtype: object"
      ]
     },
     "execution_count": 11,
     "metadata": {},
     "output_type": "execute_result"
    }
   ],
   "source": [
    "df_group.min()"
   ]
  },
  {
   "cell_type": "markdown",
   "metadata": {},
   "source": [
    "Albany in region has loswest average price"
   ]
  },
  {
   "cell_type": "markdown",
   "metadata": {},
   "source": [
    "***Lets explore average price with Date***"
   ]
  },
  {
   "cell_type": "code",
   "execution_count": 12,
   "metadata": {},
   "outputs": [
    {
     "data": {
      "text/html": [
       "<div>\n",
       "<style scoped>\n",
       "    .dataframe tbody tr th:only-of-type {\n",
       "        vertical-align: middle;\n",
       "    }\n",
       "\n",
       "    .dataframe tbody tr th {\n",
       "        vertical-align: top;\n",
       "    }\n",
       "\n",
       "    .dataframe thead th {\n",
       "        text-align: right;\n",
       "    }\n",
       "</style>\n",
       "<table border=\"1\" class=\"dataframe\">\n",
       "  <thead>\n",
       "    <tr style=\"text-align: right;\">\n",
       "      <th></th>\n",
       "      <th>Date</th>\n",
       "      <th>AveragePrice</th>\n",
       "    </tr>\n",
       "  </thead>\n",
       "  <tbody>\n",
       "    <tr>\n",
       "      <th>0</th>\n",
       "      <td>2015-01-02</td>\n",
       "      <td>0.950833</td>\n",
       "    </tr>\n",
       "    <tr>\n",
       "      <th>1</th>\n",
       "      <td>2015-01-03</td>\n",
       "      <td>1.044333</td>\n",
       "    </tr>\n",
       "    <tr>\n",
       "      <th>2</th>\n",
       "      <td>2015-01-11</td>\n",
       "      <td>1.023182</td>\n",
       "    </tr>\n",
       "    <tr>\n",
       "      <th>3</th>\n",
       "      <td>2015-01-18</td>\n",
       "      <td>1.108571</td>\n",
       "    </tr>\n",
       "    <tr>\n",
       "      <th>4</th>\n",
       "      <td>2015-01-25</td>\n",
       "      <td>1.080455</td>\n",
       "    </tr>\n",
       "    <tr>\n",
       "      <th>...</th>\n",
       "      <td>...</td>\n",
       "      <td>...</td>\n",
       "    </tr>\n",
       "    <tr>\n",
       "      <th>99</th>\n",
       "      <td>2016-11-20</td>\n",
       "      <td>1.456667</td>\n",
       "    </tr>\n",
       "    <tr>\n",
       "      <th>100</th>\n",
       "      <td>2016-11-27</td>\n",
       "      <td>1.418333</td>\n",
       "    </tr>\n",
       "    <tr>\n",
       "      <th>101</th>\n",
       "      <td>2016-12-06</td>\n",
       "      <td>1.197500</td>\n",
       "    </tr>\n",
       "    <tr>\n",
       "      <th>102</th>\n",
       "      <td>2016-12-18</td>\n",
       "      <td>1.198333</td>\n",
       "    </tr>\n",
       "    <tr>\n",
       "      <th>103</th>\n",
       "      <td>2016-12-25</td>\n",
       "      <td>1.238333</td>\n",
       "    </tr>\n",
       "  </tbody>\n",
       "</table>\n",
       "<p>104 rows × 2 columns</p>\n",
       "</div>"
      ],
      "text/plain": [
       "          Date  AveragePrice\n",
       "0   2015-01-02      0.950833\n",
       "1   2015-01-03      1.044333\n",
       "2   2015-01-11      1.023182\n",
       "3   2015-01-18      1.108571\n",
       "4   2015-01-25      1.080455\n",
       "..         ...           ...\n",
       "99  2016-11-20      1.456667\n",
       "100 2016-11-27      1.418333\n",
       "101 2016-12-06      1.197500\n",
       "102 2016-12-18      1.198333\n",
       "103 2016-12-25      1.238333\n",
       "\n",
       "[104 rows x 2 columns]"
      ]
     },
     "execution_count": 12,
     "metadata": {},
     "output_type": "execute_result"
    }
   ],
   "source": [
    "df_group= df[['Date','AveragePrice']]\n",
    "df_group= df_group.groupby(['Date'],as_index=False).mean()\n",
    "df_group"
   ]
  },
  {
   "cell_type": "code",
   "execution_count": 13,
   "metadata": {},
   "outputs": [
    {
     "data": {
      "text/plain": [
       "<matplotlib.axes._subplots.AxesSubplot at 0x15d6742ce20>"
      ]
     },
     "execution_count": 13,
     "metadata": {},
     "output_type": "execute_result"
    },
    {
     "data": {
      "image/png": "[encoded data removed]",
      "text/plain": [
       "<Figure size 432x288 with 1 Axes>"
      ]
     },
     "metadata": {},
     "output_type": "display_data"
    }
   ],
   "source": [
    "sns.lineplot(x=\"Date\",y=\"AveragePrice\",data=df_group)"
   ]
  },
  {
   "cell_type": "code",
   "execution_count": 14,
   "metadata": {},
   "outputs": [
    {
     "data": {
      "text/plain": [
       "Date            2016-12-25 00:00:00\n",
       "AveragePrice                  1.574\n",
       "dtype: object"
      ]
     },
     "execution_count": 14,
     "metadata": {},
     "output_type": "execute_result"
    }
   ],
   "source": [
    "df_group.max()"
   ]
  },
  {
   "cell_type": "markdown",
   "metadata": {},
   "source": [
    "AveragePrice was maximum on Date 2016-12-25"
   ]
  },
  {
   "cell_type": "code",
   "execution_count": 15,
   "metadata": {},
   "outputs": [
    {
     "data": {
      "text/plain": [
       "Date            2015-01-02 00:00:00\n",
       "AveragePrice                   0.85\n",
       "dtype: object"
      ]
     },
     "execution_count": 15,
     "metadata": {},
     "output_type": "execute_result"
    }
   ],
   "source": [
    "df_group.min()"
   ]
  },
  {
   "cell_type": "markdown",
   "metadata": {},
   "source": [
    "AveragePrice was minimum on Date 2015-01-02"
   ]
  },
  {
   "cell_type": "markdown",
   "metadata": {},
   "source": [
    "***Dropping Date, type and year since they have no purpose to serve anymore***"
   ]
  },
  {
   "cell_type": "code",
   "execution_count": 16,
   "metadata": {},
   "outputs": [],
   "source": [
    "df=df.drop(['Date','type','year'],axis=1)"
   ]
  },
  {
   "cell_type": "code",
   "execution_count": 17,
   "metadata": {},
   "outputs": [
    {
     "data": {
      "text/html": [
       "<div>\n",
       "<style scoped>\n",
       "    .dataframe tbody tr th:only-of-type {\n",
       "        vertical-align: middle;\n",
       "    }\n",
       "\n",
       "    .dataframe tbody tr th {\n",
       "        vertical-align: top;\n",
       "    }\n",
       "\n",
       "    .dataframe thead th {\n",
       "        text-align: right;\n",
       "    }\n",
       "</style>\n",
       "<table border=\"1\" class=\"dataframe\">\n",
       "  <thead>\n",
       "    <tr style=\"text-align: right;\">\n",
       "      <th></th>\n",
       "      <th>AveragePrice</th>\n",
       "      <th>Total Volume</th>\n",
       "      <th>4046</th>\n",
       "      <th>4225</th>\n",
       "      <th>4770</th>\n",
       "      <th>Total Bags</th>\n",
       "      <th>Small Bags</th>\n",
       "      <th>Large Bags</th>\n",
       "      <th>XLarge Bags</th>\n",
       "      <th>region</th>\n",
       "    </tr>\n",
       "  </thead>\n",
       "  <tbody>\n",
       "    <tr>\n",
       "      <th>0</th>\n",
       "      <td>1.33</td>\n",
       "      <td>64236.62</td>\n",
       "      <td>1036.74</td>\n",
       "      <td>54454.85</td>\n",
       "      <td>48.16</td>\n",
       "      <td>8696.87</td>\n",
       "      <td>8603.62</td>\n",
       "      <td>93.25</td>\n",
       "      <td>0.0</td>\n",
       "      <td>Albany</td>\n",
       "    </tr>\n",
       "    <tr>\n",
       "      <th>1</th>\n",
       "      <td>1.35</td>\n",
       "      <td>54876.98</td>\n",
       "      <td>674.28</td>\n",
       "      <td>44638.81</td>\n",
       "      <td>58.33</td>\n",
       "      <td>9505.56</td>\n",
       "      <td>9408.07</td>\n",
       "      <td>97.49</td>\n",
       "      <td>0.0</td>\n",
       "      <td>Albany</td>\n",
       "    </tr>\n",
       "    <tr>\n",
       "      <th>2</th>\n",
       "      <td>0.93</td>\n",
       "      <td>118220.22</td>\n",
       "      <td>794.70</td>\n",
       "      <td>109149.67</td>\n",
       "      <td>130.50</td>\n",
       "      <td>8145.35</td>\n",
       "      <td>8042.21</td>\n",
       "      <td>103.14</td>\n",
       "      <td>0.0</td>\n",
       "      <td>Albany</td>\n",
       "    </tr>\n",
       "    <tr>\n",
       "      <th>3</th>\n",
       "      <td>1.08</td>\n",
       "      <td>78992.15</td>\n",
       "      <td>1132.00</td>\n",
       "      <td>71976.41</td>\n",
       "      <td>72.58</td>\n",
       "      <td>5811.16</td>\n",
       "      <td>5677.40</td>\n",
       "      <td>133.76</td>\n",
       "      <td>0.0</td>\n",
       "      <td>Albany</td>\n",
       "    </tr>\n",
       "    <tr>\n",
       "      <th>4</th>\n",
       "      <td>1.28</td>\n",
       "      <td>51039.60</td>\n",
       "      <td>941.48</td>\n",
       "      <td>43838.39</td>\n",
       "      <td>75.78</td>\n",
       "      <td>6183.95</td>\n",
       "      <td>5986.26</td>\n",
       "      <td>197.69</td>\n",
       "      <td>0.0</td>\n",
       "      <td>Albany</td>\n",
       "    </tr>\n",
       "  </tbody>\n",
       "</table>\n",
       "</div>"
      ],
      "text/plain": [
       "   AveragePrice  Total Volume     4046       4225    4770  Total Bags  \\\n",
       "0          1.33      64236.62  1036.74   54454.85   48.16     8696.87   \n",
       "1          1.35      54876.98   674.28   44638.81   58.33     9505.56   \n",
       "2          0.93     118220.22   794.70  109149.67  130.50     8145.35   \n",
       "3          1.08      78992.15  1132.00   71976.41   72.58     5811.16   \n",
       "4          1.28      51039.60   941.48   43838.39   75.78     6183.95   \n",
       "\n",
       "   Small Bags  Large Bags  XLarge Bags  region  \n",
       "0     8603.62       93.25          0.0  Albany  \n",
       "1     9408.07       97.49          0.0  Albany  \n",
       "2     8042.21      103.14          0.0  Albany  \n",
       "3     5677.40      133.76          0.0  Albany  \n",
       "4     5986.26      197.69          0.0  Albany  "
      ]
     },
     "execution_count": 17,
     "metadata": {},
     "output_type": "execute_result"
    }
   ],
   "source": [
    "df.head()"
   ]
  },
  {
   "cell_type": "markdown",
   "metadata": {},
   "source": [
    "***Checking for outliers***"
   ]
  },
  {
   "cell_type": "markdown",
   "metadata": {},
   "source": [
    "*First we will check for outliers visually for each attributes, for this box plot is the best option*"
   ]
  },
  {
   "cell_type": "code",
   "execution_count": 18,
   "metadata": {},
   "outputs": [
    {
     "name": "stdout",
     "output_type": "stream",
     "text": [
      "AxesSubplot(0.125,0.125;0.775x0.755)\n"
     ]
    },
    {
     "data": {
      "image/png": "[encoded data removed]",
      "text/plain": [
       "<Figure size 432x288 with 1 Axes>"
      ]
     },
     "metadata": {},
     "output_type": "display_data"
    },
    {
     "name": "stdout",
     "output_type": "stream",
     "text": [
      "AxesSubplot(0.125,0.125;0.775x0.755)\n"
     ]
    },
    {
     "data": {
      "image/png": "[encoded data removed]",
      "text/plain": [
       "<Figure size 432x288 with 1 Axes>"
      ]
     },
     "metadata": {},
     "output_type": "display_data"
    },
    {
     "name": "stdout",
     "output_type": "stream",
     "text": [
      "AxesSubplot(0.125,0.125;0.775x0.755)\n"
     ]
    },
    {
     "data": {
      "image/png": "[encoded data removed]",
      "text/plain": [
       "<Figure size 432x288 with 1 Axes>"
      ]
     },
     "metadata": {},
     "output_type": "display_data"
    },
    {
     "name": "stdout",
     "output_type": "stream",
     "text": [
      "AxesSubplot(0.125,0.125;0.775x0.755)\n"
     ]
    },
    {
     "data": {
      "image/png": "[encoded data removed]",
      "text/plain": [
       "<Figure size 432x288 with 1 Axes>"
      ]
     },
     "metadata": {},
     "output_type": "display_data"
    },
    {
     "name": "stdout",
     "output_type": "stream",
     "text": [
      "AxesSubplot(0.125,0.125;0.775x0.755)\n"
     ]
    },
    {
     "data": {
      "image/png": "[encoded data removed]",
      "text/plain": [
       "<Figure size 432x288 with 1 Axes>"
      ]
     },
     "metadata": {},
     "output_type": "display_data"
    },
    {
     "name": "stdout",
     "output_type": "stream",
     "text": [
      "AxesSubplot(0.125,0.125;0.775x0.755)\n"
     ]
    },
    {
     "data": {
      "image/png": "[encoded data removed]",
      "text/plain": [
       "<Figure size 432x288 with 1 Axes>"
      ]
     },
     "metadata": {},
     "output_type": "display_data"
    },
    {
     "name": "stdout",
     "output_type": "stream",
     "text": [
      "AxesSubplot(0.125,0.125;0.775x0.755)\n"
     ]
    },
    {
     "data": {
      "image/png": "[encoded data removed]",
      "text/plain": [
       "<Figure size 432x288 with 1 Axes>"
      ]
     },
     "metadata": {},
     "output_type": "display_data"
    },
    {
     "name": "stdout",
     "output_type": "stream",
     "text": [
      "AxesSubplot(0.125,0.125;0.775x0.755)\n"
     ]
    },
    {
     "data": {
      "image/png": "[encoded data removed]",
      "text/plain": [
       "<Figure size 432x288 with 1 Axes>"
      ]
     },
     "metadata": {},
     "output_type": "display_data"
    }
   ],
   "source": [
    "col=['Total Volume','4046','4225','4770','Total Bags','Small Bags','Large Bags','XLarge Bags']\n",
    "for i in range(0,8):\n",
    "    print(sns.boxplot(df[col[i]],color='r'))\n",
    "    plt.show()"
   ]
  },
  {
   "cell_type": "markdown",
   "metadata": {},
   "source": [
    "We can see visually that there are multiple dots outside the plot which are indicating outliers, here its huge"
   ]
  },
  {
   "cell_type": "markdown",
   "metadata": {},
   "source": [
    "***Before removing outliers, lets convert region also to interger values, so it will be easier for us to do further process***"
   ]
  },
  {
   "cell_type": "markdown",
   "metadata": {},
   "source": [
    "***Converting categorical in to numerical using label encoder***"
   ]
  },
  {
   "cell_type": "code",
   "execution_count": 19,
   "metadata": {},
   "outputs": [
    {
     "data": {
      "text/html": [
       "<div>\n",
       "<style scoped>\n",
       "    .dataframe tbody tr th:only-of-type {\n",
       "        vertical-align: middle;\n",
       "    }\n",
       "\n",
       "    .dataframe tbody tr th {\n",
       "        vertical-align: top;\n",
       "    }\n",
       "\n",
       "    .dataframe thead th {\n",
       "        text-align: right;\n",
       "    }\n",
       "</style>\n",
       "<table border=\"1\" class=\"dataframe\">\n",
       "  <thead>\n",
       "    <tr style=\"text-align: right;\">\n",
       "      <th></th>\n",
       "      <th>AveragePrice</th>\n",
       "      <th>Total Volume</th>\n",
       "      <th>4046</th>\n",
       "      <th>4225</th>\n",
       "      <th>4770</th>\n",
       "      <th>Total Bags</th>\n",
       "      <th>Small Bags</th>\n",
       "      <th>Large Bags</th>\n",
       "      <th>XLarge Bags</th>\n",
       "      <th>region</th>\n",
       "    </tr>\n",
       "  </thead>\n",
       "  <tbody>\n",
       "    <tr>\n",
       "      <th>0</th>\n",
       "      <td>1.33</td>\n",
       "      <td>64236.62</td>\n",
       "      <td>1036.74</td>\n",
       "      <td>54454.85</td>\n",
       "      <td>48.16</td>\n",
       "      <td>8696.87</td>\n",
       "      <td>8603.62</td>\n",
       "      <td>93.25</td>\n",
       "      <td>0.0</td>\n",
       "      <td>Albany</td>\n",
       "    </tr>\n",
       "    <tr>\n",
       "      <th>1</th>\n",
       "      <td>1.35</td>\n",
       "      <td>54876.98</td>\n",
       "      <td>674.28</td>\n",
       "      <td>44638.81</td>\n",
       "      <td>58.33</td>\n",
       "      <td>9505.56</td>\n",
       "      <td>9408.07</td>\n",
       "      <td>97.49</td>\n",
       "      <td>0.0</td>\n",
       "      <td>Albany</td>\n",
       "    </tr>\n",
       "    <tr>\n",
       "      <th>2</th>\n",
       "      <td>0.93</td>\n",
       "      <td>118220.22</td>\n",
       "      <td>794.70</td>\n",
       "      <td>109149.67</td>\n",
       "      <td>130.50</td>\n",
       "      <td>8145.35</td>\n",
       "      <td>8042.21</td>\n",
       "      <td>103.14</td>\n",
       "      <td>0.0</td>\n",
       "      <td>Albany</td>\n",
       "    </tr>\n",
       "    <tr>\n",
       "      <th>3</th>\n",
       "      <td>1.08</td>\n",
       "      <td>78992.15</td>\n",
       "      <td>1132.00</td>\n",
       "      <td>71976.41</td>\n",
       "      <td>72.58</td>\n",
       "      <td>5811.16</td>\n",
       "      <td>5677.40</td>\n",
       "      <td>133.76</td>\n",
       "      <td>0.0</td>\n",
       "      <td>Albany</td>\n",
       "    </tr>\n",
       "    <tr>\n",
       "      <th>4</th>\n",
       "      <td>1.28</td>\n",
       "      <td>51039.60</td>\n",
       "      <td>941.48</td>\n",
       "      <td>43838.39</td>\n",
       "      <td>75.78</td>\n",
       "      <td>6183.95</td>\n",
       "      <td>5986.26</td>\n",
       "      <td>197.69</td>\n",
       "      <td>0.0</td>\n",
       "      <td>Albany</td>\n",
       "    </tr>\n",
       "  </tbody>\n",
       "</table>\n",
       "</div>"
      ],
      "text/plain": [
       "   AveragePrice  Total Volume     4046       4225    4770  Total Bags  \\\n",
       "0          1.33      64236.62  1036.74   54454.85   48.16     8696.87   \n",
       "1          1.35      54876.98   674.28   44638.81   58.33     9505.56   \n",
       "2          0.93     118220.22   794.70  109149.67  130.50     8145.35   \n",
       "3          1.08      78992.15  1132.00   71976.41   72.58     5811.16   \n",
       "4          1.28      51039.60   941.48   43838.39   75.78     6183.95   \n",
       "\n",
       "   Small Bags  Large Bags  XLarge Bags  region  \n",
       "0     8603.62       93.25          0.0  Albany  \n",
       "1     9408.07       97.49          0.0  Albany  \n",
       "2     8042.21      103.14          0.0  Albany  \n",
       "3     5677.40      133.76          0.0  Albany  \n",
       "4     5986.26      197.69          0.0  Albany  "
      ]
     },
     "execution_count": 19,
     "metadata": {},
     "output_type": "execute_result"
    }
   ],
   "source": [
    "df.head()"
   ]
  },
  {
   "cell_type": "code",
   "execution_count": 20,
   "metadata": {},
   "outputs": [
    {
     "data": {
      "text/html": [
       "<div>\n",
       "<style scoped>\n",
       "    .dataframe tbody tr th:only-of-type {\n",
       "        vertical-align: middle;\n",
       "    }\n",
       "\n",
       "    .dataframe tbody tr th {\n",
       "        vertical-align: top;\n",
       "    }\n",
       "\n",
       "    .dataframe thead th {\n",
       "        text-align: right;\n",
       "    }\n",
       "</style>\n",
       "<table border=\"1\" class=\"dataframe\">\n",
       "  <thead>\n",
       "    <tr style=\"text-align: right;\">\n",
       "      <th></th>\n",
       "      <th>AveragePrice</th>\n",
       "      <th>Total Volume</th>\n",
       "      <th>4046</th>\n",
       "      <th>4225</th>\n",
       "      <th>4770</th>\n",
       "      <th>Total Bags</th>\n",
       "      <th>Small Bags</th>\n",
       "      <th>Large Bags</th>\n",
       "      <th>XLarge Bags</th>\n",
       "      <th>region</th>\n",
       "    </tr>\n",
       "  </thead>\n",
       "  <tbody>\n",
       "    <tr>\n",
       "      <th>0</th>\n",
       "      <td>1.33</td>\n",
       "      <td>64236.62</td>\n",
       "      <td>1036.74</td>\n",
       "      <td>54454.85</td>\n",
       "      <td>48.16</td>\n",
       "      <td>8696.87</td>\n",
       "      <td>8603.62</td>\n",
       "      <td>93.25</td>\n",
       "      <td>0.0</td>\n",
       "      <td>0</td>\n",
       "    </tr>\n",
       "    <tr>\n",
       "      <th>1</th>\n",
       "      <td>1.35</td>\n",
       "      <td>54876.98</td>\n",
       "      <td>674.28</td>\n",
       "      <td>44638.81</td>\n",
       "      <td>58.33</td>\n",
       "      <td>9505.56</td>\n",
       "      <td>9408.07</td>\n",
       "      <td>97.49</td>\n",
       "      <td>0.0</td>\n",
       "      <td>0</td>\n",
       "    </tr>\n",
       "    <tr>\n",
       "      <th>2</th>\n",
       "      <td>0.93</td>\n",
       "      <td>118220.22</td>\n",
       "      <td>794.70</td>\n",
       "      <td>109149.67</td>\n",
       "      <td>130.50</td>\n",
       "      <td>8145.35</td>\n",
       "      <td>8042.21</td>\n",
       "      <td>103.14</td>\n",
       "      <td>0.0</td>\n",
       "      <td>0</td>\n",
       "    </tr>\n",
       "    <tr>\n",
       "      <th>3</th>\n",
       "      <td>1.08</td>\n",
       "      <td>78992.15</td>\n",
       "      <td>1132.00</td>\n",
       "      <td>71976.41</td>\n",
       "      <td>72.58</td>\n",
       "      <td>5811.16</td>\n",
       "      <td>5677.40</td>\n",
       "      <td>133.76</td>\n",
       "      <td>0.0</td>\n",
       "      <td>0</td>\n",
       "    </tr>\n",
       "    <tr>\n",
       "      <th>4</th>\n",
       "      <td>1.28</td>\n",
       "      <td>51039.60</td>\n",
       "      <td>941.48</td>\n",
       "      <td>43838.39</td>\n",
       "      <td>75.78</td>\n",
       "      <td>6183.95</td>\n",
       "      <td>5986.26</td>\n",
       "      <td>197.69</td>\n",
       "      <td>0.0</td>\n",
       "      <td>0</td>\n",
       "    </tr>\n",
       "  </tbody>\n",
       "</table>\n",
       "</div>"
      ],
      "text/plain": [
       "   AveragePrice  Total Volume     4046       4225    4770  Total Bags  \\\n",
       "0          1.33      64236.62  1036.74   54454.85   48.16     8696.87   \n",
       "1          1.35      54876.98   674.28   44638.81   58.33     9505.56   \n",
       "2          0.93     118220.22   794.70  109149.67  130.50     8145.35   \n",
       "3          1.08      78992.15  1132.00   71976.41   72.58     5811.16   \n",
       "4          1.28      51039.60   941.48   43838.39   75.78     6183.95   \n",
       "\n",
       "   Small Bags  Large Bags  XLarge Bags  region  \n",
       "0     8603.62       93.25          0.0       0  \n",
       "1     9408.07       97.49          0.0       0  \n",
       "2     8042.21      103.14          0.0       0  \n",
       "3     5677.40      133.76          0.0       0  \n",
       "4     5986.26      197.69          0.0       0  "
      ]
     },
     "execution_count": 20,
     "metadata": {},
     "output_type": "execute_result"
    }
   ],
   "source": [
    "from sklearn import preprocessing\n",
    "le = preprocessing.LabelEncoder()\n",
    "le.fit(df['region'])\n",
    "Region=le.transform(df['region'])\n",
    "df=df.drop(['region'],axis=1)\n",
    "region=pd.DataFrame(Region)\n",
    "df['region']=region\n",
    "df.head()"
   ]
  },
  {
   "cell_type": "markdown",
   "metadata": {},
   "source": [
    "*Now, we will remove these outliers using below code*"
   ]
  },
  {
   "cell_type": "code",
   "execution_count": 21,
   "metadata": {},
   "outputs": [
    {
     "name": "stdout",
     "output_type": "stream",
     "text": [
      "The shape of the dataset before removing outliers is (1517, 10)\n",
      "The shape of the dataset after removing outliers is (1436, 10)\n"
     ]
    }
   ],
   "source": [
    "from scipy.stats import zscore\n",
    "import numpy as np\n",
    "z = np.abs(zscore(df))\n",
    "print('The shape of the dataset before removing outliers is',df.shape)\n",
    "df_z = df[(z < 3).all(axis=1)]\n",
    "print('The shape of the dataset after removing outliers is',df_z.shape)\n",
    "df=df_z"
   ]
  },
  {
   "cell_type": "markdown",
   "metadata": {},
   "source": [
    "***Lets calculate correlation***"
   ]
  },
  {
   "cell_type": "code",
   "execution_count": 22,
   "metadata": {},
   "outputs": [
    {
     "data": {
      "text/html": [
       "<div>\n",
       "<style scoped>\n",
       "    .dataframe tbody tr th:only-of-type {\n",
       "        vertical-align: middle;\n",
       "    }\n",
       "\n",
       "    .dataframe tbody tr th {\n",
       "        vertical-align: top;\n",
       "    }\n",
       "\n",
       "    .dataframe thead th {\n",
       "        text-align: right;\n",
       "    }\n",
       "</style>\n",
       "<table border=\"1\" class=\"dataframe\">\n",
       "  <thead>\n",
       "    <tr style=\"text-align: right;\">\n",
       "      <th></th>\n",
       "      <th>AveragePrice</th>\n",
       "      <th>Total Volume</th>\n",
       "      <th>4046</th>\n",
       "      <th>4225</th>\n",
       "      <th>4770</th>\n",
       "      <th>Total Bags</th>\n",
       "      <th>Small Bags</th>\n",
       "      <th>Large Bags</th>\n",
       "      <th>XLarge Bags</th>\n",
       "      <th>region</th>\n",
       "    </tr>\n",
       "  </thead>\n",
       "  <tbody>\n",
       "    <tr>\n",
       "      <th>AveragePrice</th>\n",
       "      <td>1.000000</td>\n",
       "      <td>-0.271504</td>\n",
       "      <td>-0.380282</td>\n",
       "      <td>-0.120872</td>\n",
       "      <td>-0.110292</td>\n",
       "      <td>-0.157514</td>\n",
       "      <td>-0.135342</td>\n",
       "      <td>-0.229402</td>\n",
       "      <td>-0.069536</td>\n",
       "      <td>-0.212618</td>\n",
       "    </tr>\n",
       "    <tr>\n",
       "      <th>Total Volume</th>\n",
       "      <td>-0.271504</td>\n",
       "      <td>1.000000</td>\n",
       "      <td>0.914238</td>\n",
       "      <td>0.916256</td>\n",
       "      <td>0.708447</td>\n",
       "      <td>0.875613</td>\n",
       "      <td>0.859114</td>\n",
       "      <td>0.750335</td>\n",
       "      <td>0.329997</td>\n",
       "      <td>0.159801</td>\n",
       "    </tr>\n",
       "    <tr>\n",
       "      <th>4046</th>\n",
       "      <td>-0.380282</td>\n",
       "      <td>0.914238</td>\n",
       "      <td>1.000000</td>\n",
       "      <td>0.696312</td>\n",
       "      <td>0.545078</td>\n",
       "      <td>0.665928</td>\n",
       "      <td>0.642025</td>\n",
       "      <td>0.630837</td>\n",
       "      <td>0.183037</td>\n",
       "      <td>0.227472</td>\n",
       "    </tr>\n",
       "    <tr>\n",
       "      <th>4225</th>\n",
       "      <td>-0.120872</td>\n",
       "      <td>0.916256</td>\n",
       "      <td>0.696312</td>\n",
       "      <td>1.000000</td>\n",
       "      <td>0.678638</td>\n",
       "      <td>0.853477</td>\n",
       "      <td>0.844277</td>\n",
       "      <td>0.698375</td>\n",
       "      <td>0.303602</td>\n",
       "      <td>0.088169</td>\n",
       "    </tr>\n",
       "    <tr>\n",
       "      <th>4770</th>\n",
       "      <td>-0.110292</td>\n",
       "      <td>0.708447</td>\n",
       "      <td>0.545078</td>\n",
       "      <td>0.678638</td>\n",
       "      <td>1.000000</td>\n",
       "      <td>0.730976</td>\n",
       "      <td>0.741428</td>\n",
       "      <td>0.484775</td>\n",
       "      <td>0.645120</td>\n",
       "      <td>-0.068400</td>\n",
       "    </tr>\n",
       "    <tr>\n",
       "      <th>Total Bags</th>\n",
       "      <td>-0.157514</td>\n",
       "      <td>0.875613</td>\n",
       "      <td>0.665928</td>\n",
       "      <td>0.853477</td>\n",
       "      <td>0.730976</td>\n",
       "      <td>1.000000</td>\n",
       "      <td>0.992654</td>\n",
       "      <td>0.791824</td>\n",
       "      <td>0.516496</td>\n",
       "      <td>0.076941</td>\n",
       "    </tr>\n",
       "    <tr>\n",
       "      <th>Small Bags</th>\n",
       "      <td>-0.135342</td>\n",
       "      <td>0.859114</td>\n",
       "      <td>0.642025</td>\n",
       "      <td>0.844277</td>\n",
       "      <td>0.741428</td>\n",
       "      <td>0.992654</td>\n",
       "      <td>1.000000</td>\n",
       "      <td>0.712355</td>\n",
       "      <td>0.533439</td>\n",
       "      <td>0.045297</td>\n",
       "    </tr>\n",
       "    <tr>\n",
       "      <th>Large Bags</th>\n",
       "      <td>-0.229402</td>\n",
       "      <td>0.750335</td>\n",
       "      <td>0.630837</td>\n",
       "      <td>0.698375</td>\n",
       "      <td>0.484775</td>\n",
       "      <td>0.791824</td>\n",
       "      <td>0.712355</td>\n",
       "      <td>1.000000</td>\n",
       "      <td>0.263228</td>\n",
       "      <td>0.227399</td>\n",
       "    </tr>\n",
       "    <tr>\n",
       "      <th>XLarge Bags</th>\n",
       "      <td>-0.069536</td>\n",
       "      <td>0.329997</td>\n",
       "      <td>0.183037</td>\n",
       "      <td>0.303602</td>\n",
       "      <td>0.645120</td>\n",
       "      <td>0.516496</td>\n",
       "      <td>0.533439</td>\n",
       "      <td>0.263228</td>\n",
       "      <td>1.000000</td>\n",
       "      <td>-0.175977</td>\n",
       "    </tr>\n",
       "    <tr>\n",
       "      <th>region</th>\n",
       "      <td>-0.212618</td>\n",
       "      <td>0.159801</td>\n",
       "      <td>0.227472</td>\n",
       "      <td>0.088169</td>\n",
       "      <td>-0.068400</td>\n",
       "      <td>0.076941</td>\n",
       "      <td>0.045297</td>\n",
       "      <td>0.227399</td>\n",
       "      <td>-0.175977</td>\n",
       "      <td>1.000000</td>\n",
       "    </tr>\n",
       "  </tbody>\n",
       "</table>\n",
       "</div>"
      ],
      "text/plain": [
       "              AveragePrice  Total Volume      4046      4225      4770  \\\n",
       "AveragePrice      1.000000     -0.271504 -0.380282 -0.120872 -0.110292   \n",
       "Total Volume     -0.271504      1.000000  0.914238  0.916256  0.708447   \n",
       "4046             -0.380282      0.914238  1.000000  0.696312  0.545078   \n",
       "4225             -0.120872      0.916256  0.696312  1.000000  0.678638   \n",
       "4770             -0.110292      0.708447  0.545078  0.678638  1.000000   \n",
       "Total Bags       -0.157514      0.875613  0.665928  0.853477  0.730976   \n",
       "Small Bags       -0.135342      0.859114  0.642025  0.844277  0.741428   \n",
       "Large Bags       -0.229402      0.750335  0.630837  0.698375  0.484775   \n",
       "XLarge Bags      -0.069536      0.329997  0.183037  0.303602  0.645120   \n",
       "region           -0.212618      0.159801  0.227472  0.088169 -0.068400   \n",
       "\n",
       "              Total Bags  Small Bags  Large Bags  XLarge Bags    region  \n",
       "AveragePrice   -0.157514   -0.135342   -0.229402    -0.069536 -0.212618  \n",
       "Total Volume    0.875613    0.859114    0.750335     0.329997  0.159801  \n",
       "4046            0.665928    0.642025    0.630837     0.183037  0.227472  \n",
       "4225            0.853477    0.844277    0.698375     0.303602  0.088169  \n",
       "4770            0.730976    0.741428    0.484775     0.645120 -0.068400  \n",
       "Total Bags      1.000000    0.992654    0.791824     0.516496  0.076941  \n",
       "Small Bags      0.992654    1.000000    0.712355     0.533439  0.045297  \n",
       "Large Bags      0.791824    0.712355    1.000000     0.263228  0.227399  \n",
       "XLarge Bags     0.516496    0.533439    0.263228     1.000000 -0.175977  \n",
       "region          0.076941    0.045297    0.227399    -0.175977  1.000000  "
      ]
     },
     "execution_count": 22,
     "metadata": {},
     "output_type": "execute_result"
    }
   ],
   "source": [
    "df.corr()"
   ]
  },
  {
   "cell_type": "markdown",
   "metadata": {},
   "source": [
    "***Lets visualize using heat map as well***"
   ]
  },
  {
   "cell_type": "code",
   "execution_count": 23,
   "metadata": {},
   "outputs": [
    {
     "data": {
      "image/png": "[encoded data removed]",
      "text/plain": [
       "<Figure size 864x864 with 2 Axes>"
      ]
     },
     "metadata": {},
     "output_type": "display_data"
    }
   ],
   "source": [
    "corr = df.corr()\n",
    "mask = np.zeros_like(corr)\n",
    "mask[np.triu_indices_from(mask)] = True\n",
    "with sns.axes_style(\"white\"):\n",
    "    f, ax = plt.subplots(figsize=(12, 12))\n",
    "    ax = sns.heatmap(corr, mask=mask, vmax=.3, square=True,annot=True, linewidths=0.5,cmap=\"YlGnBu\")"
   ]
  },
  {
   "cell_type": "markdown",
   "metadata": {},
   "source": [
    "***Lets find out the columns that are not correlated with our output variables and which are not useful to us in any way***"
   ]
  },
  {
   "cell_type": "code",
   "execution_count": 24,
   "metadata": {},
   "outputs": [
    {
     "data": {
      "text/html": [
       "<div>\n",
       "<style scoped>\n",
       "    .dataframe tbody tr th:only-of-type {\n",
       "        vertical-align: middle;\n",
       "    }\n",
       "\n",
       "    .dataframe tbody tr th {\n",
       "        vertical-align: top;\n",
       "    }\n",
       "\n",
       "    .dataframe thead th {\n",
       "        text-align: right;\n",
       "    }\n",
       "</style>\n",
       "<table border=\"1\" class=\"dataframe\">\n",
       "  <thead>\n",
       "    <tr style=\"text-align: right;\">\n",
       "      <th></th>\n",
       "      <th>AveragePrice</th>\n",
       "      <th>Total Volume</th>\n",
       "      <th>4046</th>\n",
       "      <th>4225</th>\n",
       "      <th>4770</th>\n",
       "      <th>Total Bags</th>\n",
       "      <th>Small Bags</th>\n",
       "      <th>Large Bags</th>\n",
       "      <th>XLarge Bags</th>\n",
       "      <th>region</th>\n",
       "    </tr>\n",
       "  </thead>\n",
       "  <tbody>\n",
       "    <tr>\n",
       "      <th>AveragePrice</th>\n",
       "      <td>1.0</td>\n",
       "      <td>-0.271504</td>\n",
       "      <td>-0.380282</td>\n",
       "      <td>-0.120872</td>\n",
       "      <td>-0.110292</td>\n",
       "      <td>-0.157514</td>\n",
       "      <td>-0.135342</td>\n",
       "      <td>-0.229402</td>\n",
       "      <td>-0.069536</td>\n",
       "      <td>-0.212618</td>\n",
       "    </tr>\n",
       "  </tbody>\n",
       "</table>\n",
       "</div>"
      ],
      "text/plain": [
       "              AveragePrice  Total Volume      4046      4225      4770  \\\n",
       "AveragePrice           1.0     -0.271504 -0.380282 -0.120872 -0.110292   \n",
       "\n",
       "              Total Bags  Small Bags  Large Bags  XLarge Bags    region  \n",
       "AveragePrice   -0.157514   -0.135342   -0.229402    -0.069536 -0.212618  "
      ]
     },
     "execution_count": 24,
     "metadata": {},
     "output_type": "execute_result"
    }
   ],
   "source": [
    "df1=df.corr()\n",
    "#since we only care about the correlation with our output, lets separate it\n",
    "df2=df1.iloc[0:1,:]\n",
    "df2"
   ]
  },
  {
   "cell_type": "code",
   "execution_count": 25,
   "metadata": {},
   "outputs": [
    {
     "data": {
      "text/html": [
       "<div>\n",
       "<style scoped>\n",
       "    .dataframe tbody tr th:only-of-type {\n",
       "        vertical-align: middle;\n",
       "    }\n",
       "\n",
       "    .dataframe tbody tr th {\n",
       "        vertical-align: top;\n",
       "    }\n",
       "\n",
       "    .dataframe thead th {\n",
       "        text-align: right;\n",
       "    }\n",
       "</style>\n",
       "<table border=\"1\" class=\"dataframe\">\n",
       "  <thead>\n",
       "    <tr style=\"text-align: right;\">\n",
       "      <th></th>\n",
       "      <th>AveragePrice</th>\n",
       "      <th>Total Volume</th>\n",
       "      <th>4046</th>\n",
       "      <th>4225</th>\n",
       "      <th>4770</th>\n",
       "      <th>Total Bags</th>\n",
       "      <th>Small Bags</th>\n",
       "      <th>Large Bags</th>\n",
       "      <th>XLarge Bags</th>\n",
       "      <th>region</th>\n",
       "    </tr>\n",
       "  </thead>\n",
       "  <tbody>\n",
       "    <tr>\n",
       "      <th>region</th>\n",
       "      <td>-0.212618</td>\n",
       "      <td>0.159801</td>\n",
       "      <td>0.227472</td>\n",
       "      <td>0.088169</td>\n",
       "      <td>-0.0684</td>\n",
       "      <td>0.076941</td>\n",
       "      <td>0.045297</td>\n",
       "      <td>0.227399</td>\n",
       "      <td>-0.175977</td>\n",
       "      <td>1.0</td>\n",
       "    </tr>\n",
       "  </tbody>\n",
       "</table>\n",
       "</div>"
      ],
      "text/plain": [
       "        AveragePrice  Total Volume      4046      4225    4770  Total Bags  \\\n",
       "region     -0.212618      0.159801  0.227472  0.088169 -0.0684    0.076941   \n",
       "\n",
       "        Small Bags  Large Bags  XLarge Bags  region  \n",
       "region    0.045297    0.227399    -0.175977     1.0  "
      ]
     },
     "execution_count": 25,
     "metadata": {},
     "output_type": "execute_result"
    }
   ],
   "source": [
    "df3=df1.iloc[9:10,:]\n",
    "df3"
   ]
  },
  {
   "cell_type": "markdown",
   "metadata": {},
   "source": [
    "If the value is 0 there is no correlation, if value is 1 they are highly correlated."
   ]
  },
  {
   "cell_type": "markdown",
   "metadata": {},
   "source": [
    "***Lets set our threshold value as 0.1 and drop columns with value less than this considering they are not correlated***"
   ]
  },
  {
   "cell_type": "code",
   "execution_count": 26,
   "metadata": {},
   "outputs": [
    {
     "data": {
      "text/html": [
       "<div>\n",
       "<style scoped>\n",
       "    .dataframe tbody tr th:only-of-type {\n",
       "        vertical-align: middle;\n",
       "    }\n",
       "\n",
       "    .dataframe tbody tr th {\n",
       "        vertical-align: top;\n",
       "    }\n",
       "\n",
       "    .dataframe thead th {\n",
       "        text-align: right;\n",
       "    }\n",
       "</style>\n",
       "<table border=\"1\" class=\"dataframe\">\n",
       "  <thead>\n",
       "    <tr style=\"text-align: right;\">\n",
       "      <th></th>\n",
       "      <th>AveragePrice</th>\n",
       "      <th>Total Volume</th>\n",
       "      <th>4046</th>\n",
       "      <th>4225</th>\n",
       "      <th>4770</th>\n",
       "      <th>Total Bags</th>\n",
       "      <th>Small Bags</th>\n",
       "      <th>Large Bags</th>\n",
       "      <th>XLarge Bags</th>\n",
       "      <th>region</th>\n",
       "    </tr>\n",
       "  </thead>\n",
       "  <tbody>\n",
       "    <tr>\n",
       "      <th>AveragePrice</th>\n",
       "      <td>False</td>\n",
       "      <td>False</td>\n",
       "      <td>False</td>\n",
       "      <td>False</td>\n",
       "      <td>False</td>\n",
       "      <td>False</td>\n",
       "      <td>False</td>\n",
       "      <td>False</td>\n",
       "      <td>True</td>\n",
       "      <td>False</td>\n",
       "    </tr>\n",
       "  </tbody>\n",
       "</table>\n",
       "</div>"
      ],
      "text/plain": [
       "              AveragePrice  Total Volume   4046   4225   4770  Total Bags  \\\n",
       "AveragePrice         False         False  False  False  False       False   \n",
       "\n",
       "              Small Bags  Large Bags  XLarge Bags  region  \n",
       "AveragePrice       False       False         True   False  "
      ]
     },
     "execution_count": 26,
     "metadata": {},
     "output_type": "execute_result"
    }
   ],
   "source": [
    "np.abs(df2)<0.1"
   ]
  },
  {
   "cell_type": "code",
   "execution_count": 27,
   "metadata": {},
   "outputs": [
    {
     "data": {
      "text/html": [
       "<div>\n",
       "<style scoped>\n",
       "    .dataframe tbody tr th:only-of-type {\n",
       "        vertical-align: middle;\n",
       "    }\n",
       "\n",
       "    .dataframe tbody tr th {\n",
       "        vertical-align: top;\n",
       "    }\n",
       "\n",
       "    .dataframe thead th {\n",
       "        text-align: right;\n",
       "    }\n",
       "</style>\n",
       "<table border=\"1\" class=\"dataframe\">\n",
       "  <thead>\n",
       "    <tr style=\"text-align: right;\">\n",
       "      <th></th>\n",
       "      <th>AveragePrice</th>\n",
       "      <th>Total Volume</th>\n",
       "      <th>4046</th>\n",
       "      <th>4225</th>\n",
       "      <th>4770</th>\n",
       "      <th>Total Bags</th>\n",
       "      <th>Small Bags</th>\n",
       "      <th>Large Bags</th>\n",
       "      <th>XLarge Bags</th>\n",
       "      <th>region</th>\n",
       "    </tr>\n",
       "  </thead>\n",
       "  <tbody>\n",
       "    <tr>\n",
       "      <th>region</th>\n",
       "      <td>False</td>\n",
       "      <td>False</td>\n",
       "      <td>False</td>\n",
       "      <td>True</td>\n",
       "      <td>True</td>\n",
       "      <td>True</td>\n",
       "      <td>True</td>\n",
       "      <td>False</td>\n",
       "      <td>False</td>\n",
       "      <td>False</td>\n",
       "    </tr>\n",
       "  </tbody>\n",
       "</table>\n",
       "</div>"
      ],
      "text/plain": [
       "        AveragePrice  Total Volume   4046  4225  4770  Total Bags  Small Bags  \\\n",
       "region         False         False  False  True  True        True        True   \n",
       "\n",
       "        Large Bags  XLarge Bags  region  \n",
       "region       False        False   False  "
      ]
     },
     "execution_count": 27,
     "metadata": {},
     "output_type": "execute_result"
    }
   ],
   "source": [
    "np.abs(df3)<0.1"
   ]
  },
  {
   "cell_type": "markdown",
   "metadata": {},
   "source": [
    "From above data we can see that while doing regression we can drop XLarge Bags column"
   ]
  },
  {
   "cell_type": "markdown",
   "metadata": {},
   "source": [
    "And drop 4225,4770,Total Bags,Small Bags while doing classification"
   ]
  },
  {
   "cell_type": "markdown",
   "metadata": {},
   "source": [
    "*We are using regplot here to visualize the same. There is a line that passes through the points in the plot which will give us an idea if that column is positively correlated or negatively correlated or not correlated at all.\n",
    "If the line comes close to horizontal, we can assume that its not correlated and drop such columns as those columns are not helping us in any way to make our prediction.*"
   ]
  },
  {
   "cell_type": "code",
   "execution_count": 28,
   "metadata": {},
   "outputs": [
    {
     "name": "stdout",
     "output_type": "stream",
     "text": [
      "AxesSubplot(0.125,0.125;0.775x0.755)\n"
     ]
    },
    {
     "data": {
      "image/png": "[encoded data removed]",
      "text/plain": [
       "<Figure size 432x288 with 1 Axes>"
      ]
     },
     "metadata": {},
     "output_type": "display_data"
    },
    {
     "name": "stdout",
     "output_type": "stream",
     "text": [
      "AxesSubplot(0.125,0.125;0.775x0.755)\n"
     ]
    },
    {
     "data": {
      "image/png": "[encoded data removed]",
      "text/plain": [
       "<Figure size 432x288 with 1 Axes>"
      ]
     },
     "metadata": {},
     "output_type": "display_data"
    },
    {
     "name": "stdout",
     "output_type": "stream",
     "text": [
      "AxesSubplot(0.125,0.125;0.775x0.755)\n"
     ]
    },
    {
     "data": {
      "image/png": "[encoded data removed]",
      "text/plain": [
       "<Figure size 432x288 with 1 Axes>"
      ]
     },
     "metadata": {},
     "output_type": "display_data"
    },
    {
     "name": "stdout",
     "output_type": "stream",
     "text": [
      "AxesSubplot(0.125,0.125;0.775x0.755)\n"
     ]
    },
    {
     "data": {
      "image/png": "[encoded data removed]",
      "text/plain": [
       "<Figure size 432x288 with 1 Axes>"
      ]
     },
     "metadata": {},
     "output_type": "display_data"
    },
    {
     "name": "stdout",
     "output_type": "stream",
     "text": [
      "AxesSubplot(0.125,0.125;0.775x0.755)\n"
     ]
    },
    {
     "data": {
      "image/png": "[encoded data removed]",
      "text/plain": [
       "<Figure size 432x288 with 1 Axes>"
      ]
     },
     "metadata": {},
     "output_type": "display_data"
    },
    {
     "name": "stdout",
     "output_type": "stream",
     "text": [
      "AxesSubplot(0.125,0.125;0.775x0.755)\n"
     ]
    },
    {
     "data": {
      "image/png": "[encoded data removed]",
      "text/plain": [
       "<Figure size 432x288 with 1 Axes>"
      ]
     },
     "metadata": {},
     "output_type": "display_data"
    },
    {
     "name": "stdout",
     "output_type": "stream",
     "text": [
      "AxesSubplot(0.125,0.125;0.775x0.755)\n"
     ]
    },
    {
     "data": {
      "image/png": "[encoded data removed]",
      "text/plain": [
       "<Figure size 432x288 with 1 Axes>"
      ]
     },
     "metadata": {},
     "output_type": "display_data"
    },
    {
     "name": "stdout",
     "output_type": "stream",
     "text": [
      "AxesSubplot(0.125,0.125;0.775x0.755)\n"
     ]
    },
    {
     "data": {
      "image/png": "[encoded data removed]",
      "text/plain": [
       "<Figure size 432x288 with 1 Axes>"
      ]
     },
     "metadata": {},
     "output_type": "display_data"
    }
   ],
   "source": [
    "col=['Total Volume','4046','4225','4770','Total Bags','Small Bags','Large Bags','XLarge Bags']\n",
    "for i in range(0,8):\n",
    "    print(sns.regplot(x=col[i],y=\"AveragePrice\",data=df))\n",
    "    plt.show()"
   ]
  },
  {
   "cell_type": "markdown",
   "metadata": {},
   "source": [
    "We can see that the data is higly skewed, because maximum points are concentrated towards left side"
   ]
  },
  {
   "cell_type": "markdown",
   "metadata": {},
   "source": [
    "***Separating our input and output features***"
   ]
  },
  {
   "cell_type": "code",
   "execution_count": 29,
   "metadata": {},
   "outputs": [],
   "source": [
    "x=df[['Total Volume','4046','4225','4770','Total Bags','Small Bags','Large Bags','XLarge Bags']]\n",
    "y1=df[['AveragePrice']]\n",
    "y2=df[['region']]"
   ]
  },
  {
   "cell_type": "markdown",
   "metadata": {},
   "source": [
    "***Lets check for skewness in our input features***"
   ]
  },
  {
   "cell_type": "code",
   "execution_count": 30,
   "metadata": {},
   "outputs": [
    {
     "data": {
      "text/plain": [
       "Total Volume    2.704085\n",
       "4046            3.120756\n",
       "4225            2.367429\n",
       "4770            3.331191\n",
       "Total Bags      4.165747\n",
       "Small Bags      4.410267\n",
       "Large Bags      3.518056\n",
       "XLarge Bags     5.118965\n",
       "dtype: float64"
      ]
     },
     "execution_count": 30,
     "metadata": {},
     "output_type": "execute_result"
    }
   ],
   "source": [
    "x.skew()"
   ]
  },
  {
   "cell_type": "markdown",
   "metadata": {},
   "source": [
    "We can see that data is highly skewed since all the values are above 0.55"
   ]
  },
  {
   "cell_type": "markdown",
   "metadata": {},
   "source": [
    "***Lets eliminate the skewness in our input attributes***"
   ]
  },
  {
   "cell_type": "code",
   "execution_count": 31,
   "metadata": {},
   "outputs": [],
   "source": [
    "for i in x.skew().index:\n",
    "    if x.skew().loc[i]>0.55:\n",
    "        x[i]=np.log1p(x[i])"
   ]
  },
  {
   "cell_type": "code",
   "execution_count": 32,
   "metadata": {},
   "outputs": [
    {
     "data": {
      "text/plain": [
       "Total Volume    0.462899\n",
       "4046           -0.270283\n",
       "4225            0.011359\n",
       "4770           -0.449713\n",
       "Total Bags      0.378673\n",
       "Small Bags      0.420856\n",
       "Large Bags     -0.979047\n",
       "XLarge Bags     0.851740\n",
       "dtype: float64"
      ]
     },
     "execution_count": 32,
     "metadata": {},
     "output_type": "execute_result"
    }
   ],
   "source": [
    "x.skew()"
   ]
  },
  {
   "cell_type": "code",
   "execution_count": 33,
   "metadata": {},
   "outputs": [],
   "source": [
    "for i in x.skew().index:\n",
    "    if x.skew().loc[i]>0.55:\n",
    "        x[i]=np.log1p(x[i])"
   ]
  },
  {
   "cell_type": "markdown",
   "metadata": {},
   "source": [
    "Trying to apply log again to check if the skewness can be further reduced"
   ]
  },
  {
   "cell_type": "code",
   "execution_count": 34,
   "metadata": {},
   "outputs": [
    {
     "data": {
      "text/plain": [
       "Total Volume    0.462899\n",
       "4046           -0.270283\n",
       "4225            0.011359\n",
       "4770           -0.449713\n",
       "Total Bags      0.378673\n",
       "Small Bags      0.420856\n",
       "Large Bags     -0.979047\n",
       "XLarge Bags     0.451310\n",
       "dtype: float64"
      ]
     },
     "execution_count": 34,
     "metadata": {},
     "output_type": "execute_result"
    }
   ],
   "source": [
    "x.skew()"
   ]
  },
  {
   "cell_type": "markdown",
   "metadata": {},
   "source": [
    "Skewness is significantly removed in majority of the columns compared to before so we can accept this data"
   ]
  },
  {
   "cell_type": "markdown",
   "metadata": {},
   "source": [
    "***Lets scale our data using standard scalar***"
   ]
  },
  {
   "cell_type": "code",
   "execution_count": 35,
   "metadata": {},
   "outputs": [
    {
     "data": {
      "text/plain": [
       "array([[-1.41093543, -1.84734499, -0.50791653, ..., -1.64854683,\n",
       "        -0.91741949, -0.8548905 ],\n",
       "       [-1.53565988, -2.04282289, -0.63518322, ..., -1.5736223 ,\n",
       "        -0.90419602, -0.8548905 ],\n",
       "       [-0.92782951, -1.96816868, -0.06269814, ..., -1.70510898,\n",
       "        -0.88743353, -0.8548905 ],\n",
       "       ...,\n",
       "       [-0.60188503, -0.11877204, -0.5265446 , ..., -0.11923099,\n",
       "         0.42677659,  1.32495309],\n",
       "       [-0.55566806, -0.04848702, -0.51812425, ..., -0.08352227,\n",
       "         0.42750703, -0.8548905 ],\n",
       "       [-0.58186397, -0.15181664, -0.51099782, ..., -0.0567983 ,\n",
       "         0.53012844, -0.8548905 ]])"
      ]
     },
     "execution_count": 35,
     "metadata": {},
     "output_type": "execute_result"
    }
   ],
   "source": [
    "from sklearn.preprocessing import StandardScaler\n",
    "ss=StandardScaler()\n",
    "ss.fit(x)\n",
    "df_x=ss.transform(x)\n",
    "df_x"
   ]
  },
  {
   "cell_type": "markdown",
   "metadata": {},
   "source": [
    "Data is scaled but it is in array, lets convert it in to dataframe"
   ]
  },
  {
   "cell_type": "code",
   "execution_count": 36,
   "metadata": {},
   "outputs": [
    {
     "data": {
      "text/html": [
       "<div>\n",
       "<style scoped>\n",
       "    .dataframe tbody tr th:only-of-type {\n",
       "        vertical-align: middle;\n",
       "    }\n",
       "\n",
       "    .dataframe tbody tr th {\n",
       "        vertical-align: top;\n",
       "    }\n",
       "\n",
       "    .dataframe thead th {\n",
       "        text-align: right;\n",
       "    }\n",
       "</style>\n",
       "<table border=\"1\" class=\"dataframe\">\n",
       "  <thead>\n",
       "    <tr style=\"text-align: right;\">\n",
       "      <th></th>\n",
       "      <th>Total Volume</th>\n",
       "      <th>4046</th>\n",
       "      <th>4225</th>\n",
       "      <th>4770</th>\n",
       "      <th>Total Bags</th>\n",
       "      <th>Small Bags</th>\n",
       "      <th>Large Bags</th>\n",
       "      <th>XLarge Bags</th>\n",
       "    </tr>\n",
       "  </thead>\n",
       "  <tbody>\n",
       "    <tr>\n",
       "      <th>0</th>\n",
       "      <td>-1.410935</td>\n",
       "      <td>-1.847345</td>\n",
       "      <td>-0.507917</td>\n",
       "      <td>-1.815979</td>\n",
       "      <td>-1.822359</td>\n",
       "      <td>-1.648547</td>\n",
       "      <td>-0.917419</td>\n",
       "      <td>-0.85489</td>\n",
       "    </tr>\n",
       "    <tr>\n",
       "      <th>1</th>\n",
       "      <td>-1.535660</td>\n",
       "      <td>-2.042823</td>\n",
       "      <td>-0.635183</td>\n",
       "      <td>-1.739119</td>\n",
       "      <td>-1.746806</td>\n",
       "      <td>-1.573622</td>\n",
       "      <td>-0.904196</td>\n",
       "      <td>-0.85489</td>\n",
       "    </tr>\n",
       "    <tr>\n",
       "      <th>2</th>\n",
       "      <td>-0.927830</td>\n",
       "      <td>-1.968169</td>\n",
       "      <td>-0.062698</td>\n",
       "      <td>-1.413794</td>\n",
       "      <td>-1.878029</td>\n",
       "      <td>-1.705109</td>\n",
       "      <td>-0.887434</td>\n",
       "      <td>-0.85489</td>\n",
       "    </tr>\n",
       "    <tr>\n",
       "      <th>3</th>\n",
       "      <td>-1.247168</td>\n",
       "      <td>-1.807390</td>\n",
       "      <td>-0.329300</td>\n",
       "      <td>-1.651131</td>\n",
       "      <td>-2.164946</td>\n",
       "      <td>-1.996977</td>\n",
       "      <td>-0.809976</td>\n",
       "      <td>-0.85489</td>\n",
       "    </tr>\n",
       "    <tr>\n",
       "      <th>4</th>\n",
       "      <td>-1.593074</td>\n",
       "      <td>-1.891150</td>\n",
       "      <td>-0.646768</td>\n",
       "      <td>-1.633730</td>\n",
       "      <td>-2.112115</td>\n",
       "      <td>-1.952576</td>\n",
       "      <td>-0.693305</td>\n",
       "      <td>-0.85489</td>\n",
       "    </tr>\n",
       "  </tbody>\n",
       "</table>\n",
       "</div>"
      ],
      "text/plain": [
       "   Total Volume      4046      4225      4770  Total Bags  Small Bags  \\\n",
       "0     -1.410935 -1.847345 -0.507917 -1.815979   -1.822359   -1.648547   \n",
       "1     -1.535660 -2.042823 -0.635183 -1.739119   -1.746806   -1.573622   \n",
       "2     -0.927830 -1.968169 -0.062698 -1.413794   -1.878029   -1.705109   \n",
       "3     -1.247168 -1.807390 -0.329300 -1.651131   -2.164946   -1.996977   \n",
       "4     -1.593074 -1.891150 -0.646768 -1.633730   -2.112115   -1.952576   \n",
       "\n",
       "   Large Bags  XLarge Bags  \n",
       "0   -0.917419     -0.85489  \n",
       "1   -0.904196     -0.85489  \n",
       "2   -0.887434     -0.85489  \n",
       "3   -0.809976     -0.85489  \n",
       "4   -0.693305     -0.85489  "
      ]
     },
     "execution_count": 36,
     "metadata": {},
     "output_type": "execute_result"
    }
   ],
   "source": [
    "x=pd.DataFrame(df_x,columns=x.columns)\n",
    "x.head()"
   ]
  },
  {
   "cell_type": "code",
   "execution_count": 37,
   "metadata": {},
   "outputs": [
    {
     "data": {
      "text/html": [
       "<div>\n",
       "<style scoped>\n",
       "    .dataframe tbody tr th:only-of-type {\n",
       "        vertical-align: middle;\n",
       "    }\n",
       "\n",
       "    .dataframe tbody tr th {\n",
       "        vertical-align: top;\n",
       "    }\n",
       "\n",
       "    .dataframe thead th {\n",
       "        text-align: right;\n",
       "    }\n",
       "</style>\n",
       "<table border=\"1\" class=\"dataframe\">\n",
       "  <thead>\n",
       "    <tr style=\"text-align: right;\">\n",
       "      <th></th>\n",
       "      <th>AveragePrice</th>\n",
       "    </tr>\n",
       "  </thead>\n",
       "  <tbody>\n",
       "    <tr>\n",
       "      <th>0</th>\n",
       "      <td>1.33</td>\n",
       "    </tr>\n",
       "    <tr>\n",
       "      <th>1</th>\n",
       "      <td>1.35</td>\n",
       "    </tr>\n",
       "    <tr>\n",
       "      <th>2</th>\n",
       "      <td>0.93</td>\n",
       "    </tr>\n",
       "    <tr>\n",
       "      <th>3</th>\n",
       "      <td>1.08</td>\n",
       "    </tr>\n",
       "    <tr>\n",
       "      <th>4</th>\n",
       "      <td>1.28</td>\n",
       "    </tr>\n",
       "  </tbody>\n",
       "</table>\n",
       "</div>"
      ],
      "text/plain": [
       "   AveragePrice\n",
       "0          1.33\n",
       "1          1.35\n",
       "2          0.93\n",
       "3          1.08\n",
       "4          1.28"
      ]
     },
     "execution_count": 37,
     "metadata": {},
     "output_type": "execute_result"
    }
   ],
   "source": [
    "y1.head()"
   ]
  },
  {
   "cell_type": "code",
   "execution_count": 38,
   "metadata": {},
   "outputs": [
    {
     "data": {
      "text/html": [
       "<div>\n",
       "<style scoped>\n",
       "    .dataframe tbody tr th:only-of-type {\n",
       "        vertical-align: middle;\n",
       "    }\n",
       "\n",
       "    .dataframe tbody tr th {\n",
       "        vertical-align: top;\n",
       "    }\n",
       "\n",
       "    .dataframe thead th {\n",
       "        text-align: right;\n",
       "    }\n",
       "</style>\n",
       "<table border=\"1\" class=\"dataframe\">\n",
       "  <thead>\n",
       "    <tr style=\"text-align: right;\">\n",
       "      <th></th>\n",
       "      <th>region</th>\n",
       "    </tr>\n",
       "  </thead>\n",
       "  <tbody>\n",
       "    <tr>\n",
       "      <th>0</th>\n",
       "      <td>0</td>\n",
       "    </tr>\n",
       "    <tr>\n",
       "      <th>1</th>\n",
       "      <td>0</td>\n",
       "    </tr>\n",
       "    <tr>\n",
       "      <th>2</th>\n",
       "      <td>0</td>\n",
       "    </tr>\n",
       "    <tr>\n",
       "      <th>3</th>\n",
       "      <td>0</td>\n",
       "    </tr>\n",
       "    <tr>\n",
       "      <th>4</th>\n",
       "      <td>0</td>\n",
       "    </tr>\n",
       "  </tbody>\n",
       "</table>\n",
       "</div>"
      ],
      "text/plain": [
       "   region\n",
       "0       0\n",
       "1       0\n",
       "2       0\n",
       "3       0\n",
       "4       0"
      ]
     },
     "execution_count": 38,
     "metadata": {},
     "output_type": "execute_result"
    }
   ],
   "source": [
    "y2.head()"
   ]
  },
  {
   "cell_type": "markdown",
   "metadata": {},
   "source": [
    "***Lets get our input attributes ready for y1 and y2 based on our correaltion analysis***"
   ]
  },
  {
   "cell_type": "markdown",
   "metadata": {},
   "source": [
    "while doing regression we can drop XLarge Bags column\n",
    "\n",
    "And drop 4225,4770,Total Bags,Small Bags while doing classification"
   ]
  },
  {
   "cell_type": "code",
   "execution_count": 39,
   "metadata": {},
   "outputs": [
    {
     "data": {
      "text/html": [
       "<div>\n",
       "<style scoped>\n",
       "    .dataframe tbody tr th:only-of-type {\n",
       "        vertical-align: middle;\n",
       "    }\n",
       "\n",
       "    .dataframe tbody tr th {\n",
       "        vertical-align: top;\n",
       "    }\n",
       "\n",
       "    .dataframe thead th {\n",
       "        text-align: right;\n",
       "    }\n",
       "</style>\n",
       "<table border=\"1\" class=\"dataframe\">\n",
       "  <thead>\n",
       "    <tr style=\"text-align: right;\">\n",
       "      <th></th>\n",
       "      <th>Total Volume</th>\n",
       "      <th>4046</th>\n",
       "      <th>4225</th>\n",
       "      <th>4770</th>\n",
       "      <th>Total Bags</th>\n",
       "      <th>Small Bags</th>\n",
       "      <th>Large Bags</th>\n",
       "    </tr>\n",
       "  </thead>\n",
       "  <tbody>\n",
       "    <tr>\n",
       "      <th>0</th>\n",
       "      <td>-1.410935</td>\n",
       "      <td>-1.847345</td>\n",
       "      <td>-0.507917</td>\n",
       "      <td>-1.815979</td>\n",
       "      <td>-1.822359</td>\n",
       "      <td>-1.648547</td>\n",
       "      <td>-0.917419</td>\n",
       "    </tr>\n",
       "    <tr>\n",
       "      <th>1</th>\n",
       "      <td>-1.535660</td>\n",
       "      <td>-2.042823</td>\n",
       "      <td>-0.635183</td>\n",
       "      <td>-1.739119</td>\n",
       "      <td>-1.746806</td>\n",
       "      <td>-1.573622</td>\n",
       "      <td>-0.904196</td>\n",
       "    </tr>\n",
       "    <tr>\n",
       "      <th>2</th>\n",
       "      <td>-0.927830</td>\n",
       "      <td>-1.968169</td>\n",
       "      <td>-0.062698</td>\n",
       "      <td>-1.413794</td>\n",
       "      <td>-1.878029</td>\n",
       "      <td>-1.705109</td>\n",
       "      <td>-0.887434</td>\n",
       "    </tr>\n",
       "    <tr>\n",
       "      <th>3</th>\n",
       "      <td>-1.247168</td>\n",
       "      <td>-1.807390</td>\n",
       "      <td>-0.329300</td>\n",
       "      <td>-1.651131</td>\n",
       "      <td>-2.164946</td>\n",
       "      <td>-1.996977</td>\n",
       "      <td>-0.809976</td>\n",
       "    </tr>\n",
       "    <tr>\n",
       "      <th>4</th>\n",
       "      <td>-1.593074</td>\n",
       "      <td>-1.891150</td>\n",
       "      <td>-0.646768</td>\n",
       "      <td>-1.633730</td>\n",
       "      <td>-2.112115</td>\n",
       "      <td>-1.952576</td>\n",
       "      <td>-0.693305</td>\n",
       "    </tr>\n",
       "  </tbody>\n",
       "</table>\n",
       "</div>"
      ],
      "text/plain": [
       "   Total Volume      4046      4225      4770  Total Bags  Small Bags  \\\n",
       "0     -1.410935 -1.847345 -0.507917 -1.815979   -1.822359   -1.648547   \n",
       "1     -1.535660 -2.042823 -0.635183 -1.739119   -1.746806   -1.573622   \n",
       "2     -0.927830 -1.968169 -0.062698 -1.413794   -1.878029   -1.705109   \n",
       "3     -1.247168 -1.807390 -0.329300 -1.651131   -2.164946   -1.996977   \n",
       "4     -1.593074 -1.891150 -0.646768 -1.633730   -2.112115   -1.952576   \n",
       "\n",
       "   Large Bags  \n",
       "0   -0.917419  \n",
       "1   -0.904196  \n",
       "2   -0.887434  \n",
       "3   -0.809976  \n",
       "4   -0.693305  "
      ]
     },
     "execution_count": 39,
     "metadata": {},
     "output_type": "execute_result"
    }
   ],
   "source": [
    "x1=x[['Total Volume','4046','4225','4770','Total Bags','Small Bags','Large Bags']]\n",
    "x1.head()"
   ]
  },
  {
   "cell_type": "code",
   "execution_count": 40,
   "metadata": {},
   "outputs": [
    {
     "data": {
      "text/html": [
       "<div>\n",
       "<style scoped>\n",
       "    .dataframe tbody tr th:only-of-type {\n",
       "        vertical-align: middle;\n",
       "    }\n",
       "\n",
       "    .dataframe tbody tr th {\n",
       "        vertical-align: top;\n",
       "    }\n",
       "\n",
       "    .dataframe thead th {\n",
       "        text-align: right;\n",
       "    }\n",
       "</style>\n",
       "<table border=\"1\" class=\"dataframe\">\n",
       "  <thead>\n",
       "    <tr style=\"text-align: right;\">\n",
       "      <th></th>\n",
       "      <th>Total Volume</th>\n",
       "      <th>4046</th>\n",
       "      <th>Large Bags</th>\n",
       "      <th>XLarge Bags</th>\n",
       "    </tr>\n",
       "  </thead>\n",
       "  <tbody>\n",
       "    <tr>\n",
       "      <th>0</th>\n",
       "      <td>-1.410935</td>\n",
       "      <td>-1.847345</td>\n",
       "      <td>-0.917419</td>\n",
       "      <td>-0.85489</td>\n",
       "    </tr>\n",
       "    <tr>\n",
       "      <th>1</th>\n",
       "      <td>-1.535660</td>\n",
       "      <td>-2.042823</td>\n",
       "      <td>-0.904196</td>\n",
       "      <td>-0.85489</td>\n",
       "    </tr>\n",
       "    <tr>\n",
       "      <th>2</th>\n",
       "      <td>-0.927830</td>\n",
       "      <td>-1.968169</td>\n",
       "      <td>-0.887434</td>\n",
       "      <td>-0.85489</td>\n",
       "    </tr>\n",
       "    <tr>\n",
       "      <th>3</th>\n",
       "      <td>-1.247168</td>\n",
       "      <td>-1.807390</td>\n",
       "      <td>-0.809976</td>\n",
       "      <td>-0.85489</td>\n",
       "    </tr>\n",
       "    <tr>\n",
       "      <th>4</th>\n",
       "      <td>-1.593074</td>\n",
       "      <td>-1.891150</td>\n",
       "      <td>-0.693305</td>\n",
       "      <td>-0.85489</td>\n",
       "    </tr>\n",
       "  </tbody>\n",
       "</table>\n",
       "</div>"
      ],
      "text/plain": [
       "   Total Volume      4046  Large Bags  XLarge Bags\n",
       "0     -1.410935 -1.847345   -0.917419     -0.85489\n",
       "1     -1.535660 -2.042823   -0.904196     -0.85489\n",
       "2     -0.927830 -1.968169   -0.887434     -0.85489\n",
       "3     -1.247168 -1.807390   -0.809976     -0.85489\n",
       "4     -1.593074 -1.891150   -0.693305     -0.85489"
      ]
     },
     "execution_count": 40,
     "metadata": {},
     "output_type": "execute_result"
    }
   ],
   "source": [
    "x2=x[['Total Volume','4046','Large Bags','XLarge Bags']]\n",
    "x2.head()"
   ]
  },
  {
   "cell_type": "markdown",
   "metadata": {},
   "source": [
    "We have both of input and output attributes cleaned and in desired format"
   ]
  },
  {
   "cell_type": "markdown",
   "metadata": {},
   "source": [
    "<h2>End of EDA Process</h2>"
   ]
  },
  {
   "cell_type": "markdown",
   "metadata": {},
   "source": [
    "Lets start Building models to make predictions and find the model that works best on our dataset"
   ]
  },
  {
   "cell_type": "markdown",
   "metadata": {},
   "source": [
    "<h2>Start of Machine Learning Process</h2>"
   ]
  },
  {
   "cell_type": "markdown",
   "metadata": {},
   "source": [
    "**Lets first do regression for our y1 output that is AveragePrice**"
   ]
  },
  {
   "cell_type": "markdown",
   "metadata": {},
   "source": [
    "***Lets import required packages***"
   ]
  },
  {
   "cell_type": "code",
   "execution_count": 41,
   "metadata": {},
   "outputs": [],
   "source": [
    "from sklearn.linear_model import LinearRegression\n",
    "from sklearn.linear_model import Lasso,Ridge,ElasticNet\n",
    "from sklearn.tree import DecisionTreeRegressor\n",
    "from sklearn.neighbors import KNeighborsRegressor\n",
    "from sklearn.ensemble import RandomForestRegressor,AdaBoostRegressor,GradientBoostingRegressor\n",
    "from sklearn.metrics import r2_score,mean_squared_error"
   ]
  },
  {
   "cell_type": "markdown",
   "metadata": {},
   "source": [
    "***Lets split our data randomly and see which model works better***"
   ]
  },
  {
   "cell_type": "code",
   "execution_count": 42,
   "metadata": {},
   "outputs": [],
   "source": [
    "from sklearn.model_selection import train_test_split,cross_val_score\n",
    "x_train,x_test,y_train,y_test=train_test_split(x1,y1,test_size=0.2,random_state=50)"
   ]
  },
  {
   "cell_type": "markdown",
   "metadata": {},
   "source": [
    "***Lets import all the regression models***"
   ]
  },
  {
   "cell_type": "code",
   "execution_count": 43,
   "metadata": {},
   "outputs": [],
   "source": [
    "LA=Lasso()\n",
    "RI=Ridge()\n",
    "EN=ElasticNet()\n",
    "DTR=DecisionTreeRegressor(random_state=3)\n",
    "KNR=KNeighborsRegressor()\n",
    "ABR=AdaBoostRegressor(random_state=3)\n",
    "RFR=RandomForestRegressor(random_state=3)\n",
    "GBR=GradientBoostingRegressor(random_state=3)"
   ]
  },
  {
   "cell_type": "code",
   "execution_count": 44,
   "metadata": {},
   "outputs": [],
   "source": [
    "models=[]\n",
    "models.append(('Lasso',LA))\n",
    "models.append(('Ridge',RI))\n",
    "models.append(('ElasticNet',EN))\n",
    "models.append(('DecisionTreeRegressor',DTR))\n",
    "models.append(('KNeighborsRegressor',KNR))\n",
    "models.append(('AdaBoostRegressor',ABR))\n",
    "models.append(('RandomForestRegressor',RFR))\n",
    "models.append(('GradientBoostingRegressor',GBR))"
   ]
  },
  {
   "cell_type": "markdown",
   "metadata": {},
   "source": [
    "***Lets create a loop that will execute all our models***"
   ]
  },
  {
   "cell_type": "code",
   "execution_count": 45,
   "metadata": {},
   "outputs": [
    {
     "name": "stdout",
     "output_type": "stream",
     "text": [
      "*-----------------------------* Lasso *------------------------------*\n",
      "Lasso()\n",
      "R2_score =  -0.23213927084280161\n",
      "Mean_Squared_Error = 0.03738017721911291\n",
      "Cross_Val_Score =  14.134898753629338\n",
      "\n",
      "\n",
      "*-----------------------------* Ridge *------------------------------*\n",
      "Ridge()\n",
      "R2_score =  39.544548898598606\n",
      "Mean_Squared_Error = 0.022546016601774528\n",
      "Cross_Val_Score =  31.31914573804525\n",
      "\n",
      "\n",
      "*-----------------------------* ElasticNet *------------------------------*\n",
      "ElasticNet()\n",
      "R2_score =  -0.23213927084280161\n",
      "Mean_Squared_Error = 0.03738017721911291\n",
      "Cross_Val_Score =  14.134898753629338\n",
      "\n",
      "\n",
      "*-----------------------------* DecisionTreeRegressor *------------------------------*\n",
      "DecisionTreeRegressor(random_state=3)\n",
      "R2_score =  69.38520322452469\n",
      "Mean_Squared_Error = 0.01141736111111111\n",
      "Cross_Val_Score =  74.72610043887795\n",
      "\n",
      "\n",
      "*-----------------------------* KNeighborsRegressor *------------------------------*\n",
      "KNeighborsRegressor()\n",
      "R2_score =  77.1694170529044\n",
      "Mean_Squared_Error = 0.00851434722222222\n",
      "Cross_Val_Score =  54.447783239954425\n",
      "\n",
      "\n",
      "*-----------------------------* AdaBoostRegressor *------------------------------*\n",
      "AdaBoostRegressor(random_state=3)\n",
      "R2_score =  58.77160160614996\n",
      "Mean_Squared_Error = 0.015375555681376267\n",
      "Cross_Val_Score =  32.289840183358464\n",
      "\n",
      "\n",
      "*-----------------------------* RandomForestRegressor *------------------------------*\n",
      "RandomForestRegressor(random_state=3)\n",
      "R2_score =  80.04189332833585\n",
      "Mean_Squared_Error = 0.007443097291666663\n",
      "Cross_Val_Score =  45.90108062656114\n",
      "\n",
      "\n",
      "*-----------------------------* GradientBoostingRegressor *------------------------------*\n",
      "GradientBoostingRegressor(random_state=3)\n",
      "R2_score =  71.1870966154867\n",
      "Mean_Squared_Error = 0.010745370123249384\n",
      "Cross_Val_Score =  45.4725134238963\n",
      "\n",
      "\n"
     ]
    }
   ],
   "source": [
    "Model=[]\n",
    "R2_score=[]\n",
    "cvs=[]\n",
    "MSE=[]\n",
    "for name,model in models:\n",
    "    print('*-----------------------------*',name,'*------------------------------*')\n",
    "    print(model)\n",
    "    Model.append(name)\n",
    "    model.fit(x_train,y_train)\n",
    "    pre=model.predict(x_test)\n",
    "    r2=r2_score(y_test,pre)\n",
    "    print('R2_score = ',r2*100)\n",
    "    R2_score.append(r2*100)\n",
    "    mse=mean_squared_error(y_test,pre)\n",
    "    print(\"Mean_Squared_Error =\",mse)\n",
    "    MSE.append(mse)\n",
    "    score= abs(cross_val_score(model,x1,y1,cv=10,scoring='r2')).mean()\n",
    "    print('Cross_Val_Score = ',score*100)\n",
    "    cvs.append(score*100)\n",
    "    print('\\n')"
   ]
  },
  {
   "cell_type": "code",
   "execution_count": 46,
   "metadata": {},
   "outputs": [
    {
     "data": {
      "text/html": [
       "<div>\n",
       "<style scoped>\n",
       "    .dataframe tbody tr th:only-of-type {\n",
       "        vertical-align: middle;\n",
       "    }\n",
       "\n",
       "    .dataframe tbody tr th {\n",
       "        vertical-align: top;\n",
       "    }\n",
       "\n",
       "    .dataframe thead th {\n",
       "        text-align: right;\n",
       "    }\n",
       "</style>\n",
       "<table border=\"1\" class=\"dataframe\">\n",
       "  <thead>\n",
       "    <tr style=\"text-align: right;\">\n",
       "      <th></th>\n",
       "      <th>Regression Model</th>\n",
       "      <th>R2 Score</th>\n",
       "      <th>Mean Squared Error</th>\n",
       "      <th>Cross Validation score</th>\n",
       "    </tr>\n",
       "  </thead>\n",
       "  <tbody>\n",
       "    <tr>\n",
       "      <th>0</th>\n",
       "      <td>Lasso</td>\n",
       "      <td>-0.232139</td>\n",
       "      <td>0.037380</td>\n",
       "      <td>14.134899</td>\n",
       "    </tr>\n",
       "    <tr>\n",
       "      <th>1</th>\n",
       "      <td>Ridge</td>\n",
       "      <td>39.544549</td>\n",
       "      <td>0.022546</td>\n",
       "      <td>31.319146</td>\n",
       "    </tr>\n",
       "    <tr>\n",
       "      <th>2</th>\n",
       "      <td>ElasticNet</td>\n",
       "      <td>-0.232139</td>\n",
       "      <td>0.037380</td>\n",
       "      <td>14.134899</td>\n",
       "    </tr>\n",
       "    <tr>\n",
       "      <th>3</th>\n",
       "      <td>DecisionTreeRegressor</td>\n",
       "      <td>69.385203</td>\n",
       "      <td>0.011417</td>\n",
       "      <td>74.726100</td>\n",
       "    </tr>\n",
       "    <tr>\n",
       "      <th>4</th>\n",
       "      <td>KNeighborsRegressor</td>\n",
       "      <td>77.169417</td>\n",
       "      <td>0.008514</td>\n",
       "      <td>54.447783</td>\n",
       "    </tr>\n",
       "    <tr>\n",
       "      <th>5</th>\n",
       "      <td>AdaBoostRegressor</td>\n",
       "      <td>58.771602</td>\n",
       "      <td>0.015376</td>\n",
       "      <td>32.289840</td>\n",
       "    </tr>\n",
       "    <tr>\n",
       "      <th>6</th>\n",
       "      <td>RandomForestRegressor</td>\n",
       "      <td>80.041893</td>\n",
       "      <td>0.007443</td>\n",
       "      <td>45.901081</td>\n",
       "    </tr>\n",
       "    <tr>\n",
       "      <th>7</th>\n",
       "      <td>GradientBoostingRegressor</td>\n",
       "      <td>71.187097</td>\n",
       "      <td>0.010745</td>\n",
       "      <td>45.472513</td>\n",
       "    </tr>\n",
       "  </tbody>\n",
       "</table>\n",
       "</div>"
      ],
      "text/plain": [
       "            Regression Model   R2 Score  Mean Squared Error  \\\n",
       "0                      Lasso  -0.232139            0.037380   \n",
       "1                      Ridge  39.544549            0.022546   \n",
       "2                 ElasticNet  -0.232139            0.037380   \n",
       "3      DecisionTreeRegressor  69.385203            0.011417   \n",
       "4        KNeighborsRegressor  77.169417            0.008514   \n",
       "5          AdaBoostRegressor  58.771602            0.015376   \n",
       "6      RandomForestRegressor  80.041893            0.007443   \n",
       "7  GradientBoostingRegressor  71.187097            0.010745   \n",
       "\n",
       "   Cross Validation score  \n",
       "0               14.134899  \n",
       "1               31.319146  \n",
       "2               14.134899  \n",
       "3               74.726100  \n",
       "4               54.447783  \n",
       "5               32.289840  \n",
       "6               45.901081  \n",
       "7               45.472513  "
      ]
     },
     "execution_count": 46,
     "metadata": {},
     "output_type": "execute_result"
    }
   ],
   "source": [
    "result = pd.DataFrame({'Regression Model': Model, 'R2 Score': R2_score ,'Mean Squared Error' :MSE,'Cross Validation score':cvs})\n",
    "result"
   ]
  },
  {
   "cell_type": "markdown",
   "metadata": {},
   "source": [
    "**Out of all the models we see that KNeighborsRegressor and RandomForestRegressor is performing comparitively better.**"
   ]
  },
  {
   "cell_type": "markdown",
   "metadata": {},
   "source": [
    "**We will choose KNeighborsRegressor because Cross Validation score for this model is better and is indicating that it is not over or under fitting our data, but for RandomForestRegressor Cross Validation score is too low**"
   ]
  },
  {
   "cell_type": "markdown",
   "metadata": {},
   "source": [
    "**We are getting maximum accuracy of only 77.16%, lets try to make our model better so that our accuracy increases**"
   ]
  },
  {
   "cell_type": "markdown",
   "metadata": {},
   "source": [
    "***Lets find best hyperparameters for KNeighborsRegressor using grid search***"
   ]
  },
  {
   "cell_type": "code",
   "execution_count": 47,
   "metadata": {},
   "outputs": [
    {
     "name": "stdout",
     "output_type": "stream",
     "text": [
      "Best leaf_size: 1\n",
      "Best p: 1\n",
      "Best n_neighbors: 29\n"
     ]
    }
   ],
   "source": [
    "from sklearn.model_selection import GridSearchCV\n",
    "leaf_size = list(range(1,50))\n",
    "n_neighbors = list(range(1,30))\n",
    "p=[1,2]\n",
    "hyperparameters = dict(leaf_size=leaf_size, n_neighbors=n_neighbors, p=p)\n",
    "clf = GridSearchCV(KNR, hyperparameters, cv=10)\n",
    "best_model = clf.fit(x1,y1)\n",
    "print('Best leaf_size:', best_model.best_estimator_.get_params()['leaf_size'])\n",
    "print('Best p:', best_model.best_estimator_.get_params()['p'])\n",
    "print('Best n_neighbors:', best_model.best_estimator_.get_params()['n_neighbors'])"
   ]
  },
  {
   "cell_type": "markdown",
   "metadata": {},
   "source": [
    "***Buliding Final Model***"
   ]
  },
  {
   "cell_type": "code",
   "execution_count": 48,
   "metadata": {},
   "outputs": [
    {
     "name": "stdout",
     "output_type": "stream",
     "text": [
      "R2_score =  0.6366941553569229\n",
      "Mean_Squared_Error = 0.013548984344034877\n",
      "RMSE is :  0.11640010457054958\n",
      "Cross_Val_Score =  0.36740525133101876\n"
     ]
    }
   ],
   "source": [
    "KNN=KNeighborsRegressor(n_neighbors=29,leaf_size=1, p=1)\n",
    "KNN.fit(x_train,y_train)\n",
    "pre=KNN.predict(x_test)\n",
    "r2=r2_score(y_test,pre)\n",
    "print('R2_score = ',r2)\n",
    "mse=mean_squared_error(y_test,pre)\n",
    "print(\"Mean_Squared_Error =\",mse)\n",
    "print(\"RMSE is : \",np.sqrt(mean_squared_error(y_test,pre)))\n",
    "score= abs(cross_val_score(KNN,x1,y1,cv=10,scoring='r2')).mean()\n",
    "print('Cross_Val_Score = ',score)"
   ]
  },
  {
   "cell_type": "code",
   "execution_count": 49,
   "metadata": {},
   "outputs": [
    {
     "name": "stdout",
     "output_type": "stream",
     "text": [
      "R2_score =  0.7716941705290439\n",
      "Mean_Squared_Error = 0.00851434722222222\n",
      "RMSE is :  0.09227322050422983\n",
      "Cross_Val_Score =  0.5444778323995443\n"
     ]
    }
   ],
   "source": [
    "KNN1=KNeighborsRegressor()\n",
    "KNN1.fit(x_train,y_train)\n",
    "pre=KNN1.predict(x_test)\n",
    "r2=r2_score(y_test,pre)\n",
    "print('R2_score = ',r2)\n",
    "mse=mean_squared_error(y_test,pre)\n",
    "print(\"Mean_Squared_Error =\",mse)\n",
    "print(\"RMSE is : \",np.sqrt(mean_squared_error(y_test,pre)))\n",
    "score= abs(cross_val_score(KNN1,x1,y1,cv=10,scoring='r2')).mean()\n",
    "print('Cross_Val_Score = ',score)"
   ]
  },
  {
   "cell_type": "markdown",
   "metadata": {},
   "source": [
    "Our model is giving better accuracy and minimum error with acceptable cross validation score for default values itself, hence we are going to finalise that only as our final model"
   ]
  },
  {
   "cell_type": "markdown",
   "metadata": {},
   "source": [
    "***Lets visualize the performace of our model***"
   ]
  },
  {
   "cell_type": "markdown",
   "metadata": {},
   "source": [
    "***Improting libraries for plotting***"
   ]
  },
  {
   "cell_type": "code",
   "execution_count": 50,
   "metadata": {},
   "outputs": [],
   "source": [
    "%%capture\n",
    "! pip install ipywidgets\n",
    "from IPython.display import display\n",
    "from IPython.html import widgets \n",
    "from IPython.display import display\n",
    "from ipywidgets import interact, interactive, fixed, interact_manual"
   ]
  },
  {
   "cell_type": "code",
   "execution_count": 51,
   "metadata": {},
   "outputs": [],
   "source": [
    "def DistributionPlot(RedFunction, BlueFunction, RedName, BlueName, Title):\n",
    "    width = 12\n",
    "    height = 10\n",
    "    plt.figure(figsize=(width, height))\n",
    "    ax1 = sns.distplot(RedFunction, hist=False, color=\"r\", label=RedName)\n",
    "    ax2 = sns.distplot(BlueFunction, hist=False, color=\"b\", label=BlueName, ax=ax1)\n",
    "    plt.title(Title)\n",
    "    plt.xlabel('Input features')\n",
    "    plt.ylabel('Average Price')\n",
    "    plt.show()\n",
    "    plt.close()\n",
    "    \n",
    "def PollyPlot(x_train, x_test, y_train, y_test, lr,poly_transform):\n",
    "    width = 12\n",
    "    height = 10\n",
    "    plt.figure(figsize=(width, height))\n",
    "    xmax=max([xtrain.values.max(), xtest.values.max()])\n",
    "    xmin=min([xtrain.values.min(), xtest.values.min()])\n",
    "    x=np.arange(xmin, xmax, 0.1)\n",
    "    plt.plot(xtrain, y_train, 'ro', label='Training Data')\n",
    "    plt.plot(xtest, y_test, 'go', label='Test Data')\n",
    "    plt.plot(x, lr.predict(poly_transform.fit_transform(x.reshape(-1, 1))), label='Predicted Function')\n",
    "    plt.ylim([-10000, 60000])\n",
    "    plt.ylabel('Price')\n",
    "    plt.legend()"
   ]
  },
  {
   "cell_type": "markdown",
   "metadata": {},
   "source": [
    "***Creating Functions for Plotting***"
   ]
  },
  {
   "cell_type": "markdown",
   "metadata": {},
   "source": [
    "Prediction using train data:"
   ]
  },
  {
   "cell_type": "code",
   "execution_count": 52,
   "metadata": {},
   "outputs": [],
   "source": [
    "yh_train = KNN1.predict(x_train)"
   ]
  },
  {
   "cell_type": "markdown",
   "metadata": {},
   "source": [
    "Prediction using test data:"
   ]
  },
  {
   "cell_type": "code",
   "execution_count": 53,
   "metadata": {},
   "outputs": [],
   "source": [
    "yh_test = KNN1.predict(x_test)"
   ]
  },
  {
   "cell_type": "code",
   "execution_count": 54,
   "metadata": {},
   "outputs": [
    {
     "data": {
      "image/png": "[encoded data removed]",
      "text/plain": [
       "<Figure size 864x720 with 1 Axes>"
      ]
     },
     "metadata": {},
     "output_type": "display_data"
    }
   ],
   "source": [
    "Title = 'Distribution  Plot of  Predicted Value Using Training Data vs Training Data Distribution'\n",
    "DistributionPlot(y_train, yh_train, \"Actual Values (Train)\", \"Predicted Values (Train)\", Title)"
   ]
  },
  {
   "cell_type": "code",
   "execution_count": 55,
   "metadata": {},
   "outputs": [
    {
     "data": {
      "image/png": "[encoded data removed]",
      "text/plain": [
       "<Figure size 864x720 with 1 Axes>"
      ]
     },
     "metadata": {},
     "output_type": "display_data"
    }
   ],
   "source": [
    "Title='Distribution  Plot of  Predicted Value Using Test Data vs Data Distribution of Test Data'\n",
    "DistributionPlot(y_test,yh_test,\"Actual Values (Test)\",\"Predicted Values (Test)\",Title)\n"
   ]
  },
  {
   "cell_type": "markdown",
   "metadata": {},
   "source": [
    "<h2>End of Machine learning Process for Regression</h2>\n"
   ]
  },
  {
   "cell_type": "markdown",
   "metadata": {},
   "source": [
    "<h1>Now lets save our final model for Regression</h1>"
   ]
  },
  {
   "cell_type": "code",
   "execution_count": 56,
   "metadata": {},
   "outputs": [
    {
     "data": {
      "text/plain": [
       "['Avacado_Regression.pkl']"
      ]
     },
     "execution_count": 56,
     "metadata": {},
     "output_type": "execute_result"
    }
   ],
   "source": [
    "import joblib\n",
    "joblib.dump(KNN1,'Avacado_Regression.pkl')"
   ]
  },
  {
   "cell_type": "markdown",
   "metadata": {},
   "source": [
    "**Lets do classification for our y2 output that is region**"
   ]
  },
  {
   "cell_type": "code",
   "execution_count": 57,
   "metadata": {},
   "outputs": [],
   "source": [
    "x_train,x_test,y_train,y_test=train_test_split(x2,y2,test_size=0.3,random_state=42)\n",
    "from sklearn.metrics import classification_report,accuracy_score"
   ]
  },
  {
   "cell_type": "code",
   "execution_count": 58,
   "metadata": {},
   "outputs": [],
   "source": [
    "from sklearn.neighbors import KNeighborsClassifier\n",
    "from sklearn.svm import SVC\n",
    "from sklearn.linear_model import LogisticRegression\n",
    "from sklearn.tree import DecisionTreeClassifier\n",
    "from sklearn.naive_bayes import MultinomialNB"
   ]
  },
  {
   "cell_type": "markdown",
   "metadata": {},
   "source": [
    "MultinomialNB is not inculded because after scaling our data has negative values"
   ]
  },
  {
   "cell_type": "code",
   "execution_count": 59,
   "metadata": {},
   "outputs": [],
   "source": [
    "KNN=KNeighborsClassifier(n_neighbors=6)\n",
    "SV=SVC()\n",
    "LR=LogisticRegression()\n",
    "DT=DecisionTreeClassifier(random_state=6)"
   ]
  },
  {
   "cell_type": "code",
   "execution_count": 60,
   "metadata": {},
   "outputs": [],
   "source": [
    "models = []\n",
    "models.append(('KNeighborsClassifier', KNN))\n",
    "models.append(('SVC', SV))\n",
    "models.append(('LogisticRegression', LR))\n",
    "models.append(('DecisionTreeClassifier', DT))"
   ]
  },
  {
   "cell_type": "code",
   "execution_count": 61,
   "metadata": {},
   "outputs": [
    {
     "name": "stdout",
     "output_type": "stream",
     "text": [
      "*-----------------------------* KNeighborsClassifier *------------------------------*\n",
      "\n",
      "\n",
      "KNeighborsClassifier(n_neighbors=6)\n",
      "\n",
      "\n",
      "Accuracy_score =  75.87006960556845\n",
      "\n",
      "\n",
      "Cross_Val_Score =  78.0696386946387\n",
      "\n",
      "\n",
      "classification_report\n",
      "               precision    recall  f1-score   support\n",
      "\n",
      "           0       0.83      0.94      0.88        16\n",
      "           1       0.57      0.87      0.68        15\n",
      "           2       0.86      0.90      0.88        21\n",
      "           3       0.68      1.00      0.81        15\n",
      "           4       0.72      0.93      0.81        14\n",
      "           5       0.93      0.88      0.90        16\n",
      "           6       0.87      1.00      0.93        13\n",
      "           7       0.59      0.83      0.69        12\n",
      "           8       0.62      0.71      0.67         7\n",
      "           9       0.65      1.00      0.79        15\n",
      "          10       0.86      0.86      0.86         7\n",
      "          11       0.75      0.86      0.80         7\n",
      "          12       0.94      1.00      0.97        17\n",
      "          13       0.83      1.00      0.91         5\n",
      "          14       1.00      1.00      1.00         2\n",
      "          15       0.75      0.60      0.67        10\n",
      "          16       1.00      1.00      1.00         3\n",
      "          17       0.71      1.00      0.83         5\n",
      "          18       0.80      1.00      0.89         4\n",
      "          19       0.71      0.91      0.80        11\n",
      "          20       0.00      0.00      0.00         2\n",
      "          22       0.92      0.92      0.92        13\n",
      "          23       0.75      0.50      0.60         6\n",
      "          24       1.00      1.00      1.00         7\n",
      "          25       1.00      0.15      0.27        13\n",
      "          26       1.00      1.00      1.00        12\n",
      "          28       1.00      0.38      0.55         8\n",
      "          29       0.33      0.67      0.44         3\n",
      "          30       1.00      1.00      1.00         4\n",
      "          31       0.92      0.69      0.79        16\n",
      "          32       1.00      0.75      0.86         8\n",
      "          33       1.00      0.50      0.67         2\n",
      "          34       0.44      0.57      0.50         7\n",
      "          35       0.25      0.20      0.22         5\n",
      "          36       0.38      0.33      0.35         9\n",
      "          37       0.80      0.80      0.80         5\n",
      "          38       1.00      0.60      0.75        10\n",
      "          39       1.00      1.00      1.00         5\n",
      "          40       0.00      0.00      0.00         4\n",
      "          41       0.67      0.22      0.33         9\n",
      "          42       0.62      0.93      0.74        14\n",
      "          43       1.00      1.00      1.00         3\n",
      "          44       1.00      0.93      0.97        15\n",
      "          45       1.00      0.33      0.50         6\n",
      "          46       0.50      0.33      0.40         3\n",
      "          47       0.38      0.27      0.32        11\n",
      "          49       1.00      0.18      0.31        11\n",
      "          50       0.50      1.00      0.67         5\n",
      "\n",
      "    accuracy                           0.76       431\n",
      "   macro avg       0.75      0.72      0.70       431\n",
      "weighted avg       0.78      0.76      0.73       431\n",
      "\n",
      "\n",
      "\n",
      "\n",
      "*-----------------------------* SVC *------------------------------*\n",
      "\n",
      "\n",
      "SVC()\n",
      "\n",
      "\n",
      "Accuracy_score =  67.28538283062645\n",
      "\n",
      "\n",
      "Cross_Val_Score =  71.24077311577311\n",
      "\n",
      "\n",
      "classification_report\n",
      "               precision    recall  f1-score   support\n",
      "\n",
      "           0       0.73      1.00      0.84        16\n",
      "           1       0.47      1.00      0.64        15\n",
      "           2       0.75      1.00      0.86        21\n",
      "           3       0.75      0.80      0.77        15\n",
      "           4       0.65      0.93      0.76        14\n",
      "           5       1.00      0.75      0.86        16\n",
      "           6       0.76      1.00      0.87        13\n",
      "           7       0.30      0.67      0.41        12\n",
      "           8       0.50      0.14      0.22         7\n",
      "           9       0.65      1.00      0.79        15\n",
      "          10       0.86      0.86      0.86         7\n",
      "          11       1.00      1.00      1.00         7\n",
      "          12       0.94      1.00      0.97        17\n",
      "          13       0.71      1.00      0.83         5\n",
      "          14       0.40      1.00      0.57         2\n",
      "          15       0.00      0.00      0.00        10\n",
      "          16       1.00      0.33      0.50         3\n",
      "          17       0.24      0.80      0.36         5\n",
      "          18       1.00      0.50      0.67         4\n",
      "          19       0.50      0.91      0.65        11\n",
      "          20       0.00      0.00      0.00         2\n",
      "          22       0.87      1.00      0.93        13\n",
      "          23       0.00      0.00      0.00         6\n",
      "          24       1.00      0.57      0.73         7\n",
      "          25       0.00      0.00      0.00        13\n",
      "          26       1.00      1.00      1.00        12\n",
      "          28       1.00      0.38      0.55         8\n",
      "          29       0.00      0.00      0.00         3\n",
      "          30       1.00      1.00      1.00         4\n",
      "          31       1.00      0.44      0.61        16\n",
      "          32       1.00      0.75      0.86         8\n",
      "          33       1.00      0.50      0.67         2\n",
      "          34       0.31      0.57      0.40         7\n",
      "          35       0.00      0.00      0.00         5\n",
      "          36       0.00      0.00      0.00         9\n",
      "          37       0.67      0.40      0.50         5\n",
      "          38       0.90      0.90      0.90        10\n",
      "          39       1.00      0.20      0.33         5\n",
      "          40       0.00      0.00      0.00         4\n",
      "          41       0.00      0.00      0.00         9\n",
      "          42       0.62      0.93      0.74        14\n",
      "          43       1.00      1.00      1.00         3\n",
      "          44       0.78      0.93      0.85        15\n",
      "          45       0.80      0.67      0.73         6\n",
      "          46       1.00      0.33      0.50         3\n",
      "          47       0.46      0.55      0.50        11\n",
      "          49       0.00      0.00      0.00        11\n",
      "          50       0.75      0.60      0.67         5\n",
      "\n",
      "    accuracy                           0.67       431\n",
      "   macro avg       0.61      0.59      0.56       431\n",
      "weighted avg       0.63      0.67      0.62       431\n",
      "\n",
      "\n",
      "\n",
      "\n",
      "*-----------------------------* LogisticRegression *------------------------------*\n",
      "\n",
      "\n",
      "LogisticRegression()\n",
      "\n",
      "\n",
      "Accuracy_score =  61.25290023201856\n",
      "\n",
      "\n",
      "Cross_Val_Score =  66.57051282051282\n",
      "\n",
      "\n",
      "classification_report\n",
      "               precision    recall  f1-score   support\n",
      "\n",
      "           0       0.73      1.00      0.84        16\n",
      "           1       0.33      0.93      0.49        15\n",
      "           2       0.67      0.86      0.75        21\n",
      "           3       0.57      0.80      0.67        15\n",
      "           4       0.65      0.93      0.76        14\n",
      "           5       1.00      0.81      0.90        16\n",
      "           6       0.87      1.00      0.93        13\n",
      "           7       0.38      0.50      0.43        12\n",
      "           8       0.50      0.43      0.46         7\n",
      "           9       0.65      1.00      0.79        15\n",
      "          10       0.00      0.00      0.00         7\n",
      "          11       1.00      0.71      0.83         7\n",
      "          12       0.94      1.00      0.97        17\n",
      "          13       1.00      1.00      1.00         5\n",
      "          14       0.22      1.00      0.36         2\n",
      "          15       0.00      0.00      0.00        10\n",
      "          16       0.00      0.00      0.00         3\n",
      "          17       0.27      0.80      0.40         5\n",
      "          18       0.00      0.00      0.00         4\n",
      "          19       0.38      1.00      0.55        11\n",
      "          20       0.00      0.00      0.00         2\n",
      "          22       0.72      1.00      0.84        13\n",
      "          23       0.00      0.00      0.00         6\n",
      "          24       0.00      0.00      0.00         7\n",
      "          25       0.00      0.00      0.00        13\n",
      "          26       1.00      1.00      1.00        12\n",
      "          28       0.75      0.38      0.50         8\n",
      "          29       0.00      0.00      0.00         3\n",
      "          30       1.00      1.00      1.00         4\n",
      "          31       0.56      0.62      0.59        16\n",
      "          32       1.00      0.88      0.93         8\n",
      "          33       1.00      1.00      1.00         2\n",
      "          34       0.40      0.57      0.47         7\n",
      "          35       1.00      0.20      0.33         5\n",
      "          36       0.00      0.00      0.00         9\n",
      "          37       0.25      0.20      0.22         5\n",
      "          38       0.64      0.70      0.67        10\n",
      "          39       0.00      0.00      0.00         5\n",
      "          40       0.00      0.00      0.00         4\n",
      "          41       0.00      0.00      0.00         9\n",
      "          42       0.62      0.93      0.74        14\n",
      "          43       0.00      0.00      0.00         3\n",
      "          44       0.63      0.80      0.71        15\n",
      "          45       0.75      0.50      0.60         6\n",
      "          46       0.00      0.00      0.00         3\n",
      "          47       0.29      0.18      0.22        11\n",
      "          49       1.00      0.18      0.31        11\n",
      "          50       1.00      0.20      0.33         5\n",
      "\n",
      "    accuracy                           0.61       431\n",
      "   macro avg       0.47      0.50      0.45       431\n",
      "weighted avg       0.54      0.61      0.54       431\n",
      "\n",
      "\n",
      "\n",
      "\n",
      "*-----------------------------* DecisionTreeClassifier *------------------------------*\n",
      "\n",
      "\n",
      "DecisionTreeClassifier(random_state=6)\n",
      "\n",
      "\n",
      "Accuracy_score =  80.51044083526682\n",
      "\n",
      "\n"
     ]
    },
    {
     "name": "stdout",
     "output_type": "stream",
     "text": [
      "Cross_Val_Score =  78.27068764568764\n",
      "\n",
      "\n",
      "classification_report\n",
      "               precision    recall  f1-score   support\n",
      "\n",
      "           0       0.93      0.88      0.90        16\n",
      "           1       0.71      0.67      0.69        15\n",
      "           2       0.86      0.90      0.88        21\n",
      "           3       0.93      0.93      0.93        15\n",
      "           4       1.00      0.86      0.92        14\n",
      "           5       0.88      0.88      0.88        16\n",
      "           6       0.81      1.00      0.90        13\n",
      "           7       0.64      0.58      0.61        12\n",
      "           8       0.50      0.57      0.53         7\n",
      "           9       0.76      0.87      0.81        15\n",
      "          10       0.86      0.86      0.86         7\n",
      "          11       1.00      1.00      1.00         7\n",
      "          12       0.94      1.00      0.97        17\n",
      "          13       1.00      1.00      1.00         5\n",
      "          14       1.00      1.00      1.00         2\n",
      "          15       0.78      0.70      0.74        10\n",
      "          16       0.75      1.00      0.86         3\n",
      "          17       0.67      0.80      0.73         5\n",
      "          18       1.00      1.00      1.00         4\n",
      "          19       0.83      0.91      0.87        11\n",
      "          20       1.00      1.00      1.00         2\n",
      "          22       0.87      1.00      0.93        13\n",
      "          23       0.50      0.50      0.50         6\n",
      "          24       1.00      1.00      1.00         7\n",
      "          25       1.00      0.62      0.76        13\n",
      "          26       1.00      1.00      1.00        12\n",
      "          28       0.88      0.88      0.88         8\n",
      "          29       0.33      0.67      0.44         3\n",
      "          30       1.00      1.00      1.00         4\n",
      "          31       0.86      0.75      0.80        16\n",
      "          32       1.00      0.75      0.86         8\n",
      "          33       1.00      0.50      0.67         2\n",
      "          34       0.60      0.43      0.50         7\n",
      "          35       0.50      0.40      0.44         5\n",
      "          36       0.57      0.44      0.50         9\n",
      "          37       0.20      0.40      0.27         5\n",
      "          38       0.80      0.80      0.80        10\n",
      "          39       0.67      0.80      0.73         5\n",
      "          40       1.00      0.50      0.67         4\n",
      "          41       0.62      0.56      0.59         9\n",
      "          42       0.81      0.93      0.87        14\n",
      "          43       1.00      1.00      1.00         3\n",
      "          44       0.93      0.87      0.90        15\n",
      "          45       0.75      1.00      0.86         6\n",
      "          46       0.75      1.00      0.86         3\n",
      "          47       0.64      0.64      0.64        11\n",
      "          49       1.00      0.55      0.71        11\n",
      "          50       0.50      0.80      0.62         5\n",
      "\n",
      "    accuracy                           0.81       431\n",
      "   macro avg       0.80      0.80      0.79       431\n",
      "weighted avg       0.82      0.81      0.81       431\n",
      "\n",
      "\n",
      "\n",
      "\n"
     ]
    }
   ],
   "source": [
    "Model = []\n",
    "score = []\n",
    "cvs=[]\n",
    "for name,model in models:\n",
    "    print('*-----------------------------*',name,'*------------------------------*')\n",
    "    print('\\n')\n",
    "    Model.append(name)\n",
    "    model.fit(x_train,y_train)\n",
    "    print(model)\n",
    "    pre=model.predict(x_test)\n",
    "    print('\\n')\n",
    "    AS=accuracy_score(y_test,pre)\n",
    "    print('Accuracy_score = ',AS*100)\n",
    "    score.append(AS*100)\n",
    "    print('\\n')\n",
    "    sc = cross_val_score(model, x2, y2, cv=10, scoring='accuracy').mean()\n",
    "    print('Cross_Val_Score = ',sc*100)\n",
    "    cvs.append(sc*100)\n",
    "    print('\\n')\n",
    "    print('classification_report\\n',classification_report(y_test,pre))\n",
    "    print('\\n\\n')"
   ]
  },
  {
   "cell_type": "code",
   "execution_count": 62,
   "metadata": {},
   "outputs": [
    {
     "data": {
      "text/html": [
       "<div>\n",
       "<style scoped>\n",
       "    .dataframe tbody tr th:only-of-type {\n",
       "        vertical-align: middle;\n",
       "    }\n",
       "\n",
       "    .dataframe tbody tr th {\n",
       "        vertical-align: top;\n",
       "    }\n",
       "\n",
       "    .dataframe thead th {\n",
       "        text-align: right;\n",
       "    }\n",
       "</style>\n",
       "<table border=\"1\" class=\"dataframe\">\n",
       "  <thead>\n",
       "    <tr style=\"text-align: right;\">\n",
       "      <th></th>\n",
       "      <th>Classification Model</th>\n",
       "      <th>Accuracy score</th>\n",
       "      <th>Cross Validation Score</th>\n",
       "    </tr>\n",
       "  </thead>\n",
       "  <tbody>\n",
       "    <tr>\n",
       "      <th>0</th>\n",
       "      <td>KNeighborsClassifier</td>\n",
       "      <td>75.870070</td>\n",
       "      <td>78.069639</td>\n",
       "    </tr>\n",
       "    <tr>\n",
       "      <th>1</th>\n",
       "      <td>SVC</td>\n",
       "      <td>67.285383</td>\n",
       "      <td>71.240773</td>\n",
       "    </tr>\n",
       "    <tr>\n",
       "      <th>2</th>\n",
       "      <td>LogisticRegression</td>\n",
       "      <td>61.252900</td>\n",
       "      <td>66.570513</td>\n",
       "    </tr>\n",
       "    <tr>\n",
       "      <th>3</th>\n",
       "      <td>DecisionTreeClassifier</td>\n",
       "      <td>80.510441</td>\n",
       "      <td>78.270688</td>\n",
       "    </tr>\n",
       "  </tbody>\n",
       "</table>\n",
       "</div>"
      ],
      "text/plain": [
       "     Classification Model  Accuracy score  Cross Validation Score\n",
       "0    KNeighborsClassifier       75.870070               78.069639\n",
       "1                     SVC       67.285383               71.240773\n",
       "2      LogisticRegression       61.252900               66.570513\n",
       "3  DecisionTreeClassifier       80.510441               78.270688"
      ]
     },
     "execution_count": 62,
     "metadata": {},
     "output_type": "execute_result"
    }
   ],
   "source": [
    "result = pd.DataFrame({'Classification Model': Model, 'Accuracy score': score ,'Cross Validation Score':cvs})\n",
    "result"
   ]
  },
  {
   "cell_type": "markdown",
   "metadata": {},
   "source": [
    "KNeighborsClassifier is giving accuracy less than DecisionTreeClassifier but Cross validation of both of them seems to be same, so lets try to find hyper parameters for the same and see if it improves our model performance. "
   ]
  },
  {
   "cell_type": "markdown",
   "metadata": {},
   "source": [
    "***Lets find best hyperparameters for KNeighborsClassifier using grid search***"
   ]
  },
  {
   "cell_type": "code",
   "execution_count": 63,
   "metadata": {},
   "outputs": [
    {
     "name": "stdout",
     "output_type": "stream",
     "text": [
      "Best leaf_size: 1\n",
      "Best p: 2\n",
      "Best n_neighbors: 1\n"
     ]
    }
   ],
   "source": [
    "leaf_size = list(range(1,50))\n",
    "n_neighbors = list(range(1,30))\n",
    "p=[1,2]\n",
    "hyperparameters = dict(leaf_size=leaf_size, n_neighbors=n_neighbors, p=p)\n",
    "clf = GridSearchCV(KNN, hyperparameters, cv=10)\n",
    "best_model = clf.fit(x2,y2)\n",
    "print('Best leaf_size:', best_model.best_estimator_.get_params()['leaf_size'])\n",
    "print('Best p:', best_model.best_estimator_.get_params()['p'])\n",
    "print('Best n_neighbors:', best_model.best_estimator_.get_params()['n_neighbors'])"
   ]
  },
  {
   "cell_type": "markdown",
   "metadata": {},
   "source": [
    "***Buliding Final Model***"
   ]
  },
  {
   "cell_type": "code",
   "execution_count": 64,
   "metadata": {},
   "outputs": [
    {
     "name": "stdout",
     "output_type": "stream",
     "text": [
      "Accuracy_score =  84.68677494199535\n",
      "Cross_Val_Score =  83.70095182595183\n"
     ]
    }
   ],
   "source": [
    "KNC=KNeighborsClassifier(n_neighbors=1,leaf_size=1, p=2)\n",
    "KNC.fit(x_train,y_train)\n",
    "pre=KNC.predict(x_test)\n",
    "AS=accuracy_score(y_test,pre)\n",
    "print('Accuracy_score = ',AS*100)\n",
    "sc = abs(cross_val_score(KNC, x2, y2, cv=10, scoring='accuracy')).mean()\n",
    "print('Cross_Val_Score = ',sc*100)\n"
   ]
  },
  {
   "cell_type": "markdown",
   "metadata": {},
   "source": [
    "***Lets visualize the performace of our model***"
   ]
  },
  {
   "cell_type": "markdown",
   "metadata": {},
   "source": [
    "***Creating Functions for Plotting***"
   ]
  },
  {
   "cell_type": "code",
   "execution_count": 71,
   "metadata": {},
   "outputs": [],
   "source": [
    "def DistributionPlot(RedFunction, BlueFunction, RedName, BlueName, Title):\n",
    "    width = 12\n",
    "    height = 10\n",
    "    plt.figure(figsize=(width, height))\n",
    "    ax1 = sns.distplot(RedFunction, hist=False, color=\"r\", label=RedName)\n",
    "    ax2 = sns.distplot(BlueFunction, hist=False, color=\"b\", label=BlueName, ax=ax1)\n",
    "    plt.title(Title)\n",
    "    plt.xlabel('Input features')\n",
    "    plt.ylabel('region')\n",
    "    plt.show()\n",
    "    plt.close()"
   ]
  },
  {
   "cell_type": "markdown",
   "metadata": {},
   "source": [
    "Prediction using test data:"
   ]
  },
  {
   "cell_type": "code",
   "execution_count": 73,
   "metadata": {},
   "outputs": [],
   "source": [
    "yh_test = KNC.predict(x_test)"
   ]
  },
  {
   "cell_type": "code",
   "execution_count": 75,
   "metadata": {},
   "outputs": [
    {
     "data": {
      "image/png": "[encoded data removed]",
      "text/plain": [
       "<Figure size 864x720 with 1 Axes>"
      ]
     },
     "metadata": {},
     "output_type": "display_data"
    }
   ],
   "source": [
    "Title='Distribution  Plot of  Predicted Value Using Test Data vs Data Distribution of Test Data'\n",
    "DistributionPlot(y_test,yh_test,\"Actual Values (Test)\",\"Predicted Values (Test)\",Title)\n"
   ]
  },
  {
   "cell_type": "markdown",
   "metadata": {},
   "source": [
    "<h1>Now lets save our final model for classification</h1>"
   ]
  },
  {
   "cell_type": "code",
   "execution_count": 70,
   "metadata": {},
   "outputs": [
    {
     "data": {
      "text/plain": [
       "['Avacado_Classification.pkl']"
      ]
     },
     "execution_count": 70,
     "metadata": {},
     "output_type": "execute_result"
    }
   ],
   "source": [
    "joblib.dump(KNC,'Avacado_Classification.pkl')"
   ]
  },
  {
   "cell_type": "markdown",
   "metadata": {},
   "source": [
    "<img src=\"https://knowledge.wharton.upenn.edu/wp-content/uploads/2020/05/Women-in-data-science.jpg\">"
   ]
  }
 ],
 "metadata": {
  "kernelspec": {
   "display_name": "Python 3",
   "language": "python",
   "name": "python3"
  },
  "language_info": {
   "codemirror_mode": {
    "name": "ipython",
    "version": 3
   },
   "file_extension": ".py",
   "mimetype": "text/x-python",
   "name": "python",
   "nbconvert_exporter": "python",
   "pygments_lexer": "ipython3",
   "version": "3.8.3"
  }
 },
 "nbformat": 4,
 "nbformat_minor": 4
}
